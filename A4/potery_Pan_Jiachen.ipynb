{
  "nbformat": 4,
  "nbformat_minor": 0,
  "metadata": {
    "colab": {
      "provenance": []
    },
    "kernelspec": {
      "name": "python3",
      "display_name": "Python 3"
    },
    "language_info": {
      "name": "python"
    }
  },
  "cells": [
    {
      "cell_type": "markdown",
      "source": [
        "# **1.1 Data exploration with PCA**\n",
        "1. Import and view the data. How many columns do you have? Which columns will you\n",
        "use in your PCA?"
      ],
      "metadata": {
        "id": "T-jkRQOWm_O-"
      }
    },
    {
      "cell_type": "code",
      "execution_count": null,
      "metadata": {
        "id": "VJxGTymQmTmc"
      },
      "outputs": [],
      "source": [
        "import pandas as pd \n",
        "import numpy as np\n",
        "from sklearn.decomposition import PCA"
      ]
    },
    {
      "cell_type": "code",
      "source": [
        "df1 = pd.read_csv('Pottery.csv')\n",
        "df1"
      ],
      "metadata": {
        "colab": {
          "base_uri": "https://localhost:8080/",
          "height": 865
        },
        "id": "r6NUIhGKnLnT",
        "outputId": "27b2c7fa-3d92-4732-c0ae-436bb7ac0999"
      },
      "execution_count": null,
      "outputs": [
        {
          "output_type": "execute_result",
          "data": {
            "text/plain": [
              "    Unnamed: 0         Site    Al    Fe    Mg    Ca    Na\n",
              "0            1    Llanedyrn  14.4  7.00  4.30  0.15  0.51\n",
              "1            2    Llanedyrn  13.8  7.08  3.43  0.12  0.17\n",
              "2            3    Llanedyrn  14.6  7.09  3.88  0.13  0.20\n",
              "3            4    Llanedyrn  11.5  6.37  5.64  0.16  0.14\n",
              "4            5    Llanedyrn  13.8  7.06  5.34  0.20  0.20\n",
              "5            6    Llanedyrn  10.9  6.26  3.47  0.17  0.22\n",
              "6            7    Llanedyrn  10.1  4.26  4.26  0.20  0.18\n",
              "7            8    Llanedyrn  11.6  5.78  5.91  0.18  0.16\n",
              "8            9    Llanedyrn  11.1  5.49  4.52  0.29  0.30\n",
              "9           10    Llanedyrn  13.4  6.92  7.23  0.28  0.20\n",
              "10          11    Llanedyrn  12.4  6.13  5.69  0.22  0.54\n",
              "11          12    Llanedyrn  13.1  6.64  5.51  0.31  0.24\n",
              "12          13    Llanedyrn  12.7  6.69  4.45  0.20  0.22\n",
              "13          14    Llanedyrn  12.5  6.44  3.94  0.22  0.23\n",
              "14          15     Caldicot  11.8  5.44  3.94  0.30  0.04\n",
              "15          16     Caldicot  11.6  5.39  3.77  0.29  0.06\n",
              "16          17   IsleThorns  18.3  1.28  0.67  0.03  0.03\n",
              "17          18   IsleThorns  15.8  2.39  0.63  0.01  0.04\n",
              "18          19   IsleThorns  18.0  1.50  0.67  0.01  0.06\n",
              "19          20   IsleThorns  18.0  1.88  0.68  0.01  0.04\n",
              "20          21   IsleThorns  20.8  1.51  0.72  0.07  0.10\n",
              "21          22  AshleyRails  17.7  1.12  0.56  0.06  0.06\n",
              "22          23  AshleyRails  18.3  1.14  0.67  0.06  0.05\n",
              "23          24  AshleyRails  16.7  0.92  0.53  0.01  0.05\n",
              "24          25  AshleyRails  14.8  2.74  0.67  0.03  0.05\n",
              "25          26  AshleyRails  19.1  1.64  0.60  0.10  0.03"
            ],
            "text/html": [
              "\n",
              "  <div id=\"df-8efa3e51-9129-4db7-b1cf-3c2ecb646b2c\">\n",
              "    <div class=\"colab-df-container\">\n",
              "      <div>\n",
              "<style scoped>\n",
              "    .dataframe tbody tr th:only-of-type {\n",
              "        vertical-align: middle;\n",
              "    }\n",
              "\n",
              "    .dataframe tbody tr th {\n",
              "        vertical-align: top;\n",
              "    }\n",
              "\n",
              "    .dataframe thead th {\n",
              "        text-align: right;\n",
              "    }\n",
              "</style>\n",
              "<table border=\"1\" class=\"dataframe\">\n",
              "  <thead>\n",
              "    <tr style=\"text-align: right;\">\n",
              "      <th></th>\n",
              "      <th>Unnamed: 0</th>\n",
              "      <th>Site</th>\n",
              "      <th>Al</th>\n",
              "      <th>Fe</th>\n",
              "      <th>Mg</th>\n",
              "      <th>Ca</th>\n",
              "      <th>Na</th>\n",
              "    </tr>\n",
              "  </thead>\n",
              "  <tbody>\n",
              "    <tr>\n",
              "      <th>0</th>\n",
              "      <td>1</td>\n",
              "      <td>Llanedyrn</td>\n",
              "      <td>14.4</td>\n",
              "      <td>7.00</td>\n",
              "      <td>4.30</td>\n",
              "      <td>0.15</td>\n",
              "      <td>0.51</td>\n",
              "    </tr>\n",
              "    <tr>\n",
              "      <th>1</th>\n",
              "      <td>2</td>\n",
              "      <td>Llanedyrn</td>\n",
              "      <td>13.8</td>\n",
              "      <td>7.08</td>\n",
              "      <td>3.43</td>\n",
              "      <td>0.12</td>\n",
              "      <td>0.17</td>\n",
              "    </tr>\n",
              "    <tr>\n",
              "      <th>2</th>\n",
              "      <td>3</td>\n",
              "      <td>Llanedyrn</td>\n",
              "      <td>14.6</td>\n",
              "      <td>7.09</td>\n",
              "      <td>3.88</td>\n",
              "      <td>0.13</td>\n",
              "      <td>0.20</td>\n",
              "    </tr>\n",
              "    <tr>\n",
              "      <th>3</th>\n",
              "      <td>4</td>\n",
              "      <td>Llanedyrn</td>\n",
              "      <td>11.5</td>\n",
              "      <td>6.37</td>\n",
              "      <td>5.64</td>\n",
              "      <td>0.16</td>\n",
              "      <td>0.14</td>\n",
              "    </tr>\n",
              "    <tr>\n",
              "      <th>4</th>\n",
              "      <td>5</td>\n",
              "      <td>Llanedyrn</td>\n",
              "      <td>13.8</td>\n",
              "      <td>7.06</td>\n",
              "      <td>5.34</td>\n",
              "      <td>0.20</td>\n",
              "      <td>0.20</td>\n",
              "    </tr>\n",
              "    <tr>\n",
              "      <th>5</th>\n",
              "      <td>6</td>\n",
              "      <td>Llanedyrn</td>\n",
              "      <td>10.9</td>\n",
              "      <td>6.26</td>\n",
              "      <td>3.47</td>\n",
              "      <td>0.17</td>\n",
              "      <td>0.22</td>\n",
              "    </tr>\n",
              "    <tr>\n",
              "      <th>6</th>\n",
              "      <td>7</td>\n",
              "      <td>Llanedyrn</td>\n",
              "      <td>10.1</td>\n",
              "      <td>4.26</td>\n",
              "      <td>4.26</td>\n",
              "      <td>0.20</td>\n",
              "      <td>0.18</td>\n",
              "    </tr>\n",
              "    <tr>\n",
              "      <th>7</th>\n",
              "      <td>8</td>\n",
              "      <td>Llanedyrn</td>\n",
              "      <td>11.6</td>\n",
              "      <td>5.78</td>\n",
              "      <td>5.91</td>\n",
              "      <td>0.18</td>\n",
              "      <td>0.16</td>\n",
              "    </tr>\n",
              "    <tr>\n",
              "      <th>8</th>\n",
              "      <td>9</td>\n",
              "      <td>Llanedyrn</td>\n",
              "      <td>11.1</td>\n",
              "      <td>5.49</td>\n",
              "      <td>4.52</td>\n",
              "      <td>0.29</td>\n",
              "      <td>0.30</td>\n",
              "    </tr>\n",
              "    <tr>\n",
              "      <th>9</th>\n",
              "      <td>10</td>\n",
              "      <td>Llanedyrn</td>\n",
              "      <td>13.4</td>\n",
              "      <td>6.92</td>\n",
              "      <td>7.23</td>\n",
              "      <td>0.28</td>\n",
              "      <td>0.20</td>\n",
              "    </tr>\n",
              "    <tr>\n",
              "      <th>10</th>\n",
              "      <td>11</td>\n",
              "      <td>Llanedyrn</td>\n",
              "      <td>12.4</td>\n",
              "      <td>6.13</td>\n",
              "      <td>5.69</td>\n",
              "      <td>0.22</td>\n",
              "      <td>0.54</td>\n",
              "    </tr>\n",
              "    <tr>\n",
              "      <th>11</th>\n",
              "      <td>12</td>\n",
              "      <td>Llanedyrn</td>\n",
              "      <td>13.1</td>\n",
              "      <td>6.64</td>\n",
              "      <td>5.51</td>\n",
              "      <td>0.31</td>\n",
              "      <td>0.24</td>\n",
              "    </tr>\n",
              "    <tr>\n",
              "      <th>12</th>\n",
              "      <td>13</td>\n",
              "      <td>Llanedyrn</td>\n",
              "      <td>12.7</td>\n",
              "      <td>6.69</td>\n",
              "      <td>4.45</td>\n",
              "      <td>0.20</td>\n",
              "      <td>0.22</td>\n",
              "    </tr>\n",
              "    <tr>\n",
              "      <th>13</th>\n",
              "      <td>14</td>\n",
              "      <td>Llanedyrn</td>\n",
              "      <td>12.5</td>\n",
              "      <td>6.44</td>\n",
              "      <td>3.94</td>\n",
              "      <td>0.22</td>\n",
              "      <td>0.23</td>\n",
              "    </tr>\n",
              "    <tr>\n",
              "      <th>14</th>\n",
              "      <td>15</td>\n",
              "      <td>Caldicot</td>\n",
              "      <td>11.8</td>\n",
              "      <td>5.44</td>\n",
              "      <td>3.94</td>\n",
              "      <td>0.30</td>\n",
              "      <td>0.04</td>\n",
              "    </tr>\n",
              "    <tr>\n",
              "      <th>15</th>\n",
              "      <td>16</td>\n",
              "      <td>Caldicot</td>\n",
              "      <td>11.6</td>\n",
              "      <td>5.39</td>\n",
              "      <td>3.77</td>\n",
              "      <td>0.29</td>\n",
              "      <td>0.06</td>\n",
              "    </tr>\n",
              "    <tr>\n",
              "      <th>16</th>\n",
              "      <td>17</td>\n",
              "      <td>IsleThorns</td>\n",
              "      <td>18.3</td>\n",
              "      <td>1.28</td>\n",
              "      <td>0.67</td>\n",
              "      <td>0.03</td>\n",
              "      <td>0.03</td>\n",
              "    </tr>\n",
              "    <tr>\n",
              "      <th>17</th>\n",
              "      <td>18</td>\n",
              "      <td>IsleThorns</td>\n",
              "      <td>15.8</td>\n",
              "      <td>2.39</td>\n",
              "      <td>0.63</td>\n",
              "      <td>0.01</td>\n",
              "      <td>0.04</td>\n",
              "    </tr>\n",
              "    <tr>\n",
              "      <th>18</th>\n",
              "      <td>19</td>\n",
              "      <td>IsleThorns</td>\n",
              "      <td>18.0</td>\n",
              "      <td>1.50</td>\n",
              "      <td>0.67</td>\n",
              "      <td>0.01</td>\n",
              "      <td>0.06</td>\n",
              "    </tr>\n",
              "    <tr>\n",
              "      <th>19</th>\n",
              "      <td>20</td>\n",
              "      <td>IsleThorns</td>\n",
              "      <td>18.0</td>\n",
              "      <td>1.88</td>\n",
              "      <td>0.68</td>\n",
              "      <td>0.01</td>\n",
              "      <td>0.04</td>\n",
              "    </tr>\n",
              "    <tr>\n",
              "      <th>20</th>\n",
              "      <td>21</td>\n",
              "      <td>IsleThorns</td>\n",
              "      <td>20.8</td>\n",
              "      <td>1.51</td>\n",
              "      <td>0.72</td>\n",
              "      <td>0.07</td>\n",
              "      <td>0.10</td>\n",
              "    </tr>\n",
              "    <tr>\n",
              "      <th>21</th>\n",
              "      <td>22</td>\n",
              "      <td>AshleyRails</td>\n",
              "      <td>17.7</td>\n",
              "      <td>1.12</td>\n",
              "      <td>0.56</td>\n",
              "      <td>0.06</td>\n",
              "      <td>0.06</td>\n",
              "    </tr>\n",
              "    <tr>\n",
              "      <th>22</th>\n",
              "      <td>23</td>\n",
              "      <td>AshleyRails</td>\n",
              "      <td>18.3</td>\n",
              "      <td>1.14</td>\n",
              "      <td>0.67</td>\n",
              "      <td>0.06</td>\n",
              "      <td>0.05</td>\n",
              "    </tr>\n",
              "    <tr>\n",
              "      <th>23</th>\n",
              "      <td>24</td>\n",
              "      <td>AshleyRails</td>\n",
              "      <td>16.7</td>\n",
              "      <td>0.92</td>\n",
              "      <td>0.53</td>\n",
              "      <td>0.01</td>\n",
              "      <td>0.05</td>\n",
              "    </tr>\n",
              "    <tr>\n",
              "      <th>24</th>\n",
              "      <td>25</td>\n",
              "      <td>AshleyRails</td>\n",
              "      <td>14.8</td>\n",
              "      <td>2.74</td>\n",
              "      <td>0.67</td>\n",
              "      <td>0.03</td>\n",
              "      <td>0.05</td>\n",
              "    </tr>\n",
              "    <tr>\n",
              "      <th>25</th>\n",
              "      <td>26</td>\n",
              "      <td>AshleyRails</td>\n",
              "      <td>19.1</td>\n",
              "      <td>1.64</td>\n",
              "      <td>0.60</td>\n",
              "      <td>0.10</td>\n",
              "      <td>0.03</td>\n",
              "    </tr>\n",
              "  </tbody>\n",
              "</table>\n",
              "</div>\n",
              "      <button class=\"colab-df-convert\" onclick=\"convertToInteractive('df-8efa3e51-9129-4db7-b1cf-3c2ecb646b2c')\"\n",
              "              title=\"Convert this dataframe to an interactive table.\"\n",
              "              style=\"display:none;\">\n",
              "        \n",
              "  <svg xmlns=\"http://www.w3.org/2000/svg\" height=\"24px\"viewBox=\"0 0 24 24\"\n",
              "       width=\"24px\">\n",
              "    <path d=\"M0 0h24v24H0V0z\" fill=\"none\"/>\n",
              "    <path d=\"M18.56 5.44l.94 2.06.94-2.06 2.06-.94-2.06-.94-.94-2.06-.94 2.06-2.06.94zm-11 1L8.5 8.5l.94-2.06 2.06-.94-2.06-.94L8.5 2.5l-.94 2.06-2.06.94zm10 10l.94 2.06.94-2.06 2.06-.94-2.06-.94-.94-2.06-.94 2.06-2.06.94z\"/><path d=\"M17.41 7.96l-1.37-1.37c-.4-.4-.92-.59-1.43-.59-.52 0-1.04.2-1.43.59L10.3 9.45l-7.72 7.72c-.78.78-.78 2.05 0 2.83L4 21.41c.39.39.9.59 1.41.59.51 0 1.02-.2 1.41-.59l7.78-7.78 2.81-2.81c.8-.78.8-2.07 0-2.86zM5.41 20L4 18.59l7.72-7.72 1.47 1.35L5.41 20z\"/>\n",
              "  </svg>\n",
              "      </button>\n",
              "      \n",
              "  <style>\n",
              "    .colab-df-container {\n",
              "      display:flex;\n",
              "      flex-wrap:wrap;\n",
              "      gap: 12px;\n",
              "    }\n",
              "\n",
              "    .colab-df-convert {\n",
              "      background-color: #E8F0FE;\n",
              "      border: none;\n",
              "      border-radius: 50%;\n",
              "      cursor: pointer;\n",
              "      display: none;\n",
              "      fill: #1967D2;\n",
              "      height: 32px;\n",
              "      padding: 0 0 0 0;\n",
              "      width: 32px;\n",
              "    }\n",
              "\n",
              "    .colab-df-convert:hover {\n",
              "      background-color: #E2EBFA;\n",
              "      box-shadow: 0px 1px 2px rgba(60, 64, 67, 0.3), 0px 1px 3px 1px rgba(60, 64, 67, 0.15);\n",
              "      fill: #174EA6;\n",
              "    }\n",
              "\n",
              "    [theme=dark] .colab-df-convert {\n",
              "      background-color: #3B4455;\n",
              "      fill: #D2E3FC;\n",
              "    }\n",
              "\n",
              "    [theme=dark] .colab-df-convert:hover {\n",
              "      background-color: #434B5C;\n",
              "      box-shadow: 0px 1px 3px 1px rgba(0, 0, 0, 0.15);\n",
              "      filter: drop-shadow(0px 1px 2px rgba(0, 0, 0, 0.3));\n",
              "      fill: #FFFFFF;\n",
              "    }\n",
              "  </style>\n",
              "\n",
              "      <script>\n",
              "        const buttonEl =\n",
              "          document.querySelector('#df-8efa3e51-9129-4db7-b1cf-3c2ecb646b2c button.colab-df-convert');\n",
              "        buttonEl.style.display =\n",
              "          google.colab.kernel.accessAllowed ? 'block' : 'none';\n",
              "\n",
              "        async function convertToInteractive(key) {\n",
              "          const element = document.querySelector('#df-8efa3e51-9129-4db7-b1cf-3c2ecb646b2c');\n",
              "          const dataTable =\n",
              "            await google.colab.kernel.invokeFunction('convertToInteractive',\n",
              "                                                     [key], {});\n",
              "          if (!dataTable) return;\n",
              "\n",
              "          const docLinkHtml = 'Like what you see? Visit the ' +\n",
              "            '<a target=\"_blank\" href=https://colab.research.google.com/notebooks/data_table.ipynb>data table notebook</a>'\n",
              "            + ' to learn more about interactive tables.';\n",
              "          element.innerHTML = '';\n",
              "          dataTable['output_type'] = 'display_data';\n",
              "          await google.colab.output.renderOutput(dataTable, element);\n",
              "          const docLink = document.createElement('div');\n",
              "          docLink.innerHTML = docLinkHtml;\n",
              "          element.appendChild(docLink);\n",
              "        }\n",
              "      </script>\n",
              "    </div>\n",
              "  </div>\n",
              "  "
            ]
          },
          "metadata": {},
          "execution_count": 2
        }
      ]
    },
    {
      "cell_type": "code",
      "source": [
        "len(df1.columns)"
      ],
      "metadata": {
        "colab": {
          "base_uri": "https://localhost:8080/"
        },
        "id": "MyXQ_Uq4ntE5",
        "outputId": "f5b6a260-2e6b-4dba-eadb-b375d9b283bf"
      },
      "execution_count": null,
      "outputs": [
        {
          "output_type": "execute_result",
          "data": {
            "text/plain": [
              "7"
            ]
          },
          "metadata": {},
          "execution_count": 3
        }
      ]
    },
    {
      "cell_type": "markdown",
      "source": [
        "We have 7 columns in this dataset, and I think we should use last 5 column in PCA(Al\tFe\tMg\tCa\tNa)"
      ],
      "metadata": {
        "id": "Z5Falau4nbsN"
      }
    },
    {
      "cell_type": "markdown",
      "source": [
        "2. Pre-process the data and perform PCA with 3 PCs."
      ],
      "metadata": {
        "id": "FAtoLOlooEtX"
      }
    },
    {
      "cell_type": "code",
      "source": [
        "ind = df1['Site']\n",
        "df1_2 = pd.DataFrame(df1.values, index = ind, columns = df1.columns)\n",
        "df1_2 = df1_2.drop([\"Unnamed: 0\", \"Site\"], axis = 1)\n",
        "df1_2"
      ],
      "metadata": {
        "colab": {
          "base_uri": "https://localhost:8080/",
          "height": 896
        },
        "id": "wUEN5V0HnXhS",
        "outputId": "1b6bf229-ca8e-4369-ef5f-f78e87f3fe8d"
      },
      "execution_count": null,
      "outputs": [
        {
          "output_type": "execute_result",
          "data": {
            "text/plain": [
              "               Al    Fe    Mg    Ca    Na\n",
              "Site                                     \n",
              "Llanedyrn    14.4   7.0   4.3  0.15  0.51\n",
              "Llanedyrn    13.8  7.08  3.43  0.12  0.17\n",
              "Llanedyrn    14.6  7.09  3.88  0.13   0.2\n",
              "Llanedyrn    11.5  6.37  5.64  0.16  0.14\n",
              "Llanedyrn    13.8  7.06  5.34   0.2   0.2\n",
              "Llanedyrn    10.9  6.26  3.47  0.17  0.22\n",
              "Llanedyrn    10.1  4.26  4.26   0.2  0.18\n",
              "Llanedyrn    11.6  5.78  5.91  0.18  0.16\n",
              "Llanedyrn    11.1  5.49  4.52  0.29   0.3\n",
              "Llanedyrn    13.4  6.92  7.23  0.28   0.2\n",
              "Llanedyrn    12.4  6.13  5.69  0.22  0.54\n",
              "Llanedyrn    13.1  6.64  5.51  0.31  0.24\n",
              "Llanedyrn    12.7  6.69  4.45   0.2  0.22\n",
              "Llanedyrn    12.5  6.44  3.94  0.22  0.23\n",
              "Caldicot     11.8  5.44  3.94   0.3  0.04\n",
              "Caldicot     11.6  5.39  3.77  0.29  0.06\n",
              "IsleThorns   18.3  1.28  0.67  0.03  0.03\n",
              "IsleThorns   15.8  2.39  0.63  0.01  0.04\n",
              "IsleThorns   18.0   1.5  0.67  0.01  0.06\n",
              "IsleThorns   18.0  1.88  0.68  0.01  0.04\n",
              "IsleThorns   20.8  1.51  0.72  0.07   0.1\n",
              "AshleyRails  17.7  1.12  0.56  0.06  0.06\n",
              "AshleyRails  18.3  1.14  0.67  0.06  0.05\n",
              "AshleyRails  16.7  0.92  0.53  0.01  0.05\n",
              "AshleyRails  14.8  2.74  0.67  0.03  0.05\n",
              "AshleyRails  19.1  1.64   0.6   0.1  0.03"
            ],
            "text/html": [
              "\n",
              "  <div id=\"df-08d84d1b-e7c4-4e07-825d-f15dc2d03092\">\n",
              "    <div class=\"colab-df-container\">\n",
              "      <div>\n",
              "<style scoped>\n",
              "    .dataframe tbody tr th:only-of-type {\n",
              "        vertical-align: middle;\n",
              "    }\n",
              "\n",
              "    .dataframe tbody tr th {\n",
              "        vertical-align: top;\n",
              "    }\n",
              "\n",
              "    .dataframe thead th {\n",
              "        text-align: right;\n",
              "    }\n",
              "</style>\n",
              "<table border=\"1\" class=\"dataframe\">\n",
              "  <thead>\n",
              "    <tr style=\"text-align: right;\">\n",
              "      <th></th>\n",
              "      <th>Al</th>\n",
              "      <th>Fe</th>\n",
              "      <th>Mg</th>\n",
              "      <th>Ca</th>\n",
              "      <th>Na</th>\n",
              "    </tr>\n",
              "    <tr>\n",
              "      <th>Site</th>\n",
              "      <th></th>\n",
              "      <th></th>\n",
              "      <th></th>\n",
              "      <th></th>\n",
              "      <th></th>\n",
              "    </tr>\n",
              "  </thead>\n",
              "  <tbody>\n",
              "    <tr>\n",
              "      <th>Llanedyrn</th>\n",
              "      <td>14.4</td>\n",
              "      <td>7.0</td>\n",
              "      <td>4.3</td>\n",
              "      <td>0.15</td>\n",
              "      <td>0.51</td>\n",
              "    </tr>\n",
              "    <tr>\n",
              "      <th>Llanedyrn</th>\n",
              "      <td>13.8</td>\n",
              "      <td>7.08</td>\n",
              "      <td>3.43</td>\n",
              "      <td>0.12</td>\n",
              "      <td>0.17</td>\n",
              "    </tr>\n",
              "    <tr>\n",
              "      <th>Llanedyrn</th>\n",
              "      <td>14.6</td>\n",
              "      <td>7.09</td>\n",
              "      <td>3.88</td>\n",
              "      <td>0.13</td>\n",
              "      <td>0.2</td>\n",
              "    </tr>\n",
              "    <tr>\n",
              "      <th>Llanedyrn</th>\n",
              "      <td>11.5</td>\n",
              "      <td>6.37</td>\n",
              "      <td>5.64</td>\n",
              "      <td>0.16</td>\n",
              "      <td>0.14</td>\n",
              "    </tr>\n",
              "    <tr>\n",
              "      <th>Llanedyrn</th>\n",
              "      <td>13.8</td>\n",
              "      <td>7.06</td>\n",
              "      <td>5.34</td>\n",
              "      <td>0.2</td>\n",
              "      <td>0.2</td>\n",
              "    </tr>\n",
              "    <tr>\n",
              "      <th>Llanedyrn</th>\n",
              "      <td>10.9</td>\n",
              "      <td>6.26</td>\n",
              "      <td>3.47</td>\n",
              "      <td>0.17</td>\n",
              "      <td>0.22</td>\n",
              "    </tr>\n",
              "    <tr>\n",
              "      <th>Llanedyrn</th>\n",
              "      <td>10.1</td>\n",
              "      <td>4.26</td>\n",
              "      <td>4.26</td>\n",
              "      <td>0.2</td>\n",
              "      <td>0.18</td>\n",
              "    </tr>\n",
              "    <tr>\n",
              "      <th>Llanedyrn</th>\n",
              "      <td>11.6</td>\n",
              "      <td>5.78</td>\n",
              "      <td>5.91</td>\n",
              "      <td>0.18</td>\n",
              "      <td>0.16</td>\n",
              "    </tr>\n",
              "    <tr>\n",
              "      <th>Llanedyrn</th>\n",
              "      <td>11.1</td>\n",
              "      <td>5.49</td>\n",
              "      <td>4.52</td>\n",
              "      <td>0.29</td>\n",
              "      <td>0.3</td>\n",
              "    </tr>\n",
              "    <tr>\n",
              "      <th>Llanedyrn</th>\n",
              "      <td>13.4</td>\n",
              "      <td>6.92</td>\n",
              "      <td>7.23</td>\n",
              "      <td>0.28</td>\n",
              "      <td>0.2</td>\n",
              "    </tr>\n",
              "    <tr>\n",
              "      <th>Llanedyrn</th>\n",
              "      <td>12.4</td>\n",
              "      <td>6.13</td>\n",
              "      <td>5.69</td>\n",
              "      <td>0.22</td>\n",
              "      <td>0.54</td>\n",
              "    </tr>\n",
              "    <tr>\n",
              "      <th>Llanedyrn</th>\n",
              "      <td>13.1</td>\n",
              "      <td>6.64</td>\n",
              "      <td>5.51</td>\n",
              "      <td>0.31</td>\n",
              "      <td>0.24</td>\n",
              "    </tr>\n",
              "    <tr>\n",
              "      <th>Llanedyrn</th>\n",
              "      <td>12.7</td>\n",
              "      <td>6.69</td>\n",
              "      <td>4.45</td>\n",
              "      <td>0.2</td>\n",
              "      <td>0.22</td>\n",
              "    </tr>\n",
              "    <tr>\n",
              "      <th>Llanedyrn</th>\n",
              "      <td>12.5</td>\n",
              "      <td>6.44</td>\n",
              "      <td>3.94</td>\n",
              "      <td>0.22</td>\n",
              "      <td>0.23</td>\n",
              "    </tr>\n",
              "    <tr>\n",
              "      <th>Caldicot</th>\n",
              "      <td>11.8</td>\n",
              "      <td>5.44</td>\n",
              "      <td>3.94</td>\n",
              "      <td>0.3</td>\n",
              "      <td>0.04</td>\n",
              "    </tr>\n",
              "    <tr>\n",
              "      <th>Caldicot</th>\n",
              "      <td>11.6</td>\n",
              "      <td>5.39</td>\n",
              "      <td>3.77</td>\n",
              "      <td>0.29</td>\n",
              "      <td>0.06</td>\n",
              "    </tr>\n",
              "    <tr>\n",
              "      <th>IsleThorns</th>\n",
              "      <td>18.3</td>\n",
              "      <td>1.28</td>\n",
              "      <td>0.67</td>\n",
              "      <td>0.03</td>\n",
              "      <td>0.03</td>\n",
              "    </tr>\n",
              "    <tr>\n",
              "      <th>IsleThorns</th>\n",
              "      <td>15.8</td>\n",
              "      <td>2.39</td>\n",
              "      <td>0.63</td>\n",
              "      <td>0.01</td>\n",
              "      <td>0.04</td>\n",
              "    </tr>\n",
              "    <tr>\n",
              "      <th>IsleThorns</th>\n",
              "      <td>18.0</td>\n",
              "      <td>1.5</td>\n",
              "      <td>0.67</td>\n",
              "      <td>0.01</td>\n",
              "      <td>0.06</td>\n",
              "    </tr>\n",
              "    <tr>\n",
              "      <th>IsleThorns</th>\n",
              "      <td>18.0</td>\n",
              "      <td>1.88</td>\n",
              "      <td>0.68</td>\n",
              "      <td>0.01</td>\n",
              "      <td>0.04</td>\n",
              "    </tr>\n",
              "    <tr>\n",
              "      <th>IsleThorns</th>\n",
              "      <td>20.8</td>\n",
              "      <td>1.51</td>\n",
              "      <td>0.72</td>\n",
              "      <td>0.07</td>\n",
              "      <td>0.1</td>\n",
              "    </tr>\n",
              "    <tr>\n",
              "      <th>AshleyRails</th>\n",
              "      <td>17.7</td>\n",
              "      <td>1.12</td>\n",
              "      <td>0.56</td>\n",
              "      <td>0.06</td>\n",
              "      <td>0.06</td>\n",
              "    </tr>\n",
              "    <tr>\n",
              "      <th>AshleyRails</th>\n",
              "      <td>18.3</td>\n",
              "      <td>1.14</td>\n",
              "      <td>0.67</td>\n",
              "      <td>0.06</td>\n",
              "      <td>0.05</td>\n",
              "    </tr>\n",
              "    <tr>\n",
              "      <th>AshleyRails</th>\n",
              "      <td>16.7</td>\n",
              "      <td>0.92</td>\n",
              "      <td>0.53</td>\n",
              "      <td>0.01</td>\n",
              "      <td>0.05</td>\n",
              "    </tr>\n",
              "    <tr>\n",
              "      <th>AshleyRails</th>\n",
              "      <td>14.8</td>\n",
              "      <td>2.74</td>\n",
              "      <td>0.67</td>\n",
              "      <td>0.03</td>\n",
              "      <td>0.05</td>\n",
              "    </tr>\n",
              "    <tr>\n",
              "      <th>AshleyRails</th>\n",
              "      <td>19.1</td>\n",
              "      <td>1.64</td>\n",
              "      <td>0.6</td>\n",
              "      <td>0.1</td>\n",
              "      <td>0.03</td>\n",
              "    </tr>\n",
              "  </tbody>\n",
              "</table>\n",
              "</div>\n",
              "      <button class=\"colab-df-convert\" onclick=\"convertToInteractive('df-08d84d1b-e7c4-4e07-825d-f15dc2d03092')\"\n",
              "              title=\"Convert this dataframe to an interactive table.\"\n",
              "              style=\"display:none;\">\n",
              "        \n",
              "  <svg xmlns=\"http://www.w3.org/2000/svg\" height=\"24px\"viewBox=\"0 0 24 24\"\n",
              "       width=\"24px\">\n",
              "    <path d=\"M0 0h24v24H0V0z\" fill=\"none\"/>\n",
              "    <path d=\"M18.56 5.44l.94 2.06.94-2.06 2.06-.94-2.06-.94-.94-2.06-.94 2.06-2.06.94zm-11 1L8.5 8.5l.94-2.06 2.06-.94-2.06-.94L8.5 2.5l-.94 2.06-2.06.94zm10 10l.94 2.06.94-2.06 2.06-.94-2.06-.94-.94-2.06-.94 2.06-2.06.94z\"/><path d=\"M17.41 7.96l-1.37-1.37c-.4-.4-.92-.59-1.43-.59-.52 0-1.04.2-1.43.59L10.3 9.45l-7.72 7.72c-.78.78-.78 2.05 0 2.83L4 21.41c.39.39.9.59 1.41.59.51 0 1.02-.2 1.41-.59l7.78-7.78 2.81-2.81c.8-.78.8-2.07 0-2.86zM5.41 20L4 18.59l7.72-7.72 1.47 1.35L5.41 20z\"/>\n",
              "  </svg>\n",
              "      </button>\n",
              "      \n",
              "  <style>\n",
              "    .colab-df-container {\n",
              "      display:flex;\n",
              "      flex-wrap:wrap;\n",
              "      gap: 12px;\n",
              "    }\n",
              "\n",
              "    .colab-df-convert {\n",
              "      background-color: #E8F0FE;\n",
              "      border: none;\n",
              "      border-radius: 50%;\n",
              "      cursor: pointer;\n",
              "      display: none;\n",
              "      fill: #1967D2;\n",
              "      height: 32px;\n",
              "      padding: 0 0 0 0;\n",
              "      width: 32px;\n",
              "    }\n",
              "\n",
              "    .colab-df-convert:hover {\n",
              "      background-color: #E2EBFA;\n",
              "      box-shadow: 0px 1px 2px rgba(60, 64, 67, 0.3), 0px 1px 3px 1px rgba(60, 64, 67, 0.15);\n",
              "      fill: #174EA6;\n",
              "    }\n",
              "\n",
              "    [theme=dark] .colab-df-convert {\n",
              "      background-color: #3B4455;\n",
              "      fill: #D2E3FC;\n",
              "    }\n",
              "\n",
              "    [theme=dark] .colab-df-convert:hover {\n",
              "      background-color: #434B5C;\n",
              "      box-shadow: 0px 1px 3px 1px rgba(0, 0, 0, 0.15);\n",
              "      filter: drop-shadow(0px 1px 2px rgba(0, 0, 0, 0.3));\n",
              "      fill: #FFFFFF;\n",
              "    }\n",
              "  </style>\n",
              "\n",
              "      <script>\n",
              "        const buttonEl =\n",
              "          document.querySelector('#df-08d84d1b-e7c4-4e07-825d-f15dc2d03092 button.colab-df-convert');\n",
              "        buttonEl.style.display =\n",
              "          google.colab.kernel.accessAllowed ? 'block' : 'none';\n",
              "\n",
              "        async function convertToInteractive(key) {\n",
              "          const element = document.querySelector('#df-08d84d1b-e7c4-4e07-825d-f15dc2d03092');\n",
              "          const dataTable =\n",
              "            await google.colab.kernel.invokeFunction('convertToInteractive',\n",
              "                                                     [key], {});\n",
              "          if (!dataTable) return;\n",
              "\n",
              "          const docLinkHtml = 'Like what you see? Visit the ' +\n",
              "            '<a target=\"_blank\" href=https://colab.research.google.com/notebooks/data_table.ipynb>data table notebook</a>'\n",
              "            + ' to learn more about interactive tables.';\n",
              "          element.innerHTML = '';\n",
              "          dataTable['output_type'] = 'display_data';\n",
              "          await google.colab.output.renderOutput(dataTable, element);\n",
              "          const docLink = document.createElement('div');\n",
              "          docLink.innerHTML = docLinkHtml;\n",
              "          element.appendChild(docLink);\n",
              "        }\n",
              "      </script>\n",
              "    </div>\n",
              "  </div>\n",
              "  "
            ]
          },
          "metadata": {},
          "execution_count": 4
        }
      ]
    },
    {
      "cell_type": "code",
      "source": [
        "df1_2.fillna(df1_2.mean(), inplace = True)"
      ],
      "metadata": {
        "id": "oD4zodperQXY"
      },
      "execution_count": null,
      "outputs": []
    },
    {
      "cell_type": "code",
      "source": [
        "from sklearn.preprocessing import StandardScaler"
      ],
      "metadata": {
        "id": "ZuH2yiAqrkpn"
      },
      "execution_count": null,
      "outputs": []
    },
    {
      "cell_type": "code",
      "source": [
        "scaler = StandardScaler()\n",
        "df1_2scaled = scaler.fit_transform(df1_2)"
      ],
      "metadata": {
        "id": "L8UkV82XrhVe"
      },
      "execution_count": null,
      "outputs": []
    },
    {
      "cell_type": "code",
      "source": [
        "pca = PCA(n_components=3, svd_solver='full')\n",
        "pca_scores = pca.fit_transform(df1_2scaled)\n",
        "scores = pd.DataFrame(data = pca_scores, columns = ['PC1', 'PC2', 'PC3'], index = df1_2.index)\n",
        "loadings = pd.DataFrame(data = pca.components_.T, columns = ['PC1', 'PC2', 'PC3'], index = df1_2.columns)"
      ],
      "metadata": {
        "id": "XTJsRRWBrri3"
      },
      "execution_count": null,
      "outputs": []
    },
    {
      "cell_type": "code",
      "source": [
        "import matplotlib.pyplot as plt"
      ],
      "metadata": {
        "id": "_wj5TFi-CwjH"
      },
      "execution_count": null,
      "outputs": []
    },
    {
      "cell_type": "markdown",
      "source": [
        "3. Plot the cumulative explained variance graph. What percent of the variance do the\n",
        "first 2 and 3 components describe?"
      ],
      "metadata": {
        "id": "tWMo0X_-nLFf"
      }
    },
    {
      "cell_type": "markdown",
      "source": [
        "percent of the variance do the first 2 and 3 components is 89.73 and 94.62 percentage."
      ],
      "metadata": {
        "id": "mDXKMBgQnOEG"
      }
    },
    {
      "cell_type": "code",
      "source": [
        "pca5 = PCA(n_components=5, svd_solver='full')\n",
        "pca5.fit(df1_2scaled)"
      ],
      "metadata": {
        "colab": {
          "base_uri": "https://localhost:8080/"
        },
        "id": "cg-CSTzir-fD",
        "outputId": "27f77b3c-8553-4597-ed31-da7d3b12fc86"
      },
      "execution_count": null,
      "outputs": [
        {
          "output_type": "execute_result",
          "data": {
            "text/plain": [
              "PCA(n_components=5, svd_solver='full')"
            ]
          },
          "metadata": {},
          "execution_count": 10
        }
      ]
    },
    {
      "cell_type": "code",
      "source": [
        "plt.plot(range(1,pca5.n_components+1), np.cumsum(pca5.explained_variance_ratio_),'-o')\n",
        "plt.xlabel('Number of components', fontsize=12)\n",
        "plt.ylabel('Cumulative explained variance', fontsize=12)\n",
        "plt.tick_params(labelsize=16)\n",
        "plt.ylim(0,1)\n",
        "plt.show()"
      ],
      "metadata": {
        "colab": {
          "base_uri": "https://localhost:8080/",
          "height": 293
        },
        "id": "m85EGxrLC2NK",
        "outputId": "e81714f3-9038-440b-de2d-33767e6096ec"
      },
      "execution_count": null,
      "outputs": [
        {
          "output_type": "display_data",
          "data": {
            "text/plain": [
              "<Figure size 432x288 with 1 Axes>"
            ],
            "image/png": "[encoded data removed]"
          },
          "metadata": {
            "needs_background": "light"
          }
        }
      ]
    },
    {
      "cell_type": "code",
      "source": [
        "pca.explained_variance_ratio_*100"
      ],
      "metadata": {
        "colab": {
          "base_uri": "https://localhost:8080/"
        },
        "id": "BZmjedwFmz6d",
        "outputId": "cb1709dc-a730-42ee-d0f3-8caad5c996b4"
      },
      "execution_count": null,
      "outputs": [
        {
          "output_type": "execute_result",
          "data": {
            "text/plain": [
              "array([77.55593977, 12.17619687,  4.88384364])"
            ]
          },
          "metadata": {},
          "execution_count": 14
        }
      ]
    },
    {
      "cell_type": "code",
      "source": [
        "sum(pca5.explained_variance_ratio_[:2])*100"
      ],
      "metadata": {
        "colab": {
          "base_uri": "https://localhost:8080/"
        },
        "id": "xHc7olL9DD4O",
        "outputId": "0c3545ed-abee-445a-84d5-7f97ae7f7f0f"
      },
      "execution_count": null,
      "outputs": [
        {
          "output_type": "execute_result",
          "data": {
            "text/plain": [
              "89.73213663789889"
            ]
          },
          "metadata": {},
          "execution_count": 13
        }
      ]
    },
    {
      "cell_type": "code",
      "source": [
        "sum(pca5.explained_variance_ratio_[:3])*100"
      ],
      "metadata": {
        "colab": {
          "base_uri": "https://localhost:8080/"
        },
        "id": "tiWrJpBjmaZM",
        "outputId": "ee4ba6a4-c3f7-44eb-f929-bf9b23b2749e"
      },
      "execution_count": null,
      "outputs": [
        {
          "output_type": "execute_result",
          "data": {
            "text/plain": [
              "94.61598027980749"
            ]
          },
          "metadata": {},
          "execution_count": 15
        }
      ]
    },
    {
      "cell_type": "markdown",
      "source": [
        "4. Plot the scores-loadings graph for PC1-PC2. Visualize the different sites with a differ\u0002ent colour or symbol."
      ],
      "metadata": {
        "id": "f2Z_sGF5nixv"
      }
    },
    {
      "cell_type": "code",
      "source": [
        "from sklearn.preprocessing import MaxAbsScaler"
      ],
      "metadata": {
        "id": "UVFI1ARboDFO"
      },
      "execution_count": null,
      "outputs": []
    },
    {
      "cell_type": "code",
      "source": [
        "def myplot(scores,loadings,loading_labels=None,score_labels=None):\n",
        "    # adjusting the scores to fit in (-1,1)\n",
        "    xt = scores[:,0]\n",
        "    yt = scores[:,1]\n",
        "    n = loadings.shape[0]\n",
        "    scalext = 1.0/(xt.max() - xt.min())\n",
        "    scaleyt = 1.0/(yt.max() - yt.min())\n",
        "    xt_scaled = xt * scalext\n",
        "    yt_scaled = yt * scaleyt\n",
        "    # adjusting the loadings to fit in (-1,1)\n",
        "    p = loadings\n",
        "    p_scaled = MaxAbsScaler().fit_transform(p)\n",
        "    \n",
        "    #plt.scatter(xs * scalex,ys * scaley, s=10)\n",
        "    for (x,y), label in zip(np.vstack((xt_scaled, yt_scaled)).T,score_labels):\n",
        "        if 'AshleyRails' in label:\n",
        "            plt.text(x, y, 'AR', ha='center', size=12, color = 'g')\n",
        "        elif 'Caldicot' in label:\n",
        "            plt.text(x, y, 'Cal', ha='center', size=12, color = 'y')\n",
        "        elif 'IsleThorns' in label:\n",
        "            plt.text(x, y, 'IT', ha='center', size=12, color = 'b')\n",
        "        else:\n",
        "            plt.text(x, y, 'Li', ha='center', size=12, color = 'purple')\n",
        "    \n",
        "    for i in range(n):\n",
        "        plt.arrow(0, 0, p_scaled[i,0], p_scaled[i,1], color = 'r',alpha = 0.5)\n",
        "        if loading_labels is None:\n",
        "            plt.text(p_scaled[i,0], p_scaled[i,1], \"Var\"+str(i+1), color = 'g', ha = 'center', va = 'center')\n",
        "        else:\n",
        "            plt.text(p_scaled[i,0], p_scaled[i,1], loading_labels[i], color = 'r', ha = 'center', va = 'center', size=16)\n",
        "    plt.xlim(-1,1)\n",
        "    plt.ylim(-1,1)\n",
        "    plt.xlabel(\"PC{}\".format(1), fontsize=20);\n",
        "    plt.ylabel(\"PC{}\".format(2), fontsize=20);\n",
        "    plt.tick_params(labelsize=16)\n",
        "    plt.grid()"
      ],
      "metadata": {
        "id": "QgE0V2j5m1XQ"
      },
      "execution_count": null,
      "outputs": []
    },
    {
      "cell_type": "code",
      "source": [
        "plt.rcParams[\"figure.figsize\"] = [12,8]\n",
        "myplot(pca_scores[:,:2],loadings.iloc[:,:2],loading_labels=loadings.index,score_labels=scores.index)\n",
        "plt.show()"
      ],
      "metadata": {
        "colab": {
          "base_uri": "https://localhost:8080/",
          "height": 518
        },
        "id": "SYJauIxBn9s8",
        "outputId": "e730465a-0586-4882-d76e-c33faccb72d8"
      },
      "execution_count": null,
      "outputs": [
        {
          "output_type": "display_data",
          "data": {
            "text/plain": [
              "<Figure size 864x576 with 1 Axes>"
            ],
            "image/png": "[encoded data removed]"
          },
          "metadata": {
            "needs_background": "light"
          }
        }
      ]
    },
    {
      "cell_type": "markdown",
      "source": [
        "5. How does the map of scores-loadings explains the reason that your company uses the raw material from Isle Thorns and Ashley Rails to manufacture Product B?"
      ],
      "metadata": {
        "id": "mInCH8-Uqaa-"
      }
    },
    {
      "cell_type": "markdown",
      "source": [
        "From the graph, point of IT and AR are in a cluster which means they have similar component."
      ],
      "metadata": {
        "id": "zvqzRMn7yR0a"
      }
    },
    {
      "cell_type": "markdown",
      "source": [
        "6. Is the raw material from Caldicot a good replacement for Llanedyrn? Yes or no and why?"
      ],
      "metadata": {
        "id": "QgIGsiQw0T-6"
      }
    },
    {
      "cell_type": "markdown",
      "source": [
        "No, since from the graph we can see that the product of Lianedyrn are in area of Fe and Mg, also some of Lianedyrn have Na. But for Caldicot data point are concentrate below Ca line. Therefore we can conclude that the component of those two product are different."
      ],
      "metadata": {
        "id": "tLMxE0bG0XP7"
      }
    },
    {
      "cell_type": "markdown",
      "source": [
        "7. What are the biggest differences in the two big clusters? How are the two samples from the candidate Caldicot different than the Llanedyrn samples?"
      ],
      "metadata": {
        "id": "axvIxKA724KZ"
      }
    },
    {
      "cell_type": "markdown",
      "source": [
        "Two big clusters are AR IT cluster and Li Cal cluster, the main difference is the component. For AR and IT, their component is mainly Al. And for the oher cluster the main component is mainly Fe Mg Ca and Na. For the Cal it has lower concentration of Na than Li."
      ],
      "metadata": {
        "id": "UuN8t1oY274C"
      }
    },
    {
      "cell_type": "markdown",
      "source": [
        "8. Confirm the answers by producing the boxplot of the 5 variables grouped by the site of the raw material shown below"
      ],
      "metadata": {
        "id": "pYSg8Ne9Q4zX"
      }
    },
    {
      "cell_type": "code",
      "source": [
        "import  seaborn as sns"
      ],
      "metadata": {
        "id": "Dnt03cqroQGw"
      },
      "execution_count": null,
      "outputs": []
    },
    {
      "cell_type": "code",
      "source": [
        "f, axes = plt.subplots(2, 3)\n",
        "f.tight_layout()\n",
        "sns.boxplot(y=\"Al\", x= \"Site\", data=df1,  orient='v', ax=axes[0,0]).set(title='Al')\n",
        "sns.boxplot(y=\"Fe\", x= \"Site\", data=df1,  orient='v', ax=axes[0,1]).set(title='Fe')\n",
        "sns.boxplot(y=\"Mg\", x= \"Site\", data=df1,  orient='v', ax=axes[0,2]).set(title='Mg')\n",
        "sns.boxplot(y=\"Ca\", x= \"Site\", data=df1,  orient='v', ax=axes[1,0]).set(title='Ca')\n",
        "sns.boxplot(y=\"Na\", x= \"Site\", data=df1,  orient='v', ax=axes[1,1]).set(title='Na')\n",
        "plt.subplots_adjust(hspace = 0.2)\n",
        "plt.show()"
      ],
      "metadata": {
        "colab": {
          "base_uri": "https://localhost:8080/",
          "height": 611
        },
        "id": "Oc7-S8B_SIO9",
        "outputId": "bc88052e-e694-428c-b63f-a3ce9e4bdff4"
      },
      "execution_count": null,
      "outputs": [
        {
          "output_type": "display_data",
          "data": {
            "text/plain": [
              "<Figure size 864x576 with 6 Axes>"
            ],
            "image/png": "[encoded data removed]"
          },
          "metadata": {
            "needs_background": "light"
          }
        }
      ]
    },
    {
      "cell_type": "code",
      "source": [],
      "metadata": {
        "id": "f53b4pG3SLH2"
      },
      "execution_count": null,
      "outputs": []
    }
  ]
}