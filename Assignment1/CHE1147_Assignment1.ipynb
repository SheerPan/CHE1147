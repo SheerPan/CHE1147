{
  "nbformat": 4,
  "nbformat_minor": 0,
  "metadata": {
    "colab": {
      "provenance": []
    },
    "kernelspec": {
      "name": "python3",
      "display_name": "Python 3"
    },
    "language_info": {
      "name": "python"
    }
  },
  "cells": [
    {
      "cell_type": "markdown",
      "source": [
        "# **1 Python data structures and other essentials**"
      ],
      "metadata": {
        "id": "O8v4I4To-o1M"
      }
    },
    {
      "cell_type": "markdown",
      "source": [
        "**1.1Tuple**"
      ],
      "metadata": {
        "id": "eqi0v2ba-u3y"
      }
    },
    {
      "cell_type": "markdown",
      "source": [
        "1. Create the tuple named apps tuple with the string elements ”Google”, ”Facebook”,”Amazon”, ”Netflix”, ”AirBnB”, ”Instagram”."
      ],
      "metadata": {
        "id": "XjxsASg4QQla"
      }
    },
    {
      "cell_type": "code",
      "execution_count": 1,
      "metadata": {
        "id": "pG4AYJMs837Y"
      },
      "outputs": [],
      "source": [
        "apps_tuple = ('Google', 'Facebook', 'Amazon', 'Netflix', 'AirBnB', 'Instagram')"
      ]
    },
    {
      "cell_type": "markdown",
      "source": [
        "2. Extract the second element by using its index and the last element by using its neg\u0002ative index."
      ],
      "metadata": {
        "id": "n23lPXsXQYqk"
      }
    },
    {
      "cell_type": "code",
      "source": [
        "apps_tuple[1]"
      ],
      "metadata": {
        "id": "99s30Nkf-9_5",
        "colab": {
          "base_uri": "https://localhost:8080/",
          "height": 36
        },
        "outputId": "1162a454-7e2c-40de-a5a6-6d0d7b2f323a"
      },
      "execution_count": 2,
      "outputs": [
        {
          "output_type": "execute_result",
          "data": {
            "text/plain": [
              "'Facebook'"
            ],
            "application/vnd.google.colaboratory.intrinsic+json": {
              "type": "string"
            }
          },
          "metadata": {},
          "execution_count": 2
        }
      ]
    },
    {
      "cell_type": "code",
      "source": [
        "apps_tuple[-1]"
      ],
      "metadata": {
        "id": "NttAJUxY_EQo",
        "colab": {
          "base_uri": "https://localhost:8080/",
          "height": 36
        },
        "outputId": "a9d18319-1a70-4217-c898-747daf01905e"
      },
      "execution_count": 3,
      "outputs": [
        {
          "output_type": "execute_result",
          "data": {
            "text/plain": [
              "'Instagram'"
            ],
            "application/vnd.google.colaboratory.intrinsic+json": {
              "type": "string"
            }
          },
          "metadata": {},
          "execution_count": 3
        }
      ]
    },
    {
      "cell_type": "markdown",
      "source": [
        "3. Slice the elements from ”Facebook” to ”Netflix” inclusive on both ends"
      ],
      "metadata": {
        "id": "fFIMsOSqQdQN"
      }
    },
    {
      "cell_type": "code",
      "source": [
        "apps_tuple[1:-2]"
      ],
      "metadata": {
        "id": "m6mPJ0VR_Kt-",
        "colab": {
          "base_uri": "https://localhost:8080/"
        },
        "outputId": "3b3b44a9-16a2-4351-dfff-a16e770c7f3e"
      },
      "execution_count": 4,
      "outputs": [
        {
          "output_type": "execute_result",
          "data": {
            "text/plain": [
              "('Facebook', 'Amazon', 'Netflix')"
            ]
          },
          "metadata": {},
          "execution_count": 4
        }
      ]
    },
    {
      "cell_type": "markdown",
      "source": [
        "4. Try appending the element ”Messenger” to the tuple. What do you observe? Why"
      ],
      "metadata": {
        "id": "vMHI3efbQfd7"
      }
    },
    {
      "cell_type": "code",
      "source": [
        "#apps_tuple.append('Messenger')"
      ],
      "metadata": {
        "id": "KuV8vQle_PrB"
      },
      "execution_count": 5,
      "outputs": []
    },
    {
      "cell_type": "markdown",
      "source": [
        "I got an Attribute error, since the 'tuple' object has no attribute to 'append'."
      ],
      "metadata": {
        "id": "gRUn3PbX_Y0b"
      }
    },
    {
      "cell_type": "markdown",
      "source": [
        "**1.2 List** "
      ],
      "metadata": {
        "id": "DJ6WlUGW_jBa"
      }
    },
    {
      "cell_type": "markdown",
      "source": [
        "1. Define the list apps list with the same elements as the tuple above."
      ],
      "metadata": {
        "id": "tWYGFzWHQh56"
      }
    },
    {
      "cell_type": "code",
      "source": [
        "apps_list = ['Google', 'Facebook', 'Amazon', 'Netflix', 'AirBnB', 'Instagram']"
      ],
      "metadata": {
        "id": "5f41OpEu_rCp"
      },
      "execution_count": 6,
      "outputs": []
    },
    {
      "cell_type": "markdown",
      "source": [
        "2. Slice the first three elements of the list with the shorthand syntax, i.e. not by typing explicitly all the indexes 0, 1, and 2; use the symbol : instead."
      ],
      "metadata": {
        "id": "GVTVBH0EQm3p"
      }
    },
    {
      "cell_type": "code",
      "source": [
        "apps_list[0:3]"
      ],
      "metadata": {
        "id": "ms9lNuRn_vxl",
        "colab": {
          "base_uri": "https://localhost:8080/"
        },
        "outputId": "3120440e-be3b-4c55-ebf8-04ec3a02f8b0"
      },
      "execution_count": 7,
      "outputs": [
        {
          "output_type": "execute_result",
          "data": {
            "text/plain": [
              "['Google', 'Facebook', 'Amazon']"
            ]
          },
          "metadata": {},
          "execution_count": 7
        }
      ]
    },
    {
      "cell_type": "markdown",
      "source": [
        "3. Slice all the elements after index 3 inclusively with the shorthand syntax."
      ],
      "metadata": {
        "id": "9L_2Ha0qQvPU"
      }
    },
    {
      "cell_type": "code",
      "source": [
        "apps_list[3:]"
      ],
      "metadata": {
        "colab": {
          "base_uri": "https://localhost:8080/"
        },
        "id": "iFD1xhEtCPjS",
        "outputId": "cdf6e969-75b9-4825-f791-e0ccc72f0619"
      },
      "execution_count": 8,
      "outputs": [
        {
          "output_type": "execute_result",
          "data": {
            "text/plain": [
              "['Netflix', 'AirBnB', 'Instagram']"
            ]
          },
          "metadata": {},
          "execution_count": 8
        }
      ]
    },
    {
      "cell_type": "markdown",
      "source": [
        "4. Append the element ’Messenger’ to the end of the list and insert the element ’Youtube’at index 1."
      ],
      "metadata": {
        "id": "_mGDF5t1Qxpk"
      }
    },
    {
      "cell_type": "code",
      "source": [
        "apps_list.append('Messenger')\n",
        "apps_list.insert(1,'Youtube')"
      ],
      "metadata": {
        "id": "kE_8RZrmCa_p"
      },
      "execution_count": 9,
      "outputs": []
    },
    {
      "cell_type": "markdown",
      "source": [
        "5. Remove element ’Facebook’ and confirm with the function in whether ’Facebook’ has\n",
        "been removed from the list."
      ],
      "metadata": {
        "id": "Z1kSeP4KQ06D"
      }
    },
    {
      "cell_type": "code",
      "source": [
        "apps_list.remove('Facebook')"
      ],
      "metadata": {
        "id": "cxrMMquyCiA1"
      },
      "execution_count": 10,
      "outputs": []
    },
    {
      "cell_type": "code",
      "source": [
        "'Facebook' in apps_list"
      ],
      "metadata": {
        "colab": {
          "base_uri": "https://localhost:8080/"
        },
        "id": "RB06pVzrCili",
        "outputId": "2a0a80af-b3a0-4c79-cadb-e783722635cd"
      },
      "execution_count": 11,
      "outputs": [
        {
          "output_type": "execute_result",
          "data": {
            "text/plain": [
              "False"
            ]
          },
          "metadata": {},
          "execution_count": 11
        }
      ]
    },
    {
      "cell_type": "markdown",
      "source": [
        "6. Concatenate the last list with the list [’Linkedin’, ’Twitter’]."
      ],
      "metadata": {
        "id": "Btr_zCHwQ39X"
      }
    },
    {
      "cell_type": "code",
      "source": [
        "apps_list + ['Linkedin', 'Twitter']"
      ],
      "metadata": {
        "colab": {
          "base_uri": "https://localhost:8080/"
        },
        "id": "LKa5gwzLCmgp",
        "outputId": "8fdbf2d5-3f8a-4e95-ea7b-4314c299dea8"
      },
      "execution_count": 12,
      "outputs": [
        {
          "output_type": "execute_result",
          "data": {
            "text/plain": [
              "['Google',\n",
              " 'Youtube',\n",
              " 'Amazon',\n",
              " 'Netflix',\n",
              " 'AirBnB',\n",
              " 'Instagram',\n",
              " 'Messenger',\n",
              " 'Linkedin',\n",
              " 'Twitter']"
            ]
          },
          "metadata": {},
          "execution_count": 12
        }
      ]
    },
    {
      "cell_type": "markdown",
      "source": [
        "**1.3 Dicts**"
      ],
      "metadata": {
        "id": "NavGC8X3CtBD"
      }
    },
    {
      "cell_type": "markdown",
      "source": [
        "1. Create the dict named apps dict with the same values as in 1.1.1. and keys: app0, app1, etc."
      ],
      "metadata": {
        "id": "BxU5yTwoQ7tk"
      }
    },
    {
      "cell_type": "code",
      "source": [
        "apps_dicts = {'app0': 'Google','app1':'Facebook','app2':'Amazon','app3':'Netflix','app4':'AirBnB','app5':'Instagram'}"
      ],
      "metadata": {
        "id": "z75xvcynCsRc"
      },
      "execution_count": 13,
      "outputs": []
    },
    {
      "cell_type": "markdown",
      "source": [
        "2. Access the element with key app1; then replace its value with ’Youtube’."
      ],
      "metadata": {
        "id": "bWtPaKXBRBHG"
      }
    },
    {
      "cell_type": "code",
      "source": [
        "apps_dicts['app1']"
      ],
      "metadata": {
        "colab": {
          "base_uri": "https://localhost:8080/",
          "height": 36
        },
        "id": "z0ym2PhlDeWF",
        "outputId": "bedbd531-15a0-4984-d193-5e8edded97e8"
      },
      "execution_count": 14,
      "outputs": [
        {
          "output_type": "execute_result",
          "data": {
            "text/plain": [
              "'Facebook'"
            ],
            "application/vnd.google.colaboratory.intrinsic+json": {
              "type": "string"
            }
          },
          "metadata": {},
          "execution_count": 14
        }
      ]
    },
    {
      "cell_type": "code",
      "source": [
        "apps_dicts['app1'] = 'Youtube'"
      ],
      "metadata": {
        "id": "48v24HqfDjSW"
      },
      "execution_count": 15,
      "outputs": []
    },
    {
      "cell_type": "markdown",
      "source": [
        "3. Add a new key-value pair: app6-Messenger."
      ],
      "metadata": {
        "id": "VWlt4WEaRDEL"
      }
    },
    {
      "cell_type": "code",
      "source": [
        "apps_dicts['app6'] = 'Messenger'"
      ],
      "metadata": {
        "id": "HMyoHTjMDlSF"
      },
      "execution_count": 16,
      "outputs": []
    },
    {
      "cell_type": "markdown",
      "source": [
        "Q4. What does the syntax: apps dict[”app1”]=”Messenger” do?\n",
        "4. apps dict[”app1”]=”Messenger” is the method to replace value in app1 into \"Messenger\".\n",
        "\n",
        "Q5. What does the syntax: apps dict[”App1”]=”Facebook” do? Why?\n",
        "5. apps dict[”App1”]=”Facebook” is the method to create a new key App1 and set its value to \"Facebook\".\n",
        "\n",
        "Q6. What does the syntax: del apps dict[”App1”] do?\n",
        "6. del apps dict[”App1”] will delete the item with key named App1"
      ],
      "metadata": {
        "id": "BiHKFxffDz5O"
      }
    },
    {
      "cell_type": "markdown",
      "source": [
        "**1.4 List comprehension**"
      ],
      "metadata": {
        "id": "qUU-z-ohElVO"
      }
    },
    {
      "cell_type": "markdown",
      "source": [
        "1. Create the list named values with integers: 7, 12, 9, 18, 15."
      ],
      "metadata": {
        "id": "vblnRngDRS3Z"
      }
    },
    {
      "cell_type": "code",
      "source": [
        "values = [7, 12, 9, 18, 15]"
      ],
      "metadata": {
        "id": "0IMbOpRdDuU5"
      },
      "execution_count": 17,
      "outputs": []
    },
    {
      "cell_type": "markdown",
      "source": [
        "2. Create a list comprehension that takes the object values and returns the square of every value."
      ],
      "metadata": {
        "id": "r1fu7hCjRXIY"
      }
    },
    {
      "cell_type": "code",
      "source": [
        "values_new = [x**2 for x in values]"
      ],
      "metadata": {
        "id": "efgn1NSQEprC"
      },
      "execution_count": 18,
      "outputs": []
    },
    {
      "cell_type": "code",
      "source": [
        "values_new"
      ],
      "metadata": {
        "colab": {
          "base_uri": "https://localhost:8080/"
        },
        "id": "rHJAdeI0EuRi",
        "outputId": "31afb31c-8ab9-48db-bbff-619f211a3431"
      },
      "execution_count": 19,
      "outputs": [
        {
          "output_type": "execute_result",
          "data": {
            "text/plain": [
              "[49, 144, 81, 324, 225]"
            ]
          },
          "metadata": {},
          "execution_count": 19
        }
      ]
    },
    {
      "cell_type": "markdown",
      "source": [
        "**1.5 Functions and control flow**"
      ],
      "metadata": {
        "id": "j6Onz0xYE-2n"
      }
    },
    {
      "cell_type": "markdown",
      "source": [
        "1. Generate a sample of 10 random integer numbers between 600 and 900 (hint: use Numpy’s random integers function)"
      ],
      "metadata": {
        "id": "9DVGkX1wRa4D"
      }
    },
    {
      "cell_type": "code",
      "source": [
        "import numpy as np"
      ],
      "metadata": {
        "id": "0UPSwKOeE5zt"
      },
      "execution_count": 20,
      "outputs": []
    },
    {
      "cell_type": "code",
      "source": [
        "np.random.randint(600,900,10)"
      ],
      "metadata": {
        "colab": {
          "base_uri": "https://localhost:8080/"
        },
        "id": "nQgBiJLYJ4e7",
        "outputId": "ddb91629-887c-4e95-ff10-b303b7a9b784"
      },
      "execution_count": 21,
      "outputs": [
        {
          "output_type": "execute_result",
          "data": {
            "text/plain": [
              "array([866, 787, 780, 774, 788, 631, 865, 820, 691, 610])"
            ]
          },
          "metadata": {},
          "execution_count": 21
        }
      ]
    },
    {
      "cell_type": "markdown",
      "source": [
        "2. Create a function called credit score that reads the sample and returns the output ’Low’ when the input is [600, 699], ’Medium’ when in [700, 799] and ’High’ when in [800, 900]."
      ],
      "metadata": {
        "id": "fYCki91ARtDN"
      }
    },
    {
      "cell_type": "code",
      "source": [
        "def credit_score(x):\n",
        "  if 600 <= x <= 699:\n",
        "    return 'Low'\n",
        "  elif 700 <= x <= 799:\n",
        "    return 'Median'\n",
        "  elif 800 <= x <= 899:\n",
        "    return 'High'"
      ],
      "metadata": {
        "id": "VGaxS2k2KAPs"
      },
      "execution_count": 22,
      "outputs": []
    },
    {
      "cell_type": "code",
      "source": [
        "x = np.random.randint(600,900)\n",
        "print(x)\n",
        "credit_score(x)"
      ],
      "metadata": {
        "colab": {
          "base_uri": "https://localhost:8080/",
          "height": 54
        },
        "id": "9HfMuq_cLGqq",
        "outputId": "918efc19-f15c-4427-94cf-7787e0caf445"
      },
      "execution_count": 23,
      "outputs": [
        {
          "output_type": "stream",
          "name": "stdout",
          "text": [
            "883\n"
          ]
        },
        {
          "output_type": "execute_result",
          "data": {
            "text/plain": [
              "'High'"
            ],
            "application/vnd.google.colaboratory.intrinsic+json": {
              "type": "string"
            }
          },
          "metadata": {},
          "execution_count": 23
        }
      ]
    },
    {
      "cell_type": "markdown",
      "source": [
        "# **2 Linear algebra in Numpy**"
      ],
      "metadata": {
        "id": "lrgyfDNELfY3"
      }
    },
    {
      "cell_type": "markdown",
      "source": [
        "**2.1 Matrix calculations**"
      ],
      "metadata": {
        "id": "PONt0UIHlSgO"
      }
    },
    {
      "cell_type": "markdown",
      "source": [
        "1. Create matrices A and B as numpy arrays and calculate 2A, -3B and A+B"
      ],
      "metadata": {
        "id": "enqOBrsrRyxi"
      }
    },
    {
      "cell_type": "code",
      "source": [
        "A1 = np.array([[2,1],[1,1],[2,3]])\n",
        "B1 = np.array([[-4,1],[3,-1],[-2,1]])"
      ],
      "metadata": {
        "id": "PzUGkgHDLKWE"
      },
      "execution_count": 24,
      "outputs": []
    },
    {
      "cell_type": "code",
      "source": [
        "2*A1"
      ],
      "metadata": {
        "colab": {
          "base_uri": "https://localhost:8080/"
        },
        "id": "Hx6fstHjlMTx",
        "outputId": "03d28ee8-1c9a-43af-cfb5-b5f532894e0c"
      },
      "execution_count": 25,
      "outputs": [
        {
          "output_type": "execute_result",
          "data": {
            "text/plain": [
              "array([[4, 2],\n",
              "       [2, 2],\n",
              "       [4, 6]])"
            ]
          },
          "metadata": {},
          "execution_count": 25
        }
      ]
    },
    {
      "cell_type": "code",
      "source": [
        "(-3)*B1"
      ],
      "metadata": {
        "colab": {
          "base_uri": "https://localhost:8080/"
        },
        "id": "UQog4gAClOh0",
        "outputId": "78a817db-3a24-47fa-c9e8-301b7b0c3f3d"
      },
      "execution_count": 26,
      "outputs": [
        {
          "output_type": "execute_result",
          "data": {
            "text/plain": [
              "array([[12, -3],\n",
              "       [-9,  3],\n",
              "       [ 6, -3]])"
            ]
          },
          "metadata": {},
          "execution_count": 26
        }
      ]
    },
    {
      "cell_type": "code",
      "source": [
        "A1+B1"
      ],
      "metadata": {
        "colab": {
          "base_uri": "https://localhost:8080/"
        },
        "id": "SutLegcDlRuj",
        "outputId": "243d5bca-38c4-4cec-d470-2e1656835938"
      },
      "execution_count": 27,
      "outputs": [
        {
          "output_type": "execute_result",
          "data": {
            "text/plain": [
              "array([[-2,  2],\n",
              "       [ 4,  0],\n",
              "       [ 0,  4]])"
            ]
          },
          "metadata": {},
          "execution_count": 27
        }
      ]
    },
    {
      "cell_type": "markdown",
      "source": [
        "2. Create matrices A and B as numpy arrays and calculate A*B and the inverse of B"
      ],
      "metadata": {
        "id": "CSe5H5fuR1yy"
      }
    },
    {
      "cell_type": "code",
      "source": [
        "A2 = np.array([[2,-6],[-4,0],[1,5]])\n",
        "B2 = np.array([[1,1],[2,3]])"
      ],
      "metadata": {
        "id": "WPfxOTxIlqs8"
      },
      "execution_count": 28,
      "outputs": []
    },
    {
      "cell_type": "code",
      "source": [
        "np.dot(A2,B2)"
      ],
      "metadata": {
        "colab": {
          "base_uri": "https://localhost:8080/"
        },
        "id": "RMW0Qi6nl5Gb",
        "outputId": "4bc90cd5-8a34-4176-e2bb-f99240d4c935"
      },
      "execution_count": 29,
      "outputs": [
        {
          "output_type": "execute_result",
          "data": {
            "text/plain": [
              "array([[-10, -16],\n",
              "       [ -4,  -4],\n",
              "       [ 11,  16]])"
            ]
          },
          "metadata": {},
          "execution_count": 29
        }
      ]
    },
    {
      "cell_type": "code",
      "source": [
        "np.linalg.inv(B2)"
      ],
      "metadata": {
        "colab": {
          "base_uri": "https://localhost:8080/"
        },
        "id": "xAd7PXIml7uY",
        "outputId": "6e8fcbac-b84c-4ca7-bc58-775f90351c87"
      },
      "execution_count": 30,
      "outputs": [
        {
          "output_type": "execute_result",
          "data": {
            "text/plain": [
              "array([[ 3., -1.],\n",
              "       [-2.,  1.]])"
            ]
          },
          "metadata": {},
          "execution_count": 30
        }
      ]
    },
    {
      "cell_type": "markdown",
      "source": [
        "3. Replace the values of the elements with abs(value)≥3 with the value 3. Also, calculate the determinant of the original matrix A"
      ],
      "metadata": {
        "id": "lr7mTY-TR4lX"
      }
    },
    {
      "cell_type": "code",
      "source": [
        "A3 = np.array([[1,0,4,1],[-2,1,-3,2],[0,0,0,2],[3,2,1,-1]])"
      ],
      "metadata": {
        "id": "BaSLGJ8TmLeB"
      },
      "execution_count": 31,
      "outputs": []
    },
    {
      "cell_type": "code",
      "source": [
        "np.linalg.det(A3)"
      ],
      "metadata": {
        "colab": {
          "base_uri": "https://localhost:8080/"
        },
        "id": "Mp-EOp-bm4C-",
        "outputId": "d7ac059b-da85-4b45-ad8d-1227a0a72de8"
      },
      "execution_count": 32,
      "outputs": [
        {
          "output_type": "execute_result",
          "data": {
            "text/plain": [
              "42.00000000000001"
            ]
          },
          "metadata": {},
          "execution_count": 32
        }
      ]
    },
    {
      "cell_type": "code",
      "source": [
        "A3new = np.where(np.abs(A3)>=3, 3, A3)"
      ],
      "metadata": {
        "id": "lk4HlvhymaoI"
      },
      "execution_count": 33,
      "outputs": []
    },
    {
      "cell_type": "code",
      "source": [
        "A3new"
      ],
      "metadata": {
        "colab": {
          "base_uri": "https://localhost:8080/"
        },
        "id": "06lsG_3fnA1C",
        "outputId": "79fd01f7-e8eb-4717-9b7f-cbfa0f740ffd"
      },
      "execution_count": 34,
      "outputs": [
        {
          "output_type": "execute_result",
          "data": {
            "text/plain": [
              "array([[ 1,  0,  3,  1],\n",
              "       [-2,  1,  3,  2],\n",
              "       [ 0,  0,  0,  2],\n",
              "       [ 3,  2,  1, -1]])"
            ]
          },
          "metadata": {},
          "execution_count": 34
        }
      ]
    },
    {
      "cell_type": "markdown",
      "source": [
        "**2.2 Norms and eigenvalues**"
      ],
      "metadata": {
        "id": "lztVenhBm8uh"
      }
    },
    {
      "cell_type": "markdown",
      "source": [
        "1. Calculate the maximum and Euclidean or Frobenius norm of each of the three\n",
        "vectors:"
      ],
      "metadata": {
        "id": "BnKdjFd8SzlV"
      }
    },
    {
      "cell_type": "code",
      "source": [
        "x1 = np.array([[1,-2,3]]).T\n",
        "print(\"maximum norm=\", np.linalg.norm(x1,np.inf),\"Frobenius norm =\", np.linalg.norm(x1))"
      ],
      "metadata": {
        "id": "OdvvY4Lnm_tT",
        "colab": {
          "base_uri": "https://localhost:8080/"
        },
        "outputId": "8eca858a-cd5b-4f7a-ead3-572c1e54f2ef"
      },
      "execution_count": 35,
      "outputs": [
        {
          "output_type": "stream",
          "name": "stdout",
          "text": [
            "maximum norm= 3.0 Frobenius norm = 3.7416573867739413\n"
          ]
        }
      ]
    },
    {
      "cell_type": "code",
      "source": [
        "x2 = np.array([[2,0,-1,2]]).T\n",
        "print(\"maximum norm=\", np.linalg.norm(x2,np.inf),\"Frobenius norm =\", np.linalg.norm(x2))"
      ],
      "metadata": {
        "id": "EfYp-A8ynrjH",
        "colab": {
          "base_uri": "https://localhost:8080/"
        },
        "outputId": "daa09ab5-c494-425b-9903-ae8a5f9f20a5"
      },
      "execution_count": 36,
      "outputs": [
        {
          "output_type": "stream",
          "name": "stdout",
          "text": [
            "maximum norm= 2.0 Frobenius norm = 3.0\n"
          ]
        }
      ]
    },
    {
      "cell_type": "code",
      "source": [
        "x3 = np.array([[0,1,-4,2,-1]]).T\n",
        "print(\"maximum norm=\", np.linalg.norm(x3,np.inf),\"Frobenius norm =\", np.linalg.norm(x3))"
      ],
      "metadata": {
        "colab": {
          "base_uri": "https://localhost:8080/"
        },
        "id": "uFIvyw5Rr8Gt",
        "outputId": "eb343969-9ca9-44a9-8f07-d20c58dea3ef"
      },
      "execution_count": 37,
      "outputs": [
        {
          "output_type": "stream",
          "name": "stdout",
          "text": [
            "maximum norm= 4.0 Frobenius norm = 4.69041575982343\n"
          ]
        }
      ]
    },
    {
      "cell_type": "markdown",
      "source": [
        "2. Calculate the l2 and l∞ norms of the matrices:"
      ],
      "metadata": {
        "id": "bbJmRellS19L"
      }
    },
    {
      "cell_type": "code",
      "source": [
        "A1 = np.array([[1,-2],[4,3]])\n",
        "print(\"l2 norm =\", np.linalg.norm(A1),\"linf norm =\", np.linalg.norm(A1,np.inf))"
      ],
      "metadata": {
        "colab": {
          "base_uri": "https://localhost:8080/"
        },
        "id": "iZyMRQWssEy9",
        "outputId": "be7b8096-ee0d-477e-92b0-494d3914aad0"
      },
      "execution_count": 38,
      "outputs": [
        {
          "output_type": "stream",
          "name": "stdout",
          "text": [
            "l2 norm = 5.477225575051661 linf norm = 7.0\n"
          ]
        }
      ]
    },
    {
      "cell_type": "code",
      "source": [
        "A2 = np.array([[1,0,2],[0,1,-1],[-1,1,1]])\n",
        "print(\"l2 norm =\", np.linalg.norm(A2),\"linf norm =\", np.linalg.norm(A2,np.inf))"
      ],
      "metadata": {
        "colab": {
          "base_uri": "https://localhost:8080/"
        },
        "id": "PCDYFs_CsKqA",
        "outputId": "6a968da6-0499-40d6-81e7-d5ae112ed238"
      },
      "execution_count": 39,
      "outputs": [
        {
          "output_type": "stream",
          "name": "stdout",
          "text": [
            "l2 norm = 3.1622776601683795 linf norm = 3.0\n"
          ]
        }
      ]
    },
    {
      "cell_type": "markdown",
      "source": [
        "3. Calculate the eigenvalues of the matrix:"
      ],
      "metadata": {
        "id": "QZgM1vYYS4TM"
      }
    },
    {
      "cell_type": "code",
      "source": [
        "A = np.array([[-2,-2,3],[-10,-1,6],[10,-2,-9]])\n",
        "np.linalg.eig(A)[0]"
      ],
      "metadata": {
        "colab": {
          "base_uri": "https://localhost:8080/"
        },
        "id": "SVexY627sgFg",
        "outputId": "8a4cac90-b871-4c3f-f7d8-fdecb3ae727d"
      },
      "execution_count": 40,
      "outputs": [
        {
          "output_type": "execute_result",
          "data": {
            "text/plain": [
              "array([  3., -12.,  -3.])"
            ]
          },
          "metadata": {},
          "execution_count": 40
        }
      ]
    },
    {
      "cell_type": "code",
      "source": [],
      "metadata": {
        "id": "noOwNU_hsirv"
      },
      "execution_count": 40,
      "outputs": []
    },
    {
      "cell_type": "markdown",
      "source": [
        "# **3 Pandas manipulations**"
      ],
      "metadata": {
        "id": "gZxY8I5eNm8c"
      }
    },
    {
      "cell_type": "markdown",
      "source": [
        "1. Import file Gas prices.xls as a pandas DataFrame. Create a function that replaces NaN with the interpolation between the adjacent values (i.e. the prior and the subse\u0002quent to the NaN). Do not use existing interpolation functions, built your own"
      ],
      "metadata": {
        "id": "WuKf6c33S7Nh"
      }
    },
    {
      "cell_type": "code",
      "source": [
        "import pandas as pd\n",
        "df1 = pd.DataFrame(pd.read_excel ('Gas_prices.xlsx'))"
      ],
      "metadata": {
        "colab": {
          "base_uri": "https://localhost:8080/"
        },
        "id": "TgDlnKGCNpKq",
        "outputId": "85c2b793-2a91-4513-fb9b-911817fe1ac8"
      },
      "execution_count": 41,
      "outputs": [
        {
          "output_type": "stream",
          "name": "stderr",
          "text": [
            "/usr/local/lib/python3.7/dist-packages/openpyxl/worksheet/_reader.py:312: UserWarning: Unknown extension is not supported and will be removed\n",
            "  warn(msg)\n"
          ]
        }
      ]
    },
    {
      "cell_type": "code",
      "source": [
        "def replace_nan(df):\n",
        "  for col in df.columns:\n",
        "    for i in df[df[col].isnull()].index:\n",
        "      fill = (df.loc[i-1,col]+df.loc[i+1,col])/2\n",
        "      df.loc[i,col] = fill\n",
        "  return df\n",
        "df1.isnull().sum()"
      ],
      "metadata": {
        "colab": {
          "base_uri": "https://localhost:8080/"
        },
        "id": "ieC3qhd8QODs",
        "outputId": "7f6d54b5-6430-44c0-cbe3-0a53e68ccb44"
      },
      "execution_count": 42,
      "outputs": [
        {
          "output_type": "execute_result",
          "data": {
            "text/plain": [
              "Date        0\n",
              "Price_pl    4\n",
              "dtype: int64"
            ]
          },
          "metadata": {},
          "execution_count": 42
        }
      ]
    },
    {
      "cell_type": "code",
      "source": [
        "replace_nan(df1)"
      ],
      "metadata": {
        "colab": {
          "base_uri": "https://localhost:8080/",
          "height": 424
        },
        "id": "RPdc3IrXQ1Wk",
        "outputId": "27a47cdb-5063-47be-c50d-db7890845992"
      },
      "execution_count": 43,
      "outputs": [
        {
          "output_type": "execute_result",
          "data": {
            "text/plain": [
              "          Date  Price_pl\n",
              "0   12/11/2015     1.049\n",
              "1   19/11/2015     0.999\n",
              "2    7/12/2015     0.999\n",
              "3   19/12/2015     1.019\n",
              "4   04/01/2016     1.019\n",
              "..         ...       ...\n",
              "77  17/10/2018     1.209\n",
              "78  01/11/2018     1.196\n",
              "79  12/11/2018     1.126\n",
              "80  27/11/2018     1.059\n",
              "81  06/12/2018     1.016\n",
              "\n",
              "[82 rows x 2 columns]"
            ],
            "text/html": [
              "\n",
              "  <div id=\"df-cfee1405-28f8-4d13-ba39-aa201f8e8300\">\n",
              "    <div class=\"colab-df-container\">\n",
              "      <div>\n",
              "<style scoped>\n",
              "    .dataframe tbody tr th:only-of-type {\n",
              "        vertical-align: middle;\n",
              "    }\n",
              "\n",
              "    .dataframe tbody tr th {\n",
              "        vertical-align: top;\n",
              "    }\n",
              "\n",
              "    .dataframe thead th {\n",
              "        text-align: right;\n",
              "    }\n",
              "</style>\n",
              "<table border=\"1\" class=\"dataframe\">\n",
              "  <thead>\n",
              "    <tr style=\"text-align: right;\">\n",
              "      <th></th>\n",
              "      <th>Date</th>\n",
              "      <th>Price_pl</th>\n",
              "    </tr>\n",
              "  </thead>\n",
              "  <tbody>\n",
              "    <tr>\n",
              "      <th>0</th>\n",
              "      <td>12/11/2015</td>\n",
              "      <td>1.049</td>\n",
              "    </tr>\n",
              "    <tr>\n",
              "      <th>1</th>\n",
              "      <td>19/11/2015</td>\n",
              "      <td>0.999</td>\n",
              "    </tr>\n",
              "    <tr>\n",
              "      <th>2</th>\n",
              "      <td>7/12/2015</td>\n",
              "      <td>0.999</td>\n",
              "    </tr>\n",
              "    <tr>\n",
              "      <th>3</th>\n",
              "      <td>19/12/2015</td>\n",
              "      <td>1.019</td>\n",
              "    </tr>\n",
              "    <tr>\n",
              "      <th>4</th>\n",
              "      <td>04/01/2016</td>\n",
              "      <td>1.019</td>\n",
              "    </tr>\n",
              "    <tr>\n",
              "      <th>...</th>\n",
              "      <td>...</td>\n",
              "      <td>...</td>\n",
              "    </tr>\n",
              "    <tr>\n",
              "      <th>77</th>\n",
              "      <td>17/10/2018</td>\n",
              "      <td>1.209</td>\n",
              "    </tr>\n",
              "    <tr>\n",
              "      <th>78</th>\n",
              "      <td>01/11/2018</td>\n",
              "      <td>1.196</td>\n",
              "    </tr>\n",
              "    <tr>\n",
              "      <th>79</th>\n",
              "      <td>12/11/2018</td>\n",
              "      <td>1.126</td>\n",
              "    </tr>\n",
              "    <tr>\n",
              "      <th>80</th>\n",
              "      <td>27/11/2018</td>\n",
              "      <td>1.059</td>\n",
              "    </tr>\n",
              "    <tr>\n",
              "      <th>81</th>\n",
              "      <td>06/12/2018</td>\n",
              "      <td>1.016</td>\n",
              "    </tr>\n",
              "  </tbody>\n",
              "</table>\n",
              "<p>82 rows × 2 columns</p>\n",
              "</div>\n",
              "      <button class=\"colab-df-convert\" onclick=\"convertToInteractive('df-cfee1405-28f8-4d13-ba39-aa201f8e8300')\"\n",
              "              title=\"Convert this dataframe to an interactive table.\"\n",
              "              style=\"display:none;\">\n",
              "        \n",
              "  <svg xmlns=\"http://www.w3.org/2000/svg\" height=\"24px\"viewBox=\"0 0 24 24\"\n",
              "       width=\"24px\">\n",
              "    <path d=\"M0 0h24v24H0V0z\" fill=\"none\"/>\n",
              "    <path d=\"M18.56 5.44l.94 2.06.94-2.06 2.06-.94-2.06-.94-.94-2.06-.94 2.06-2.06.94zm-11 1L8.5 8.5l.94-2.06 2.06-.94-2.06-.94L8.5 2.5l-.94 2.06-2.06.94zm10 10l.94 2.06.94-2.06 2.06-.94-2.06-.94-.94-2.06-.94 2.06-2.06.94z\"/><path d=\"M17.41 7.96l-1.37-1.37c-.4-.4-.92-.59-1.43-.59-.52 0-1.04.2-1.43.59L10.3 9.45l-7.72 7.72c-.78.78-.78 2.05 0 2.83L4 21.41c.39.39.9.59 1.41.59.51 0 1.02-.2 1.41-.59l7.78-7.78 2.81-2.81c.8-.78.8-2.07 0-2.86zM5.41 20L4 18.59l7.72-7.72 1.47 1.35L5.41 20z\"/>\n",
              "  </svg>\n",
              "      </button>\n",
              "      \n",
              "  <style>\n",
              "    .colab-df-container {\n",
              "      display:flex;\n",
              "      flex-wrap:wrap;\n",
              "      gap: 12px;\n",
              "    }\n",
              "\n",
              "    .colab-df-convert {\n",
              "      background-color: #E8F0FE;\n",
              "      border: none;\n",
              "      border-radius: 50%;\n",
              "      cursor: pointer;\n",
              "      display: none;\n",
              "      fill: #1967D2;\n",
              "      height: 32px;\n",
              "      padding: 0 0 0 0;\n",
              "      width: 32px;\n",
              "    }\n",
              "\n",
              "    .colab-df-convert:hover {\n",
              "      background-color: #E2EBFA;\n",
              "      box-shadow: 0px 1px 2px rgba(60, 64, 67, 0.3), 0px 1px 3px 1px rgba(60, 64, 67, 0.15);\n",
              "      fill: #174EA6;\n",
              "    }\n",
              "\n",
              "    [theme=dark] .colab-df-convert {\n",
              "      background-color: #3B4455;\n",
              "      fill: #D2E3FC;\n",
              "    }\n",
              "\n",
              "    [theme=dark] .colab-df-convert:hover {\n",
              "      background-color: #434B5C;\n",
              "      box-shadow: 0px 1px 3px 1px rgba(0, 0, 0, 0.15);\n",
              "      filter: drop-shadow(0px 1px 2px rgba(0, 0, 0, 0.3));\n",
              "      fill: #FFFFFF;\n",
              "    }\n",
              "  </style>\n",
              "\n",
              "      <script>\n",
              "        const buttonEl =\n",
              "          document.querySelector('#df-cfee1405-28f8-4d13-ba39-aa201f8e8300 button.colab-df-convert');\n",
              "        buttonEl.style.display =\n",
              "          google.colab.kernel.accessAllowed ? 'block' : 'none';\n",
              "\n",
              "        async function convertToInteractive(key) {\n",
              "          const element = document.querySelector('#df-cfee1405-28f8-4d13-ba39-aa201f8e8300');\n",
              "          const dataTable =\n",
              "            await google.colab.kernel.invokeFunction('convertToInteractive',\n",
              "                                                     [key], {});\n",
              "          if (!dataTable) return;\n",
              "\n",
              "          const docLinkHtml = 'Like what you see? Visit the ' +\n",
              "            '<a target=\"_blank\" href=https://colab.research.google.com/notebooks/data_table.ipynb>data table notebook</a>'\n",
              "            + ' to learn more about interactive tables.';\n",
              "          element.innerHTML = '';\n",
              "          dataTable['output_type'] = 'display_data';\n",
              "          await google.colab.output.renderOutput(dataTable, element);\n",
              "          const docLink = document.createElement('div');\n",
              "          docLink.innerHTML = docLinkHtml;\n",
              "          element.appendChild(docLink);\n",
              "        }\n",
              "      </script>\n",
              "    </div>\n",
              "  </div>\n",
              "  "
            ]
          },
          "metadata": {},
          "execution_count": 43
        }
      ]
    },
    {
      "cell_type": "code",
      "source": [
        "df1.isnull().sum()"
      ],
      "metadata": {
        "colab": {
          "base_uri": "https://localhost:8080/"
        },
        "id": "8kJZJpE0RZ8J",
        "outputId": "4e9ce8f5-7d5c-4453-ada5-21bd86833247"
      },
      "execution_count": 44,
      "outputs": [
        {
          "output_type": "execute_result",
          "data": {
            "text/plain": [
              "Date        0\n",
              "Price_pl    0\n",
              "dtype: int64"
            ]
          },
          "metadata": {},
          "execution_count": 44
        }
      ]
    },
    {
      "cell_type": "markdown",
      "source": [
        "2. Find the index, the date and the value of the min and max gas price."
      ],
      "metadata": {
        "id": "J6f5hw7BS-61"
      }
    },
    {
      "cell_type": "code",
      "source": [
        "max_price_index = df1.sort_values(by=['Price_pl'], ascending=False).index[0]"
      ],
      "metadata": {
        "id": "JDkuXc2cSAuz"
      },
      "execution_count": 45,
      "outputs": []
    },
    {
      "cell_type": "code",
      "source": [
        "max_price = df1.Price_pl[max_price_index]\n",
        "max_price_date = df1.Date[max_price_index]\n",
        "print('max price is',max_price,'Date is',max_price_date)"
      ],
      "metadata": {
        "colab": {
          "base_uri": "https://localhost:8080/"
        },
        "id": "vZsuX-iZWGc1",
        "outputId": "65656318-a409-4d8a-b492-33880ef6c347"
      },
      "execution_count": 46,
      "outputs": [
        {
          "output_type": "stream",
          "name": "stdout",
          "text": [
            "max price is 1.336 Date is 23/05/2018\n"
          ]
        }
      ]
    },
    {
      "cell_type": "code",
      "source": [
        "min_price_index = df1.sort_values(by=['Price_pl'], ascending=False).index[-1]\n",
        "min_price = df1.Price_pl[min_price_index]\n",
        "min_price_date = df1.Date[min_price_index]\n",
        "print('min price is',min_price,'Date is',min_price_date)"
      ],
      "metadata": {
        "colab": {
          "base_uri": "https://localhost:8080/"
        },
        "id": "UcWAu9KQWHMy",
        "outputId": "17383a18-518b-4f6a-b2ff-a4b39bff883e"
      },
      "execution_count": 47,
      "outputs": [
        {
          "output_type": "stream",
          "name": "stdout",
          "text": [
            "min price is 0.889 Date is 20/2/2016\n"
          ]
        }
      ]
    },
    {
      "cell_type": "markdown",
      "source": [
        "3. Calculate the following descriptive statistics: mean, median, quantile, skewness and kurtosis."
      ],
      "metadata": {
        "id": "Aw4fN4WETCzI"
      }
    },
    {
      "cell_type": "code",
      "source": [
        "print('Mean:',df1.Price_pl.mean())\n",
        "print('Median:',df1.Price_pl.median())"
      ],
      "metadata": {
        "colab": {
          "base_uri": "https://localhost:8080/"
        },
        "id": "6ys5gZWpYV38",
        "outputId": "cadf2814-57e7-4803-ee73-f78be978e06b"
      },
      "execution_count": 48,
      "outputs": [
        {
          "output_type": "stream",
          "name": "stdout",
          "text": [
            "Mean: 1.095390243902439\n",
            "Median: 1.079\n"
          ]
        }
      ]
    },
    {
      "cell_type": "code",
      "source": [
        "print('25% Quantile:',df1.Price_pl.quantile(q=0.25))\n",
        "print('75% Quantile:',df1.Price_pl.quantile(q=0.75))"
      ],
      "metadata": {
        "colab": {
          "base_uri": "https://localhost:8080/"
        },
        "id": "6V0pgQIFZOCV",
        "outputId": "77a12dbe-378b-4dbe-e1c2-8bf121412dfc"
      },
      "execution_count": 49,
      "outputs": [
        {
          "output_type": "stream",
          "name": "stdout",
          "text": [
            "25% Quantile: 1.01975\n",
            "75% Quantile: 1.1717499999999998\n"
          ]
        }
      ]
    },
    {
      "cell_type": "code",
      "source": [
        "print('Skewness:',df1.Price_pl.skew())\n",
        "print('Kurtosis:',df1.Price_pl.kurtosis())"
      ],
      "metadata": {
        "colab": {
          "base_uri": "https://localhost:8080/"
        },
        "id": "oOrtup2qZIiE",
        "outputId": "16c3975e-0bef-4d0b-fafd-bc695364082e"
      },
      "execution_count": 50,
      "outputs": [
        {
          "output_type": "stream",
          "name": "stdout",
          "text": [
            "Skewness: 0.46752591499730667\n",
            "Kurtosis: -0.257963187132765\n"
          ]
        }
      ]
    },
    {
      "cell_type": "markdown",
      "source": [
        "4. Create two new columns with the Month and Year. Pivot the table by Month(index) and Year(columns). Calculate and plot the monthly average gas price. This should give you one line per year."
      ],
      "metadata": {
        "id": "IvnlAzwsTFu5"
      }
    },
    {
      "cell_type": "code",
      "source": [
        "import datetime"
      ],
      "metadata": {
        "id": "_qXo5mOKZQMo"
      },
      "execution_count": 51,
      "outputs": []
    },
    {
      "cell_type": "code",
      "source": [
        "df1['Date'] = pd.to_datetime(df1['Date'],format='%d/%m/%Y')"
      ],
      "metadata": {
        "id": "HUQHCZgDO2dn"
      },
      "execution_count": 52,
      "outputs": []
    },
    {
      "cell_type": "code",
      "source": [
        "df1['Year'] = pd.to_datetime(df1['Date']).dt.year\n",
        "df1['Month'] = pd.to_datetime(df1['Date']).dt.month"
      ],
      "metadata": {
        "id": "gBaHA4tuPAra"
      },
      "execution_count": 53,
      "outputs": []
    },
    {
      "cell_type": "code",
      "source": [
        "df2 = pd.pivot_table(df1, values='Price_pl', index=['Month'],columns=['Year'], aggfunc=np.average)\n",
        "df2"
      ],
      "metadata": {
        "id": "iZyw_kqbPH6R",
        "colab": {
          "base_uri": "https://localhost:8080/",
          "height": 457
        },
        "outputId": "76e0aa21-2410-445c-98bc-cf80a5ddb6ef"
      },
      "execution_count": 54,
      "outputs": [
        {
          "output_type": "execute_result",
          "data": {
            "text/plain": [
              "Year    2015      2016      2017      2018\n",
              "Month                                     \n",
              "1        NaN  0.964000  1.119000  1.197500\n",
              "2        NaN  0.899000  1.079000  1.186000\n",
              "3        NaN  0.929000  1.075000  1.215000\n",
              "4        NaN  1.031500  1.175667  1.287750\n",
              "5        NaN  1.075667  1.109000  1.328333\n",
              "6        NaN  1.048000  1.022000  1.289000\n",
              "7        NaN  1.024000  1.059000  1.312500\n",
              "8        NaN  0.993875  1.100667       NaN\n",
              "9        NaN  0.999000  1.086000       NaN\n",
              "10       NaN  1.049000  1.126000  1.209000\n",
              "11     1.024  0.949000  1.183000  1.127000\n",
              "12     1.009  1.074000  1.211000  1.016000"
            ],
            "text/html": [
              "\n",
              "  <div id=\"df-b6062a09-5720-40c5-9c1f-f3b7e85ea08d\">\n",
              "    <div class=\"colab-df-container\">\n",
              "      <div>\n",
              "<style scoped>\n",
              "    .dataframe tbody tr th:only-of-type {\n",
              "        vertical-align: middle;\n",
              "    }\n",
              "\n",
              "    .dataframe tbody tr th {\n",
              "        vertical-align: top;\n",
              "    }\n",
              "\n",
              "    .dataframe thead th {\n",
              "        text-align: right;\n",
              "    }\n",
              "</style>\n",
              "<table border=\"1\" class=\"dataframe\">\n",
              "  <thead>\n",
              "    <tr style=\"text-align: right;\">\n",
              "      <th>Year</th>\n",
              "      <th>2015</th>\n",
              "      <th>2016</th>\n",
              "      <th>2017</th>\n",
              "      <th>2018</th>\n",
              "    </tr>\n",
              "    <tr>\n",
              "      <th>Month</th>\n",
              "      <th></th>\n",
              "      <th></th>\n",
              "      <th></th>\n",
              "      <th></th>\n",
              "    </tr>\n",
              "  </thead>\n",
              "  <tbody>\n",
              "    <tr>\n",
              "      <th>1</th>\n",
              "      <td>NaN</td>\n",
              "      <td>0.964000</td>\n",
              "      <td>1.119000</td>\n",
              "      <td>1.197500</td>\n",
              "    </tr>\n",
              "    <tr>\n",
              "      <th>2</th>\n",
              "      <td>NaN</td>\n",
              "      <td>0.899000</td>\n",
              "      <td>1.079000</td>\n",
              "      <td>1.186000</td>\n",
              "    </tr>\n",
              "    <tr>\n",
              "      <th>3</th>\n",
              "      <td>NaN</td>\n",
              "      <td>0.929000</td>\n",
              "      <td>1.075000</td>\n",
              "      <td>1.215000</td>\n",
              "    </tr>\n",
              "    <tr>\n",
              "      <th>4</th>\n",
              "      <td>NaN</td>\n",
              "      <td>1.031500</td>\n",
              "      <td>1.175667</td>\n",
              "      <td>1.287750</td>\n",
              "    </tr>\n",
              "    <tr>\n",
              "      <th>5</th>\n",
              "      <td>NaN</td>\n",
              "      <td>1.075667</td>\n",
              "      <td>1.109000</td>\n",
              "      <td>1.328333</td>\n",
              "    </tr>\n",
              "    <tr>\n",
              "      <th>6</th>\n",
              "      <td>NaN</td>\n",
              "      <td>1.048000</td>\n",
              "      <td>1.022000</td>\n",
              "      <td>1.289000</td>\n",
              "    </tr>\n",
              "    <tr>\n",
              "      <th>7</th>\n",
              "      <td>NaN</td>\n",
              "      <td>1.024000</td>\n",
              "      <td>1.059000</td>\n",
              "      <td>1.312500</td>\n",
              "    </tr>\n",
              "    <tr>\n",
              "      <th>8</th>\n",
              "      <td>NaN</td>\n",
              "      <td>0.993875</td>\n",
              "      <td>1.100667</td>\n",
              "      <td>NaN</td>\n",
              "    </tr>\n",
              "    <tr>\n",
              "      <th>9</th>\n",
              "      <td>NaN</td>\n",
              "      <td>0.999000</td>\n",
              "      <td>1.086000</td>\n",
              "      <td>NaN</td>\n",
              "    </tr>\n",
              "    <tr>\n",
              "      <th>10</th>\n",
              "      <td>NaN</td>\n",
              "      <td>1.049000</td>\n",
              "      <td>1.126000</td>\n",
              "      <td>1.209000</td>\n",
              "    </tr>\n",
              "    <tr>\n",
              "      <th>11</th>\n",
              "      <td>1.024</td>\n",
              "      <td>0.949000</td>\n",
              "      <td>1.183000</td>\n",
              "      <td>1.127000</td>\n",
              "    </tr>\n",
              "    <tr>\n",
              "      <th>12</th>\n",
              "      <td>1.009</td>\n",
              "      <td>1.074000</td>\n",
              "      <td>1.211000</td>\n",
              "      <td>1.016000</td>\n",
              "    </tr>\n",
              "  </tbody>\n",
              "</table>\n",
              "</div>\n",
              "      <button class=\"colab-df-convert\" onclick=\"convertToInteractive('df-b6062a09-5720-40c5-9c1f-f3b7e85ea08d')\"\n",
              "              title=\"Convert this dataframe to an interactive table.\"\n",
              "              style=\"display:none;\">\n",
              "        \n",
              "  <svg xmlns=\"http://www.w3.org/2000/svg\" height=\"24px\"viewBox=\"0 0 24 24\"\n",
              "       width=\"24px\">\n",
              "    <path d=\"M0 0h24v24H0V0z\" fill=\"none\"/>\n",
              "    <path d=\"M18.56 5.44l.94 2.06.94-2.06 2.06-.94-2.06-.94-.94-2.06-.94 2.06-2.06.94zm-11 1L8.5 8.5l.94-2.06 2.06-.94-2.06-.94L8.5 2.5l-.94 2.06-2.06.94zm10 10l.94 2.06.94-2.06 2.06-.94-2.06-.94-.94-2.06-.94 2.06-2.06.94z\"/><path d=\"M17.41 7.96l-1.37-1.37c-.4-.4-.92-.59-1.43-.59-.52 0-1.04.2-1.43.59L10.3 9.45l-7.72 7.72c-.78.78-.78 2.05 0 2.83L4 21.41c.39.39.9.59 1.41.59.51 0 1.02-.2 1.41-.59l7.78-7.78 2.81-2.81c.8-.78.8-2.07 0-2.86zM5.41 20L4 18.59l7.72-7.72 1.47 1.35L5.41 20z\"/>\n",
              "  </svg>\n",
              "      </button>\n",
              "      \n",
              "  <style>\n",
              "    .colab-df-container {\n",
              "      display:flex;\n",
              "      flex-wrap:wrap;\n",
              "      gap: 12px;\n",
              "    }\n",
              "\n",
              "    .colab-df-convert {\n",
              "      background-color: #E8F0FE;\n",
              "      border: none;\n",
              "      border-radius: 50%;\n",
              "      cursor: pointer;\n",
              "      display: none;\n",
              "      fill: #1967D2;\n",
              "      height: 32px;\n",
              "      padding: 0 0 0 0;\n",
              "      width: 32px;\n",
              "    }\n",
              "\n",
              "    .colab-df-convert:hover {\n",
              "      background-color: #E2EBFA;\n",
              "      box-shadow: 0px 1px 2px rgba(60, 64, 67, 0.3), 0px 1px 3px 1px rgba(60, 64, 67, 0.15);\n",
              "      fill: #174EA6;\n",
              "    }\n",
              "\n",
              "    [theme=dark] .colab-df-convert {\n",
              "      background-color: #3B4455;\n",
              "      fill: #D2E3FC;\n",
              "    }\n",
              "\n",
              "    [theme=dark] .colab-df-convert:hover {\n",
              "      background-color: #434B5C;\n",
              "      box-shadow: 0px 1px 3px 1px rgba(0, 0, 0, 0.15);\n",
              "      filter: drop-shadow(0px 1px 2px rgba(0, 0, 0, 0.3));\n",
              "      fill: #FFFFFF;\n",
              "    }\n",
              "  </style>\n",
              "\n",
              "      <script>\n",
              "        const buttonEl =\n",
              "          document.querySelector('#df-b6062a09-5720-40c5-9c1f-f3b7e85ea08d button.colab-df-convert');\n",
              "        buttonEl.style.display =\n",
              "          google.colab.kernel.accessAllowed ? 'block' : 'none';\n",
              "\n",
              "        async function convertToInteractive(key) {\n",
              "          const element = document.querySelector('#df-b6062a09-5720-40c5-9c1f-f3b7e85ea08d');\n",
              "          const dataTable =\n",
              "            await google.colab.kernel.invokeFunction('convertToInteractive',\n",
              "                                                     [key], {});\n",
              "          if (!dataTable) return;\n",
              "\n",
              "          const docLinkHtml = 'Like what you see? Visit the ' +\n",
              "            '<a target=\"_blank\" href=https://colab.research.google.com/notebooks/data_table.ipynb>data table notebook</a>'\n",
              "            + ' to learn more about interactive tables.';\n",
              "          element.innerHTML = '';\n",
              "          dataTable['output_type'] = 'display_data';\n",
              "          await google.colab.output.renderOutput(dataTable, element);\n",
              "          const docLink = document.createElement('div');\n",
              "          docLink.innerHTML = docLinkHtml;\n",
              "          element.appendChild(docLink);\n",
              "        }\n",
              "      </script>\n",
              "    </div>\n",
              "  </div>\n",
              "  "
            ]
          },
          "metadata": {},
          "execution_count": 54
        }
      ]
    },
    {
      "cell_type": "markdown",
      "source": [
        "Since 2015 don't have 1-10 month data and 2018 don't have 8-9 month data so they are nan"
      ],
      "metadata": {
        "id": "s2KKVXi0mDSM"
      }
    },
    {
      "cell_type": "code",
      "source": [
        "df1[df1.Year==2018]"
      ],
      "metadata": {
        "colab": {
          "base_uri": "https://localhost:8080/",
          "height": 676
        },
        "id": "L1eS0ZljmM_z",
        "outputId": "0e2c06bb-09f6-4bff-fd43-44e2d203773c"
      },
      "execution_count": 55,
      "outputs": [
        {
          "output_type": "execute_result",
          "data": {
            "text/plain": [
              "         Date  Price_pl  Year  Month\n",
              "62 2018-01-04    1.2190  2018      1\n",
              "63 2018-01-08    1.1760  2018      1\n",
              "64 2018-02-02    1.2190  2018      2\n",
              "65 2018-02-14    1.1530  2018      2\n",
              "66 2018-03-03    1.1860  2018      3\n",
              "67 2018-03-09    1.1960  2018      3\n",
              "68 2018-03-26    1.2630  2018      3\n",
              "69 2018-04-02    1.2760  2018      4\n",
              "70 2018-04-24    1.2995  2018      4\n",
              "71 2018-05-02    1.3230  2018      5\n",
              "72 2018-05-12    1.3260  2018      5\n",
              "73 2018-05-23    1.3360  2018      5\n",
              "74 2018-06-20    1.2890  2018      6\n",
              "75 2018-07-03    1.3260  2018      7\n",
              "76 2018-07-27    1.2990  2018      7\n",
              "77 2018-10-17    1.2090  2018     10\n",
              "78 2018-11-01    1.1960  2018     11\n",
              "79 2018-11-12    1.1260  2018     11\n",
              "80 2018-11-27    1.0590  2018     11\n",
              "81 2018-12-06    1.0160  2018     12"
            ],
            "text/html": [
              "\n",
              "  <div id=\"df-e4d1e376-69db-4a4d-9e45-d9e4c6e5722f\">\n",
              "    <div class=\"colab-df-container\">\n",
              "      <div>\n",
              "<style scoped>\n",
              "    .dataframe tbody tr th:only-of-type {\n",
              "        vertical-align: middle;\n",
              "    }\n",
              "\n",
              "    .dataframe tbody tr th {\n",
              "        vertical-align: top;\n",
              "    }\n",
              "\n",
              "    .dataframe thead th {\n",
              "        text-align: right;\n",
              "    }\n",
              "</style>\n",
              "<table border=\"1\" class=\"dataframe\">\n",
              "  <thead>\n",
              "    <tr style=\"text-align: right;\">\n",
              "      <th></th>\n",
              "      <th>Date</th>\n",
              "      <th>Price_pl</th>\n",
              "      <th>Year</th>\n",
              "      <th>Month</th>\n",
              "    </tr>\n",
              "  </thead>\n",
              "  <tbody>\n",
              "    <tr>\n",
              "      <th>62</th>\n",
              "      <td>2018-01-04</td>\n",
              "      <td>1.2190</td>\n",
              "      <td>2018</td>\n",
              "      <td>1</td>\n",
              "    </tr>\n",
              "    <tr>\n",
              "      <th>63</th>\n",
              "      <td>2018-01-08</td>\n",
              "      <td>1.1760</td>\n",
              "      <td>2018</td>\n",
              "      <td>1</td>\n",
              "    </tr>\n",
              "    <tr>\n",
              "      <th>64</th>\n",
              "      <td>2018-02-02</td>\n",
              "      <td>1.2190</td>\n",
              "      <td>2018</td>\n",
              "      <td>2</td>\n",
              "    </tr>\n",
              "    <tr>\n",
              "      <th>65</th>\n",
              "      <td>2018-02-14</td>\n",
              "      <td>1.1530</td>\n",
              "      <td>2018</td>\n",
              "      <td>2</td>\n",
              "    </tr>\n",
              "    <tr>\n",
              "      <th>66</th>\n",
              "      <td>2018-03-03</td>\n",
              "      <td>1.1860</td>\n",
              "      <td>2018</td>\n",
              "      <td>3</td>\n",
              "    </tr>\n",
              "    <tr>\n",
              "      <th>67</th>\n",
              "      <td>2018-03-09</td>\n",
              "      <td>1.1960</td>\n",
              "      <td>2018</td>\n",
              "      <td>3</td>\n",
              "    </tr>\n",
              "    <tr>\n",
              "      <th>68</th>\n",
              "      <td>2018-03-26</td>\n",
              "      <td>1.2630</td>\n",
              "      <td>2018</td>\n",
              "      <td>3</td>\n",
              "    </tr>\n",
              "    <tr>\n",
              "      <th>69</th>\n",
              "      <td>2018-04-02</td>\n",
              "      <td>1.2760</td>\n",
              "      <td>2018</td>\n",
              "      <td>4</td>\n",
              "    </tr>\n",
              "    <tr>\n",
              "      <th>70</th>\n",
              "      <td>2018-04-24</td>\n",
              "      <td>1.2995</td>\n",
              "      <td>2018</td>\n",
              "      <td>4</td>\n",
              "    </tr>\n",
              "    <tr>\n",
              "      <th>71</th>\n",
              "      <td>2018-05-02</td>\n",
              "      <td>1.3230</td>\n",
              "      <td>2018</td>\n",
              "      <td>5</td>\n",
              "    </tr>\n",
              "    <tr>\n",
              "      <th>72</th>\n",
              "      <td>2018-05-12</td>\n",
              "      <td>1.3260</td>\n",
              "      <td>2018</td>\n",
              "      <td>5</td>\n",
              "    </tr>\n",
              "    <tr>\n",
              "      <th>73</th>\n",
              "      <td>2018-05-23</td>\n",
              "      <td>1.3360</td>\n",
              "      <td>2018</td>\n",
              "      <td>5</td>\n",
              "    </tr>\n",
              "    <tr>\n",
              "      <th>74</th>\n",
              "      <td>2018-06-20</td>\n",
              "      <td>1.2890</td>\n",
              "      <td>2018</td>\n",
              "      <td>6</td>\n",
              "    </tr>\n",
              "    <tr>\n",
              "      <th>75</th>\n",
              "      <td>2018-07-03</td>\n",
              "      <td>1.3260</td>\n",
              "      <td>2018</td>\n",
              "      <td>7</td>\n",
              "    </tr>\n",
              "    <tr>\n",
              "      <th>76</th>\n",
              "      <td>2018-07-27</td>\n",
              "      <td>1.2990</td>\n",
              "      <td>2018</td>\n",
              "      <td>7</td>\n",
              "    </tr>\n",
              "    <tr>\n",
              "      <th>77</th>\n",
              "      <td>2018-10-17</td>\n",
              "      <td>1.2090</td>\n",
              "      <td>2018</td>\n",
              "      <td>10</td>\n",
              "    </tr>\n",
              "    <tr>\n",
              "      <th>78</th>\n",
              "      <td>2018-11-01</td>\n",
              "      <td>1.1960</td>\n",
              "      <td>2018</td>\n",
              "      <td>11</td>\n",
              "    </tr>\n",
              "    <tr>\n",
              "      <th>79</th>\n",
              "      <td>2018-11-12</td>\n",
              "      <td>1.1260</td>\n",
              "      <td>2018</td>\n",
              "      <td>11</td>\n",
              "    </tr>\n",
              "    <tr>\n",
              "      <th>80</th>\n",
              "      <td>2018-11-27</td>\n",
              "      <td>1.0590</td>\n",
              "      <td>2018</td>\n",
              "      <td>11</td>\n",
              "    </tr>\n",
              "    <tr>\n",
              "      <th>81</th>\n",
              "      <td>2018-12-06</td>\n",
              "      <td>1.0160</td>\n",
              "      <td>2018</td>\n",
              "      <td>12</td>\n",
              "    </tr>\n",
              "  </tbody>\n",
              "</table>\n",
              "</div>\n",
              "      <button class=\"colab-df-convert\" onclick=\"convertToInteractive('df-e4d1e376-69db-4a4d-9e45-d9e4c6e5722f')\"\n",
              "              title=\"Convert this dataframe to an interactive table.\"\n",
              "              style=\"display:none;\">\n",
              "        \n",
              "  <svg xmlns=\"http://www.w3.org/2000/svg\" height=\"24px\"viewBox=\"0 0 24 24\"\n",
              "       width=\"24px\">\n",
              "    <path d=\"M0 0h24v24H0V0z\" fill=\"none\"/>\n",
              "    <path d=\"M18.56 5.44l.94 2.06.94-2.06 2.06-.94-2.06-.94-.94-2.06-.94 2.06-2.06.94zm-11 1L8.5 8.5l.94-2.06 2.06-.94-2.06-.94L8.5 2.5l-.94 2.06-2.06.94zm10 10l.94 2.06.94-2.06 2.06-.94-2.06-.94-.94-2.06-.94 2.06-2.06.94z\"/><path d=\"M17.41 7.96l-1.37-1.37c-.4-.4-.92-.59-1.43-.59-.52 0-1.04.2-1.43.59L10.3 9.45l-7.72 7.72c-.78.78-.78 2.05 0 2.83L4 21.41c.39.39.9.59 1.41.59.51 0 1.02-.2 1.41-.59l7.78-7.78 2.81-2.81c.8-.78.8-2.07 0-2.86zM5.41 20L4 18.59l7.72-7.72 1.47 1.35L5.41 20z\"/>\n",
              "  </svg>\n",
              "      </button>\n",
              "      \n",
              "  <style>\n",
              "    .colab-df-container {\n",
              "      display:flex;\n",
              "      flex-wrap:wrap;\n",
              "      gap: 12px;\n",
              "    }\n",
              "\n",
              "    .colab-df-convert {\n",
              "      background-color: #E8F0FE;\n",
              "      border: none;\n",
              "      border-radius: 50%;\n",
              "      cursor: pointer;\n",
              "      display: none;\n",
              "      fill: #1967D2;\n",
              "      height: 32px;\n",
              "      padding: 0 0 0 0;\n",
              "      width: 32px;\n",
              "    }\n",
              "\n",
              "    .colab-df-convert:hover {\n",
              "      background-color: #E2EBFA;\n",
              "      box-shadow: 0px 1px 2px rgba(60, 64, 67, 0.3), 0px 1px 3px 1px rgba(60, 64, 67, 0.15);\n",
              "      fill: #174EA6;\n",
              "    }\n",
              "\n",
              "    [theme=dark] .colab-df-convert {\n",
              "      background-color: #3B4455;\n",
              "      fill: #D2E3FC;\n",
              "    }\n",
              "\n",
              "    [theme=dark] .colab-df-convert:hover {\n",
              "      background-color: #434B5C;\n",
              "      box-shadow: 0px 1px 3px 1px rgba(0, 0, 0, 0.15);\n",
              "      filter: drop-shadow(0px 1px 2px rgba(0, 0, 0, 0.3));\n",
              "      fill: #FFFFFF;\n",
              "    }\n",
              "  </style>\n",
              "\n",
              "      <script>\n",
              "        const buttonEl =\n",
              "          document.querySelector('#df-e4d1e376-69db-4a4d-9e45-d9e4c6e5722f button.colab-df-convert');\n",
              "        buttonEl.style.display =\n",
              "          google.colab.kernel.accessAllowed ? 'block' : 'none';\n",
              "\n",
              "        async function convertToInteractive(key) {\n",
              "          const element = document.querySelector('#df-e4d1e376-69db-4a4d-9e45-d9e4c6e5722f');\n",
              "          const dataTable =\n",
              "            await google.colab.kernel.invokeFunction('convertToInteractive',\n",
              "                                                     [key], {});\n",
              "          if (!dataTable) return;\n",
              "\n",
              "          const docLinkHtml = 'Like what you see? Visit the ' +\n",
              "            '<a target=\"_blank\" href=https://colab.research.google.com/notebooks/data_table.ipynb>data table notebook</a>'\n",
              "            + ' to learn more about interactive tables.';\n",
              "          element.innerHTML = '';\n",
              "          dataTable['output_type'] = 'display_data';\n",
              "          await google.colab.output.renderOutput(dataTable, element);\n",
              "          const docLink = document.createElement('div');\n",
              "          docLink.innerHTML = docLinkHtml;\n",
              "          element.appendChild(docLink);\n",
              "        }\n",
              "      </script>\n",
              "    </div>\n",
              "  </div>\n",
              "  "
            ]
          },
          "metadata": {},
          "execution_count": 55
        }
      ]
    },
    {
      "cell_type": "code",
      "source": [
        "df1[df1.Year==2015]"
      ],
      "metadata": {
        "colab": {
          "base_uri": "https://localhost:8080/",
          "height": 175
        },
        "id": "hgNBWcz1mxY6",
        "outputId": "9fc206bc-0e70-4407-fbae-83dabd4f20e1"
      },
      "execution_count": 56,
      "outputs": [
        {
          "output_type": "execute_result",
          "data": {
            "text/plain": [
              "        Date  Price_pl  Year  Month\n",
              "0 2015-11-12     1.049  2015     11\n",
              "1 2015-11-19     0.999  2015     11\n",
              "2 2015-12-07     0.999  2015     12\n",
              "3 2015-12-19     1.019  2015     12"
            ],
            "text/html": [
              "\n",
              "  <div id=\"df-1983d4ea-aa68-4dd4-b6f9-bdb53718acf0\">\n",
              "    <div class=\"colab-df-container\">\n",
              "      <div>\n",
              "<style scoped>\n",
              "    .dataframe tbody tr th:only-of-type {\n",
              "        vertical-align: middle;\n",
              "    }\n",
              "\n",
              "    .dataframe tbody tr th {\n",
              "        vertical-align: top;\n",
              "    }\n",
              "\n",
              "    .dataframe thead th {\n",
              "        text-align: right;\n",
              "    }\n",
              "</style>\n",
              "<table border=\"1\" class=\"dataframe\">\n",
              "  <thead>\n",
              "    <tr style=\"text-align: right;\">\n",
              "      <th></th>\n",
              "      <th>Date</th>\n",
              "      <th>Price_pl</th>\n",
              "      <th>Year</th>\n",
              "      <th>Month</th>\n",
              "    </tr>\n",
              "  </thead>\n",
              "  <tbody>\n",
              "    <tr>\n",
              "      <th>0</th>\n",
              "      <td>2015-11-12</td>\n",
              "      <td>1.049</td>\n",
              "      <td>2015</td>\n",
              "      <td>11</td>\n",
              "    </tr>\n",
              "    <tr>\n",
              "      <th>1</th>\n",
              "      <td>2015-11-19</td>\n",
              "      <td>0.999</td>\n",
              "      <td>2015</td>\n",
              "      <td>11</td>\n",
              "    </tr>\n",
              "    <tr>\n",
              "      <th>2</th>\n",
              "      <td>2015-12-07</td>\n",
              "      <td>0.999</td>\n",
              "      <td>2015</td>\n",
              "      <td>12</td>\n",
              "    </tr>\n",
              "    <tr>\n",
              "      <th>3</th>\n",
              "      <td>2015-12-19</td>\n",
              "      <td>1.019</td>\n",
              "      <td>2015</td>\n",
              "      <td>12</td>\n",
              "    </tr>\n",
              "  </tbody>\n",
              "</table>\n",
              "</div>\n",
              "      <button class=\"colab-df-convert\" onclick=\"convertToInteractive('df-1983d4ea-aa68-4dd4-b6f9-bdb53718acf0')\"\n",
              "              title=\"Convert this dataframe to an interactive table.\"\n",
              "              style=\"display:none;\">\n",
              "        \n",
              "  <svg xmlns=\"http://www.w3.org/2000/svg\" height=\"24px\"viewBox=\"0 0 24 24\"\n",
              "       width=\"24px\">\n",
              "    <path d=\"M0 0h24v24H0V0z\" fill=\"none\"/>\n",
              "    <path d=\"M18.56 5.44l.94 2.06.94-2.06 2.06-.94-2.06-.94-.94-2.06-.94 2.06-2.06.94zm-11 1L8.5 8.5l.94-2.06 2.06-.94-2.06-.94L8.5 2.5l-.94 2.06-2.06.94zm10 10l.94 2.06.94-2.06 2.06-.94-2.06-.94-.94-2.06-.94 2.06-2.06.94z\"/><path d=\"M17.41 7.96l-1.37-1.37c-.4-.4-.92-.59-1.43-.59-.52 0-1.04.2-1.43.59L10.3 9.45l-7.72 7.72c-.78.78-.78 2.05 0 2.83L4 21.41c.39.39.9.59 1.41.59.51 0 1.02-.2 1.41-.59l7.78-7.78 2.81-2.81c.8-.78.8-2.07 0-2.86zM5.41 20L4 18.59l7.72-7.72 1.47 1.35L5.41 20z\"/>\n",
              "  </svg>\n",
              "      </button>\n",
              "      \n",
              "  <style>\n",
              "    .colab-df-container {\n",
              "      display:flex;\n",
              "      flex-wrap:wrap;\n",
              "      gap: 12px;\n",
              "    }\n",
              "\n",
              "    .colab-df-convert {\n",
              "      background-color: #E8F0FE;\n",
              "      border: none;\n",
              "      border-radius: 50%;\n",
              "      cursor: pointer;\n",
              "      display: none;\n",
              "      fill: #1967D2;\n",
              "      height: 32px;\n",
              "      padding: 0 0 0 0;\n",
              "      width: 32px;\n",
              "    }\n",
              "\n",
              "    .colab-df-convert:hover {\n",
              "      background-color: #E2EBFA;\n",
              "      box-shadow: 0px 1px 2px rgba(60, 64, 67, 0.3), 0px 1px 3px 1px rgba(60, 64, 67, 0.15);\n",
              "      fill: #174EA6;\n",
              "    }\n",
              "\n",
              "    [theme=dark] .colab-df-convert {\n",
              "      background-color: #3B4455;\n",
              "      fill: #D2E3FC;\n",
              "    }\n",
              "\n",
              "    [theme=dark] .colab-df-convert:hover {\n",
              "      background-color: #434B5C;\n",
              "      box-shadow: 0px 1px 3px 1px rgba(0, 0, 0, 0.15);\n",
              "      filter: drop-shadow(0px 1px 2px rgba(0, 0, 0, 0.3));\n",
              "      fill: #FFFFFF;\n",
              "    }\n",
              "  </style>\n",
              "\n",
              "      <script>\n",
              "        const buttonEl =\n",
              "          document.querySelector('#df-1983d4ea-aa68-4dd4-b6f9-bdb53718acf0 button.colab-df-convert');\n",
              "        buttonEl.style.display =\n",
              "          google.colab.kernel.accessAllowed ? 'block' : 'none';\n",
              "\n",
              "        async function convertToInteractive(key) {\n",
              "          const element = document.querySelector('#df-1983d4ea-aa68-4dd4-b6f9-bdb53718acf0');\n",
              "          const dataTable =\n",
              "            await google.colab.kernel.invokeFunction('convertToInteractive',\n",
              "                                                     [key], {});\n",
              "          if (!dataTable) return;\n",
              "\n",
              "          const docLinkHtml = 'Like what you see? Visit the ' +\n",
              "            '<a target=\"_blank\" href=https://colab.research.google.com/notebooks/data_table.ipynb>data table notebook</a>'\n",
              "            + ' to learn more about interactive tables.';\n",
              "          element.innerHTML = '';\n",
              "          dataTable['output_type'] = 'display_data';\n",
              "          await google.colab.output.renderOutput(dataTable, element);\n",
              "          const docLink = document.createElement('div');\n",
              "          docLink.innerHTML = docLinkHtml;\n",
              "          element.appendChild(docLink);\n",
              "        }\n",
              "      </script>\n",
              "    </div>\n",
              "  </div>\n",
              "  "
            ]
          },
          "metadata": {},
          "execution_count": 56
        }
      ]
    },
    {
      "cell_type": "code",
      "source": [
        "import matplotlib.pyplot as plt\n"
      ],
      "metadata": {
        "id": "f7YZP-FHm8ka"
      },
      "execution_count": 57,
      "outputs": []
    },
    {
      "cell_type": "code",
      "source": [
        "df2.plot(title = 'Monthly average gas price',figsize = (10,5))\n",
        "plt.show()"
      ],
      "metadata": {
        "colab": {
          "base_uri": "https://localhost:8080/",
          "height": 350
        },
        "id": "4KlQk6VOm_AC",
        "outputId": "8591abda-b1ae-4614-9c88-306280d3c03a"
      },
      "execution_count": 58,
      "outputs": [
        {
          "output_type": "display_data",
          "data": {
            "text/plain": [
              "<Figure size 720x360 with 1 Axes>"
            ],
            "image/png": "[encoded data removed]"
          },
          "metadata": {
            "needs_background": "light"
          }
        }
      ]
    },
    {
      "cell_type": "markdown",
      "source": [
        "Create a new column with the season of the year, set it as a secondary index and\n",
        "calculate the average of every season (regardless of the year) to create the following\n",
        "table:"
      ],
      "metadata": {
        "id": "lLNXLS3Knke6"
      }
    },
    {
      "cell_type": "code",
      "source": [
        "for i in range(len(df1)):\n",
        "  if df1.iloc[i].Month in (3,4,5):\n",
        "    df1.loc[i,'Season'] = 'Spring'\n",
        "  if df1.iloc[i].Month in (6,7,8):\n",
        "    df1.loc[i,'Season'] = 'Summer'\n",
        "  if df1.iloc[i].Month in (9,10,11):\n",
        "    df1.loc[i,'Season'] = 'Fall'\n",
        "  if df1.iloc[i].Month in (12,1,2):\n",
        "    df1.loc[i,'Season'] = 'Winter'\n",
        " "
      ],
      "metadata": {
        "id": "xK4hfT_Mnjre"
      },
      "execution_count": 59,
      "outputs": []
    },
    {
      "cell_type": "code",
      "source": [
        "df1"
      ],
      "metadata": {
        "colab": {
          "base_uri": "https://localhost:8080/",
          "height": 424
        },
        "id": "e5nnA3rptqmo",
        "outputId": "929b9b16-0aad-499b-d457-0be70be19c81"
      },
      "execution_count": 60,
      "outputs": [
        {
          "output_type": "execute_result",
          "data": {
            "text/plain": [
              "         Date  Price_pl  Year  Month  Season\n",
              "0  2015-11-12     1.049  2015     11    Fall\n",
              "1  2015-11-19     0.999  2015     11    Fall\n",
              "2  2015-12-07     0.999  2015     12  Winter\n",
              "3  2015-12-19     1.019  2015     12  Winter\n",
              "4  2016-01-04     1.019  2016      1  Winter\n",
              "..        ...       ...   ...    ...     ...\n",
              "77 2018-10-17     1.209  2018     10    Fall\n",
              "78 2018-11-01     1.196  2018     11    Fall\n",
              "79 2018-11-12     1.126  2018     11    Fall\n",
              "80 2018-11-27     1.059  2018     11    Fall\n",
              "81 2018-12-06     1.016  2018     12  Winter\n",
              "\n",
              "[82 rows x 5 columns]"
            ],
            "text/html": [
              "\n",
              "  <div id=\"df-32ffc461-a8be-44d5-8c96-013c36ea72a7\">\n",
              "    <div class=\"colab-df-container\">\n",
              "      <div>\n",
              "<style scoped>\n",
              "    .dataframe tbody tr th:only-of-type {\n",
              "        vertical-align: middle;\n",
              "    }\n",
              "\n",
              "    .dataframe tbody tr th {\n",
              "        vertical-align: top;\n",
              "    }\n",
              "\n",
              "    .dataframe thead th {\n",
              "        text-align: right;\n",
              "    }\n",
              "</style>\n",
              "<table border=\"1\" class=\"dataframe\">\n",
              "  <thead>\n",
              "    <tr style=\"text-align: right;\">\n",
              "      <th></th>\n",
              "      <th>Date</th>\n",
              "      <th>Price_pl</th>\n",
              "      <th>Year</th>\n",
              "      <th>Month</th>\n",
              "      <th>Season</th>\n",
              "    </tr>\n",
              "  </thead>\n",
              "  <tbody>\n",
              "    <tr>\n",
              "      <th>0</th>\n",
              "      <td>2015-11-12</td>\n",
              "      <td>1.049</td>\n",
              "      <td>2015</td>\n",
              "      <td>11</td>\n",
              "      <td>Fall</td>\n",
              "    </tr>\n",
              "    <tr>\n",
              "      <th>1</th>\n",
              "      <td>2015-11-19</td>\n",
              "      <td>0.999</td>\n",
              "      <td>2015</td>\n",
              "      <td>11</td>\n",
              "      <td>Fall</td>\n",
              "    </tr>\n",
              "    <tr>\n",
              "      <th>2</th>\n",
              "      <td>2015-12-07</td>\n",
              "      <td>0.999</td>\n",
              "      <td>2015</td>\n",
              "      <td>12</td>\n",
              "      <td>Winter</td>\n",
              "    </tr>\n",
              "    <tr>\n",
              "      <th>3</th>\n",
              "      <td>2015-12-19</td>\n",
              "      <td>1.019</td>\n",
              "      <td>2015</td>\n",
              "      <td>12</td>\n",
              "      <td>Winter</td>\n",
              "    </tr>\n",
              "    <tr>\n",
              "      <th>4</th>\n",
              "      <td>2016-01-04</td>\n",
              "      <td>1.019</td>\n",
              "      <td>2016</td>\n",
              "      <td>1</td>\n",
              "      <td>Winter</td>\n",
              "    </tr>\n",
              "    <tr>\n",
              "      <th>...</th>\n",
              "      <td>...</td>\n",
              "      <td>...</td>\n",
              "      <td>...</td>\n",
              "      <td>...</td>\n",
              "      <td>...</td>\n",
              "    </tr>\n",
              "    <tr>\n",
              "      <th>77</th>\n",
              "      <td>2018-10-17</td>\n",
              "      <td>1.209</td>\n",
              "      <td>2018</td>\n",
              "      <td>10</td>\n",
              "      <td>Fall</td>\n",
              "    </tr>\n",
              "    <tr>\n",
              "      <th>78</th>\n",
              "      <td>2018-11-01</td>\n",
              "      <td>1.196</td>\n",
              "      <td>2018</td>\n",
              "      <td>11</td>\n",
              "      <td>Fall</td>\n",
              "    </tr>\n",
              "    <tr>\n",
              "      <th>79</th>\n",
              "      <td>2018-11-12</td>\n",
              "      <td>1.126</td>\n",
              "      <td>2018</td>\n",
              "      <td>11</td>\n",
              "      <td>Fall</td>\n",
              "    </tr>\n",
              "    <tr>\n",
              "      <th>80</th>\n",
              "      <td>2018-11-27</td>\n",
              "      <td>1.059</td>\n",
              "      <td>2018</td>\n",
              "      <td>11</td>\n",
              "      <td>Fall</td>\n",
              "    </tr>\n",
              "    <tr>\n",
              "      <th>81</th>\n",
              "      <td>2018-12-06</td>\n",
              "      <td>1.016</td>\n",
              "      <td>2018</td>\n",
              "      <td>12</td>\n",
              "      <td>Winter</td>\n",
              "    </tr>\n",
              "  </tbody>\n",
              "</table>\n",
              "<p>82 rows × 5 columns</p>\n",
              "</div>\n",
              "      <button class=\"colab-df-convert\" onclick=\"convertToInteractive('df-32ffc461-a8be-44d5-8c96-013c36ea72a7')\"\n",
              "              title=\"Convert this dataframe to an interactive table.\"\n",
              "              style=\"display:none;\">\n",
              "        \n",
              "  <svg xmlns=\"http://www.w3.org/2000/svg\" height=\"24px\"viewBox=\"0 0 24 24\"\n",
              "       width=\"24px\">\n",
              "    <path d=\"M0 0h24v24H0V0z\" fill=\"none\"/>\n",
              "    <path d=\"M18.56 5.44l.94 2.06.94-2.06 2.06-.94-2.06-.94-.94-2.06-.94 2.06-2.06.94zm-11 1L8.5 8.5l.94-2.06 2.06-.94-2.06-.94L8.5 2.5l-.94 2.06-2.06.94zm10 10l.94 2.06.94-2.06 2.06-.94-2.06-.94-.94-2.06-.94 2.06-2.06.94z\"/><path d=\"M17.41 7.96l-1.37-1.37c-.4-.4-.92-.59-1.43-.59-.52 0-1.04.2-1.43.59L10.3 9.45l-7.72 7.72c-.78.78-.78 2.05 0 2.83L4 21.41c.39.39.9.59 1.41.59.51 0 1.02-.2 1.41-.59l7.78-7.78 2.81-2.81c.8-.78.8-2.07 0-2.86zM5.41 20L4 18.59l7.72-7.72 1.47 1.35L5.41 20z\"/>\n",
              "  </svg>\n",
              "      </button>\n",
              "      \n",
              "  <style>\n",
              "    .colab-df-container {\n",
              "      display:flex;\n",
              "      flex-wrap:wrap;\n",
              "      gap: 12px;\n",
              "    }\n",
              "\n",
              "    .colab-df-convert {\n",
              "      background-color: #E8F0FE;\n",
              "      border: none;\n",
              "      border-radius: 50%;\n",
              "      cursor: pointer;\n",
              "      display: none;\n",
              "      fill: #1967D2;\n",
              "      height: 32px;\n",
              "      padding: 0 0 0 0;\n",
              "      width: 32px;\n",
              "    }\n",
              "\n",
              "    .colab-df-convert:hover {\n",
              "      background-color: #E2EBFA;\n",
              "      box-shadow: 0px 1px 2px rgba(60, 64, 67, 0.3), 0px 1px 3px 1px rgba(60, 64, 67, 0.15);\n",
              "      fill: #174EA6;\n",
              "    }\n",
              "\n",
              "    [theme=dark] .colab-df-convert {\n",
              "      background-color: #3B4455;\n",
              "      fill: #D2E3FC;\n",
              "    }\n",
              "\n",
              "    [theme=dark] .colab-df-convert:hover {\n",
              "      background-color: #434B5C;\n",
              "      box-shadow: 0px 1px 3px 1px rgba(0, 0, 0, 0.15);\n",
              "      filter: drop-shadow(0px 1px 2px rgba(0, 0, 0, 0.3));\n",
              "      fill: #FFFFFF;\n",
              "    }\n",
              "  </style>\n",
              "\n",
              "      <script>\n",
              "        const buttonEl =\n",
              "          document.querySelector('#df-32ffc461-a8be-44d5-8c96-013c36ea72a7 button.colab-df-convert');\n",
              "        buttonEl.style.display =\n",
              "          google.colab.kernel.accessAllowed ? 'block' : 'none';\n",
              "\n",
              "        async function convertToInteractive(key) {\n",
              "          const element = document.querySelector('#df-32ffc461-a8be-44d5-8c96-013c36ea72a7');\n",
              "          const dataTable =\n",
              "            await google.colab.kernel.invokeFunction('convertToInteractive',\n",
              "                                                     [key], {});\n",
              "          if (!dataTable) return;\n",
              "\n",
              "          const docLinkHtml = 'Like what you see? Visit the ' +\n",
              "            '<a target=\"_blank\" href=https://colab.research.google.com/notebooks/data_table.ipynb>data table notebook</a>'\n",
              "            + ' to learn more about interactive tables.';\n",
              "          element.innerHTML = '';\n",
              "          dataTable['output_type'] = 'display_data';\n",
              "          await google.colab.output.renderOutput(dataTable, element);\n",
              "          const docLink = document.createElement('div');\n",
              "          docLink.innerHTML = docLinkHtml;\n",
              "          element.appendChild(docLink);\n",
              "        }\n",
              "      </script>\n",
              "    </div>\n",
              "  </div>\n",
              "  "
            ]
          },
          "metadata": {},
          "execution_count": 60
        }
      ]
    },
    {
      "cell_type": "code",
      "source": [
        "df3 = pd.pivot_table(df1, values='Price_pl', index=['Month','Season'], aggfunc=np.average)"
      ],
      "metadata": {
        "id": "rUNto_Fht3p1"
      },
      "execution_count": 61,
      "outputs": []
    },
    {
      "cell_type": "code",
      "source": [
        "df3"
      ],
      "metadata": {
        "colab": {
          "base_uri": "https://localhost:8080/",
          "height": 457
        },
        "id": "Zpi5QZeVt7GF",
        "outputId": "9e143df1-099e-4861-ef9e-3f7e78f3b79d"
      },
      "execution_count": 62,
      "outputs": [
        {
          "output_type": "execute_result",
          "data": {
            "text/plain": [
              "              Price_pl\n",
              "Month Season          \n",
              "1     Winter  1.072700\n",
              "2     Winter  1.058143\n",
              "3     Spring  1.087800\n",
              "4     Spring  1.166500\n",
              "5     Spring  1.154800\n",
              "6     Summer  1.091000\n",
              "7     Summer  1.146400\n",
              "8     Summer  1.039643\n",
              "9     Fall    1.042500\n",
              "10    Fall    1.108250\n",
              "11    Fall    1.063750\n",
              "12    Winter  1.086286"
            ],
            "text/html": [
              "\n",
              "  <div id=\"df-fa8db320-d0d6-47cf-8bed-8ac638e640b9\">\n",
              "    <div class=\"colab-df-container\">\n",
              "      <div>\n",
              "<style scoped>\n",
              "    .dataframe tbody tr th:only-of-type {\n",
              "        vertical-align: middle;\n",
              "    }\n",
              "\n",
              "    .dataframe tbody tr th {\n",
              "        vertical-align: top;\n",
              "    }\n",
              "\n",
              "    .dataframe thead th {\n",
              "        text-align: right;\n",
              "    }\n",
              "</style>\n",
              "<table border=\"1\" class=\"dataframe\">\n",
              "  <thead>\n",
              "    <tr style=\"text-align: right;\">\n",
              "      <th></th>\n",
              "      <th></th>\n",
              "      <th>Price_pl</th>\n",
              "    </tr>\n",
              "    <tr>\n",
              "      <th>Month</th>\n",
              "      <th>Season</th>\n",
              "      <th></th>\n",
              "    </tr>\n",
              "  </thead>\n",
              "  <tbody>\n",
              "    <tr>\n",
              "      <th>1</th>\n",
              "      <th>Winter</th>\n",
              "      <td>1.072700</td>\n",
              "    </tr>\n",
              "    <tr>\n",
              "      <th>2</th>\n",
              "      <th>Winter</th>\n",
              "      <td>1.058143</td>\n",
              "    </tr>\n",
              "    <tr>\n",
              "      <th>3</th>\n",
              "      <th>Spring</th>\n",
              "      <td>1.087800</td>\n",
              "    </tr>\n",
              "    <tr>\n",
              "      <th>4</th>\n",
              "      <th>Spring</th>\n",
              "      <td>1.166500</td>\n",
              "    </tr>\n",
              "    <tr>\n",
              "      <th>5</th>\n",
              "      <th>Spring</th>\n",
              "      <td>1.154800</td>\n",
              "    </tr>\n",
              "    <tr>\n",
              "      <th>6</th>\n",
              "      <th>Summer</th>\n",
              "      <td>1.091000</td>\n",
              "    </tr>\n",
              "    <tr>\n",
              "      <th>7</th>\n",
              "      <th>Summer</th>\n",
              "      <td>1.146400</td>\n",
              "    </tr>\n",
              "    <tr>\n",
              "      <th>8</th>\n",
              "      <th>Summer</th>\n",
              "      <td>1.039643</td>\n",
              "    </tr>\n",
              "    <tr>\n",
              "      <th>9</th>\n",
              "      <th>Fall</th>\n",
              "      <td>1.042500</td>\n",
              "    </tr>\n",
              "    <tr>\n",
              "      <th>10</th>\n",
              "      <th>Fall</th>\n",
              "      <td>1.108250</td>\n",
              "    </tr>\n",
              "    <tr>\n",
              "      <th>11</th>\n",
              "      <th>Fall</th>\n",
              "      <td>1.063750</td>\n",
              "    </tr>\n",
              "    <tr>\n",
              "      <th>12</th>\n",
              "      <th>Winter</th>\n",
              "      <td>1.086286</td>\n",
              "    </tr>\n",
              "  </tbody>\n",
              "</table>\n",
              "</div>\n",
              "      <button class=\"colab-df-convert\" onclick=\"convertToInteractive('df-fa8db320-d0d6-47cf-8bed-8ac638e640b9')\"\n",
              "              title=\"Convert this dataframe to an interactive table.\"\n",
              "              style=\"display:none;\">\n",
              "        \n",
              "  <svg xmlns=\"http://www.w3.org/2000/svg\" height=\"24px\"viewBox=\"0 0 24 24\"\n",
              "       width=\"24px\">\n",
              "    <path d=\"M0 0h24v24H0V0z\" fill=\"none\"/>\n",
              "    <path d=\"M18.56 5.44l.94 2.06.94-2.06 2.06-.94-2.06-.94-.94-2.06-.94 2.06-2.06.94zm-11 1L8.5 8.5l.94-2.06 2.06-.94-2.06-.94L8.5 2.5l-.94 2.06-2.06.94zm10 10l.94 2.06.94-2.06 2.06-.94-2.06-.94-.94-2.06-.94 2.06-2.06.94z\"/><path d=\"M17.41 7.96l-1.37-1.37c-.4-.4-.92-.59-1.43-.59-.52 0-1.04.2-1.43.59L10.3 9.45l-7.72 7.72c-.78.78-.78 2.05 0 2.83L4 21.41c.39.39.9.59 1.41.59.51 0 1.02-.2 1.41-.59l7.78-7.78 2.81-2.81c.8-.78.8-2.07 0-2.86zM5.41 20L4 18.59l7.72-7.72 1.47 1.35L5.41 20z\"/>\n",
              "  </svg>\n",
              "      </button>\n",
              "      \n",
              "  <style>\n",
              "    .colab-df-container {\n",
              "      display:flex;\n",
              "      flex-wrap:wrap;\n",
              "      gap: 12px;\n",
              "    }\n",
              "\n",
              "    .colab-df-convert {\n",
              "      background-color: #E8F0FE;\n",
              "      border: none;\n",
              "      border-radius: 50%;\n",
              "      cursor: pointer;\n",
              "      display: none;\n",
              "      fill: #1967D2;\n",
              "      height: 32px;\n",
              "      padding: 0 0 0 0;\n",
              "      width: 32px;\n",
              "    }\n",
              "\n",
              "    .colab-df-convert:hover {\n",
              "      background-color: #E2EBFA;\n",
              "      box-shadow: 0px 1px 2px rgba(60, 64, 67, 0.3), 0px 1px 3px 1px rgba(60, 64, 67, 0.15);\n",
              "      fill: #174EA6;\n",
              "    }\n",
              "\n",
              "    [theme=dark] .colab-df-convert {\n",
              "      background-color: #3B4455;\n",
              "      fill: #D2E3FC;\n",
              "    }\n",
              "\n",
              "    [theme=dark] .colab-df-convert:hover {\n",
              "      background-color: #434B5C;\n",
              "      box-shadow: 0px 1px 3px 1px rgba(0, 0, 0, 0.15);\n",
              "      filter: drop-shadow(0px 1px 2px rgba(0, 0, 0, 0.3));\n",
              "      fill: #FFFFFF;\n",
              "    }\n",
              "  </style>\n",
              "\n",
              "      <script>\n",
              "        const buttonEl =\n",
              "          document.querySelector('#df-fa8db320-d0d6-47cf-8bed-8ac638e640b9 button.colab-df-convert');\n",
              "        buttonEl.style.display =\n",
              "          google.colab.kernel.accessAllowed ? 'block' : 'none';\n",
              "\n",
              "        async function convertToInteractive(key) {\n",
              "          const element = document.querySelector('#df-fa8db320-d0d6-47cf-8bed-8ac638e640b9');\n",
              "          const dataTable =\n",
              "            await google.colab.kernel.invokeFunction('convertToInteractive',\n",
              "                                                     [key], {});\n",
              "          if (!dataTable) return;\n",
              "\n",
              "          const docLinkHtml = 'Like what you see? Visit the ' +\n",
              "            '<a target=\"_blank\" href=https://colab.research.google.com/notebooks/data_table.ipynb>data table notebook</a>'\n",
              "            + ' to learn more about interactive tables.';\n",
              "          element.innerHTML = '';\n",
              "          dataTable['output_type'] = 'display_data';\n",
              "          await google.colab.output.renderOutput(dataTable, element);\n",
              "          const docLink = document.createElement('div');\n",
              "          docLink.innerHTML = docLinkHtml;\n",
              "          element.appendChild(docLink);\n",
              "        }\n",
              "      </script>\n",
              "    </div>\n",
              "  </div>\n",
              "  "
            ]
          },
          "metadata": {},
          "execution_count": 62
        }
      ]
    },
    {
      "cell_type": "markdown",
      "source": [
        "# **4 Pivot, aggregate and plot timeseries**"
      ],
      "metadata": {
        "id": "2j49AJbGuJoS"
      }
    },
    {
      "cell_type": "markdown",
      "source": [
        "1. Import file TREB data.xls as a pandas DataFrame. Create the necessary columns\n",
        "to pivot and generate the table below with the value of Sales (hint: use the split()\n",
        "function to split the MonthYear column to Month and Year)"
      ],
      "metadata": {
        "id": "vtXSftX_uLX3"
      }
    },
    {
      "cell_type": "code",
      "source": [
        "df4 = pd.read_excel('TREB_Data.xlsx')"
      ],
      "metadata": {
        "colab": {
          "base_uri": "https://localhost:8080/"
        },
        "id": "BBVLX-fKuOOu",
        "outputId": "fd88c6db-3ba2-49f8-b3dd-a67cb035142a"
      },
      "execution_count": 63,
      "outputs": [
        {
          "output_type": "stream",
          "name": "stderr",
          "text": [
            "/usr/local/lib/python3.7/dist-packages/openpyxl/worksheet/_reader.py:312: UserWarning: Unknown extension is not supported and will be removed\n",
            "  warn(msg)\n"
          ]
        }
      ]
    },
    {
      "cell_type": "code",
      "source": [
        "df4.head()"
      ],
      "metadata": {
        "colab": {
          "base_uri": "https://localhost:8080/",
          "height": 206
        },
        "id": "zvrIsnxqwynu",
        "outputId": "c719fbb5-a3bb-4f81-a944-f94e783fa26d"
      },
      "execution_count": 64,
      "outputs": [
        {
          "output_type": "execute_result",
          "data": {
            "text/plain": [
              "       MonthYear  Sales  AveragePrice\n",
              "0   January-2017   5155        768351\n",
              "1  February-2017   7955        876363\n",
              "2     March-2017  11959        915353\n",
              "3     April-2017  11470        918138\n",
              "4       May-2017  10068        862109"
            ],
            "text/html": [
              "\n",
              "  <div id=\"df-47d6adb0-1c81-4b30-b0e3-f899aa91bd72\">\n",
              "    <div class=\"colab-df-container\">\n",
              "      <div>\n",
              "<style scoped>\n",
              "    .dataframe tbody tr th:only-of-type {\n",
              "        vertical-align: middle;\n",
              "    }\n",
              "\n",
              "    .dataframe tbody tr th {\n",
              "        vertical-align: top;\n",
              "    }\n",
              "\n",
              "    .dataframe thead th {\n",
              "        text-align: right;\n",
              "    }\n",
              "</style>\n",
              "<table border=\"1\" class=\"dataframe\">\n",
              "  <thead>\n",
              "    <tr style=\"text-align: right;\">\n",
              "      <th></th>\n",
              "      <th>MonthYear</th>\n",
              "      <th>Sales</th>\n",
              "      <th>AveragePrice</th>\n",
              "    </tr>\n",
              "  </thead>\n",
              "  <tbody>\n",
              "    <tr>\n",
              "      <th>0</th>\n",
              "      <td>January-2017</td>\n",
              "      <td>5155</td>\n",
              "      <td>768351</td>\n",
              "    </tr>\n",
              "    <tr>\n",
              "      <th>1</th>\n",
              "      <td>February-2017</td>\n",
              "      <td>7955</td>\n",
              "      <td>876363</td>\n",
              "    </tr>\n",
              "    <tr>\n",
              "      <th>2</th>\n",
              "      <td>March-2017</td>\n",
              "      <td>11959</td>\n",
              "      <td>915353</td>\n",
              "    </tr>\n",
              "    <tr>\n",
              "      <th>3</th>\n",
              "      <td>April-2017</td>\n",
              "      <td>11470</td>\n",
              "      <td>918138</td>\n",
              "    </tr>\n",
              "    <tr>\n",
              "      <th>4</th>\n",
              "      <td>May-2017</td>\n",
              "      <td>10068</td>\n",
              "      <td>862109</td>\n",
              "    </tr>\n",
              "  </tbody>\n",
              "</table>\n",
              "</div>\n",
              "      <button class=\"colab-df-convert\" onclick=\"convertToInteractive('df-47d6adb0-1c81-4b30-b0e3-f899aa91bd72')\"\n",
              "              title=\"Convert this dataframe to an interactive table.\"\n",
              "              style=\"display:none;\">\n",
              "        \n",
              "  <svg xmlns=\"http://www.w3.org/2000/svg\" height=\"24px\"viewBox=\"0 0 24 24\"\n",
              "       width=\"24px\">\n",
              "    <path d=\"M0 0h24v24H0V0z\" fill=\"none\"/>\n",
              "    <path d=\"M18.56 5.44l.94 2.06.94-2.06 2.06-.94-2.06-.94-.94-2.06-.94 2.06-2.06.94zm-11 1L8.5 8.5l.94-2.06 2.06-.94-2.06-.94L8.5 2.5l-.94 2.06-2.06.94zm10 10l.94 2.06.94-2.06 2.06-.94-2.06-.94-.94-2.06-.94 2.06-2.06.94z\"/><path d=\"M17.41 7.96l-1.37-1.37c-.4-.4-.92-.59-1.43-.59-.52 0-1.04.2-1.43.59L10.3 9.45l-7.72 7.72c-.78.78-.78 2.05 0 2.83L4 21.41c.39.39.9.59 1.41.59.51 0 1.02-.2 1.41-.59l7.78-7.78 2.81-2.81c.8-.78.8-2.07 0-2.86zM5.41 20L4 18.59l7.72-7.72 1.47 1.35L5.41 20z\"/>\n",
              "  </svg>\n",
              "      </button>\n",
              "      \n",
              "  <style>\n",
              "    .colab-df-container {\n",
              "      display:flex;\n",
              "      flex-wrap:wrap;\n",
              "      gap: 12px;\n",
              "    }\n",
              "\n",
              "    .colab-df-convert {\n",
              "      background-color: #E8F0FE;\n",
              "      border: none;\n",
              "      border-radius: 50%;\n",
              "      cursor: pointer;\n",
              "      display: none;\n",
              "      fill: #1967D2;\n",
              "      height: 32px;\n",
              "      padding: 0 0 0 0;\n",
              "      width: 32px;\n",
              "    }\n",
              "\n",
              "    .colab-df-convert:hover {\n",
              "      background-color: #E2EBFA;\n",
              "      box-shadow: 0px 1px 2px rgba(60, 64, 67, 0.3), 0px 1px 3px 1px rgba(60, 64, 67, 0.15);\n",
              "      fill: #174EA6;\n",
              "    }\n",
              "\n",
              "    [theme=dark] .colab-df-convert {\n",
              "      background-color: #3B4455;\n",
              "      fill: #D2E3FC;\n",
              "    }\n",
              "\n",
              "    [theme=dark] .colab-df-convert:hover {\n",
              "      background-color: #434B5C;\n",
              "      box-shadow: 0px 1px 3px 1px rgba(0, 0, 0, 0.15);\n",
              "      filter: drop-shadow(0px 1px 2px rgba(0, 0, 0, 0.3));\n",
              "      fill: #FFFFFF;\n",
              "    }\n",
              "  </style>\n",
              "\n",
              "      <script>\n",
              "        const buttonEl =\n",
              "          document.querySelector('#df-47d6adb0-1c81-4b30-b0e3-f899aa91bd72 button.colab-df-convert');\n",
              "        buttonEl.style.display =\n",
              "          google.colab.kernel.accessAllowed ? 'block' : 'none';\n",
              "\n",
              "        async function convertToInteractive(key) {\n",
              "          const element = document.querySelector('#df-47d6adb0-1c81-4b30-b0e3-f899aa91bd72');\n",
              "          const dataTable =\n",
              "            await google.colab.kernel.invokeFunction('convertToInteractive',\n",
              "                                                     [key], {});\n",
              "          if (!dataTable) return;\n",
              "\n",
              "          const docLinkHtml = 'Like what you see? Visit the ' +\n",
              "            '<a target=\"_blank\" href=https://colab.research.google.com/notebooks/data_table.ipynb>data table notebook</a>'\n",
              "            + ' to learn more about interactive tables.';\n",
              "          element.innerHTML = '';\n",
              "          dataTable['output_type'] = 'display_data';\n",
              "          await google.colab.output.renderOutput(dataTable, element);\n",
              "          const docLink = document.createElement('div');\n",
              "          docLink.innerHTML = docLinkHtml;\n",
              "          element.appendChild(docLink);\n",
              "        }\n",
              "      </script>\n",
              "    </div>\n",
              "  </div>\n",
              "  "
            ]
          },
          "metadata": {},
          "execution_count": 64
        }
      ]
    },
    {
      "cell_type": "code",
      "source": [
        "df4[['Month','Year']] = df4['MonthYear'].str.split('-',expand=True)"
      ],
      "metadata": {
        "id": "7y7z_LeXw1nz"
      },
      "execution_count": 65,
      "outputs": []
    },
    {
      "cell_type": "code",
      "source": [
        "df4.head()"
      ],
      "metadata": {
        "id": "u3Rz7RbyxDrs",
        "outputId": "1c3e15c1-b5ea-4222-d26b-16b3e76a34ab",
        "colab": {
          "base_uri": "https://localhost:8080/",
          "height": 206
        }
      },
      "execution_count": 66,
      "outputs": [
        {
          "output_type": "execute_result",
          "data": {
            "text/plain": [
              "       MonthYear  Sales  AveragePrice     Month  Year\n",
              "0   January-2017   5155        768351   January  2017\n",
              "1  February-2017   7955        876363  February  2017\n",
              "2     March-2017  11959        915353     March  2017\n",
              "3     April-2017  11470        918138     April  2017\n",
              "4       May-2017  10068        862109       May  2017"
            ],
            "text/html": [
              "\n",
              "  <div id=\"df-b5266fe3-7813-40e6-bd35-51ac2032fba9\">\n",
              "    <div class=\"colab-df-container\">\n",
              "      <div>\n",
              "<style scoped>\n",
              "    .dataframe tbody tr th:only-of-type {\n",
              "        vertical-align: middle;\n",
              "    }\n",
              "\n",
              "    .dataframe tbody tr th {\n",
              "        vertical-align: top;\n",
              "    }\n",
              "\n",
              "    .dataframe thead th {\n",
              "        text-align: right;\n",
              "    }\n",
              "</style>\n",
              "<table border=\"1\" class=\"dataframe\">\n",
              "  <thead>\n",
              "    <tr style=\"text-align: right;\">\n",
              "      <th></th>\n",
              "      <th>MonthYear</th>\n",
              "      <th>Sales</th>\n",
              "      <th>AveragePrice</th>\n",
              "      <th>Month</th>\n",
              "      <th>Year</th>\n",
              "    </tr>\n",
              "  </thead>\n",
              "  <tbody>\n",
              "    <tr>\n",
              "      <th>0</th>\n",
              "      <td>January-2017</td>\n",
              "      <td>5155</td>\n",
              "      <td>768351</td>\n",
              "      <td>January</td>\n",
              "      <td>2017</td>\n",
              "    </tr>\n",
              "    <tr>\n",
              "      <th>1</th>\n",
              "      <td>February-2017</td>\n",
              "      <td>7955</td>\n",
              "      <td>876363</td>\n",
              "      <td>February</td>\n",
              "      <td>2017</td>\n",
              "    </tr>\n",
              "    <tr>\n",
              "      <th>2</th>\n",
              "      <td>March-2017</td>\n",
              "      <td>11959</td>\n",
              "      <td>915353</td>\n",
              "      <td>March</td>\n",
              "      <td>2017</td>\n",
              "    </tr>\n",
              "    <tr>\n",
              "      <th>3</th>\n",
              "      <td>April-2017</td>\n",
              "      <td>11470</td>\n",
              "      <td>918138</td>\n",
              "      <td>April</td>\n",
              "      <td>2017</td>\n",
              "    </tr>\n",
              "    <tr>\n",
              "      <th>4</th>\n",
              "      <td>May-2017</td>\n",
              "      <td>10068</td>\n",
              "      <td>862109</td>\n",
              "      <td>May</td>\n",
              "      <td>2017</td>\n",
              "    </tr>\n",
              "  </tbody>\n",
              "</table>\n",
              "</div>\n",
              "      <button class=\"colab-df-convert\" onclick=\"convertToInteractive('df-b5266fe3-7813-40e6-bd35-51ac2032fba9')\"\n",
              "              title=\"Convert this dataframe to an interactive table.\"\n",
              "              style=\"display:none;\">\n",
              "        \n",
              "  <svg xmlns=\"http://www.w3.org/2000/svg\" height=\"24px\"viewBox=\"0 0 24 24\"\n",
              "       width=\"24px\">\n",
              "    <path d=\"M0 0h24v24H0V0z\" fill=\"none\"/>\n",
              "    <path d=\"M18.56 5.44l.94 2.06.94-2.06 2.06-.94-2.06-.94-.94-2.06-.94 2.06-2.06.94zm-11 1L8.5 8.5l.94-2.06 2.06-.94-2.06-.94L8.5 2.5l-.94 2.06-2.06.94zm10 10l.94 2.06.94-2.06 2.06-.94-2.06-.94-.94-2.06-.94 2.06-2.06.94z\"/><path d=\"M17.41 7.96l-1.37-1.37c-.4-.4-.92-.59-1.43-.59-.52 0-1.04.2-1.43.59L10.3 9.45l-7.72 7.72c-.78.78-.78 2.05 0 2.83L4 21.41c.39.39.9.59 1.41.59.51 0 1.02-.2 1.41-.59l7.78-7.78 2.81-2.81c.8-.78.8-2.07 0-2.86zM5.41 20L4 18.59l7.72-7.72 1.47 1.35L5.41 20z\"/>\n",
              "  </svg>\n",
              "      </button>\n",
              "      \n",
              "  <style>\n",
              "    .colab-df-container {\n",
              "      display:flex;\n",
              "      flex-wrap:wrap;\n",
              "      gap: 12px;\n",
              "    }\n",
              "\n",
              "    .colab-df-convert {\n",
              "      background-color: #E8F0FE;\n",
              "      border: none;\n",
              "      border-radius: 50%;\n",
              "      cursor: pointer;\n",
              "      display: none;\n",
              "      fill: #1967D2;\n",
              "      height: 32px;\n",
              "      padding: 0 0 0 0;\n",
              "      width: 32px;\n",
              "    }\n",
              "\n",
              "    .colab-df-convert:hover {\n",
              "      background-color: #E2EBFA;\n",
              "      box-shadow: 0px 1px 2px rgba(60, 64, 67, 0.3), 0px 1px 3px 1px rgba(60, 64, 67, 0.15);\n",
              "      fill: #174EA6;\n",
              "    }\n",
              "\n",
              "    [theme=dark] .colab-df-convert {\n",
              "      background-color: #3B4455;\n",
              "      fill: #D2E3FC;\n",
              "    }\n",
              "\n",
              "    [theme=dark] .colab-df-convert:hover {\n",
              "      background-color: #434B5C;\n",
              "      box-shadow: 0px 1px 3px 1px rgba(0, 0, 0, 0.15);\n",
              "      filter: drop-shadow(0px 1px 2px rgba(0, 0, 0, 0.3));\n",
              "      fill: #FFFFFF;\n",
              "    }\n",
              "  </style>\n",
              "\n",
              "      <script>\n",
              "        const buttonEl =\n",
              "          document.querySelector('#df-b5266fe3-7813-40e6-bd35-51ac2032fba9 button.colab-df-convert');\n",
              "        buttonEl.style.display =\n",
              "          google.colab.kernel.accessAllowed ? 'block' : 'none';\n",
              "\n",
              "        async function convertToInteractive(key) {\n",
              "          const element = document.querySelector('#df-b5266fe3-7813-40e6-bd35-51ac2032fba9');\n",
              "          const dataTable =\n",
              "            await google.colab.kernel.invokeFunction('convertToInteractive',\n",
              "                                                     [key], {});\n",
              "          if (!dataTable) return;\n",
              "\n",
              "          const docLinkHtml = 'Like what you see? Visit the ' +\n",
              "            '<a target=\"_blank\" href=https://colab.research.google.com/notebooks/data_table.ipynb>data table notebook</a>'\n",
              "            + ' to learn more about interactive tables.';\n",
              "          element.innerHTML = '';\n",
              "          dataTable['output_type'] = 'display_data';\n",
              "          await google.colab.output.renderOutput(dataTable, element);\n",
              "          const docLink = document.createElement('div');\n",
              "          docLink.innerHTML = docLinkHtml;\n",
              "          element.appendChild(docLink);\n",
              "        }\n",
              "      </script>\n",
              "    </div>\n",
              "  </div>\n",
              "  "
            ]
          },
          "metadata": {},
          "execution_count": 66
        }
      ]
    },
    {
      "cell_type": "code",
      "source": [
        "df5 = df4.pivot_table(values='Sales', index='Month', columns='Year')\n",
        "df5"
      ],
      "metadata": {
        "id": "1CPhWIY9xFec",
        "colab": {
          "base_uri": "https://localhost:8080/",
          "height": 457
        },
        "outputId": "bd01f340-1bd6-411d-faad-77c16c43d464"
      },
      "execution_count": 67,
      "outputs": [
        {
          "output_type": "execute_result",
          "data": {
            "text/plain": [
              "Year       2013   2014   2015   2016   2017\n",
              "Month                                      \n",
              "April      9537   9660  11254  12016  11470\n",
              "August     7390   7568   7943   9748   6310\n",
              "December   4058   4418   4917   5305   4930\n",
              "February   5615   5696   6294   7582   7955\n",
              "January    4230   4103   4318   4640   5155\n",
              "July       8367   9152   9813   9929   5871\n",
              "June       8821  10132  11905  12725   7896\n",
              "March      7536   8052   8886  10260  11959\n",
              "May        9945  11013  11640  12789  10068\n",
              "November   6354   6475   7337   8503   7353\n",
              "October    7940   8512   8759   9715   7087\n",
              "September  7256   8001   8147   9828   6340"
            ],
            "text/html": [
              "\n",
              "  <div id=\"df-078bc438-3b3f-4ac5-b1ca-e0f14eb602d5\">\n",
              "    <div class=\"colab-df-container\">\n",
              "      <div>\n",
              "<style scoped>\n",
              "    .dataframe tbody tr th:only-of-type {\n",
              "        vertical-align: middle;\n",
              "    }\n",
              "\n",
              "    .dataframe tbody tr th {\n",
              "        vertical-align: top;\n",
              "    }\n",
              "\n",
              "    .dataframe thead th {\n",
              "        text-align: right;\n",
              "    }\n",
              "</style>\n",
              "<table border=\"1\" class=\"dataframe\">\n",
              "  <thead>\n",
              "    <tr style=\"text-align: right;\">\n",
              "      <th>Year</th>\n",
              "      <th>2013</th>\n",
              "      <th>2014</th>\n",
              "      <th>2015</th>\n",
              "      <th>2016</th>\n",
              "      <th>2017</th>\n",
              "    </tr>\n",
              "    <tr>\n",
              "      <th>Month</th>\n",
              "      <th></th>\n",
              "      <th></th>\n",
              "      <th></th>\n",
              "      <th></th>\n",
              "      <th></th>\n",
              "    </tr>\n",
              "  </thead>\n",
              "  <tbody>\n",
              "    <tr>\n",
              "      <th>April</th>\n",
              "      <td>9537</td>\n",
              "      <td>9660</td>\n",
              "      <td>11254</td>\n",
              "      <td>12016</td>\n",
              "      <td>11470</td>\n",
              "    </tr>\n",
              "    <tr>\n",
              "      <th>August</th>\n",
              "      <td>7390</td>\n",
              "      <td>7568</td>\n",
              "      <td>7943</td>\n",
              "      <td>9748</td>\n",
              "      <td>6310</td>\n",
              "    </tr>\n",
              "    <tr>\n",
              "      <th>December</th>\n",
              "      <td>4058</td>\n",
              "      <td>4418</td>\n",
              "      <td>4917</td>\n",
              "      <td>5305</td>\n",
              "      <td>4930</td>\n",
              "    </tr>\n",
              "    <tr>\n",
              "      <th>February</th>\n",
              "      <td>5615</td>\n",
              "      <td>5696</td>\n",
              "      <td>6294</td>\n",
              "      <td>7582</td>\n",
              "      <td>7955</td>\n",
              "    </tr>\n",
              "    <tr>\n",
              "      <th>January</th>\n",
              "      <td>4230</td>\n",
              "      <td>4103</td>\n",
              "      <td>4318</td>\n",
              "      <td>4640</td>\n",
              "      <td>5155</td>\n",
              "    </tr>\n",
              "    <tr>\n",
              "      <th>July</th>\n",
              "      <td>8367</td>\n",
              "      <td>9152</td>\n",
              "      <td>9813</td>\n",
              "      <td>9929</td>\n",
              "      <td>5871</td>\n",
              "    </tr>\n",
              "    <tr>\n",
              "      <th>June</th>\n",
              "      <td>8821</td>\n",
              "      <td>10132</td>\n",
              "      <td>11905</td>\n",
              "      <td>12725</td>\n",
              "      <td>7896</td>\n",
              "    </tr>\n",
              "    <tr>\n",
              "      <th>March</th>\n",
              "      <td>7536</td>\n",
              "      <td>8052</td>\n",
              "      <td>8886</td>\n",
              "      <td>10260</td>\n",
              "      <td>11959</td>\n",
              "    </tr>\n",
              "    <tr>\n",
              "      <th>May</th>\n",
              "      <td>9945</td>\n",
              "      <td>11013</td>\n",
              "      <td>11640</td>\n",
              "      <td>12789</td>\n",
              "      <td>10068</td>\n",
              "    </tr>\n",
              "    <tr>\n",
              "      <th>November</th>\n",
              "      <td>6354</td>\n",
              "      <td>6475</td>\n",
              "      <td>7337</td>\n",
              "      <td>8503</td>\n",
              "      <td>7353</td>\n",
              "    </tr>\n",
              "    <tr>\n",
              "      <th>October</th>\n",
              "      <td>7940</td>\n",
              "      <td>8512</td>\n",
              "      <td>8759</td>\n",
              "      <td>9715</td>\n",
              "      <td>7087</td>\n",
              "    </tr>\n",
              "    <tr>\n",
              "      <th>September</th>\n",
              "      <td>7256</td>\n",
              "      <td>8001</td>\n",
              "      <td>8147</td>\n",
              "      <td>9828</td>\n",
              "      <td>6340</td>\n",
              "    </tr>\n",
              "  </tbody>\n",
              "</table>\n",
              "</div>\n",
              "      <button class=\"colab-df-convert\" onclick=\"convertToInteractive('df-078bc438-3b3f-4ac5-b1ca-e0f14eb602d5')\"\n",
              "              title=\"Convert this dataframe to an interactive table.\"\n",
              "              style=\"display:none;\">\n",
              "        \n",
              "  <svg xmlns=\"http://www.w3.org/2000/svg\" height=\"24px\"viewBox=\"0 0 24 24\"\n",
              "       width=\"24px\">\n",
              "    <path d=\"M0 0h24v24H0V0z\" fill=\"none\"/>\n",
              "    <path d=\"M18.56 5.44l.94 2.06.94-2.06 2.06-.94-2.06-.94-.94-2.06-.94 2.06-2.06.94zm-11 1L8.5 8.5l.94-2.06 2.06-.94-2.06-.94L8.5 2.5l-.94 2.06-2.06.94zm10 10l.94 2.06.94-2.06 2.06-.94-2.06-.94-.94-2.06-.94 2.06-2.06.94z\"/><path d=\"M17.41 7.96l-1.37-1.37c-.4-.4-.92-.59-1.43-.59-.52 0-1.04.2-1.43.59L10.3 9.45l-7.72 7.72c-.78.78-.78 2.05 0 2.83L4 21.41c.39.39.9.59 1.41.59.51 0 1.02-.2 1.41-.59l7.78-7.78 2.81-2.81c.8-.78.8-2.07 0-2.86zM5.41 20L4 18.59l7.72-7.72 1.47 1.35L5.41 20z\"/>\n",
              "  </svg>\n",
              "      </button>\n",
              "      \n",
              "  <style>\n",
              "    .colab-df-container {\n",
              "      display:flex;\n",
              "      flex-wrap:wrap;\n",
              "      gap: 12px;\n",
              "    }\n",
              "\n",
              "    .colab-df-convert {\n",
              "      background-color: #E8F0FE;\n",
              "      border: none;\n",
              "      border-radius: 50%;\n",
              "      cursor: pointer;\n",
              "      display: none;\n",
              "      fill: #1967D2;\n",
              "      height: 32px;\n",
              "      padding: 0 0 0 0;\n",
              "      width: 32px;\n",
              "    }\n",
              "\n",
              "    .colab-df-convert:hover {\n",
              "      background-color: #E2EBFA;\n",
              "      box-shadow: 0px 1px 2px rgba(60, 64, 67, 0.3), 0px 1px 3px 1px rgba(60, 64, 67, 0.15);\n",
              "      fill: #174EA6;\n",
              "    }\n",
              "\n",
              "    [theme=dark] .colab-df-convert {\n",
              "      background-color: #3B4455;\n",
              "      fill: #D2E3FC;\n",
              "    }\n",
              "\n",
              "    [theme=dark] .colab-df-convert:hover {\n",
              "      background-color: #434B5C;\n",
              "      box-shadow: 0px 1px 3px 1px rgba(0, 0, 0, 0.15);\n",
              "      filter: drop-shadow(0px 1px 2px rgba(0, 0, 0, 0.3));\n",
              "      fill: #FFFFFF;\n",
              "    }\n",
              "  </style>\n",
              "\n",
              "      <script>\n",
              "        const buttonEl =\n",
              "          document.querySelector('#df-078bc438-3b3f-4ac5-b1ca-e0f14eb602d5 button.colab-df-convert');\n",
              "        buttonEl.style.display =\n",
              "          google.colab.kernel.accessAllowed ? 'block' : 'none';\n",
              "\n",
              "        async function convertToInteractive(key) {\n",
              "          const element = document.querySelector('#df-078bc438-3b3f-4ac5-b1ca-e0f14eb602d5');\n",
              "          const dataTable =\n",
              "            await google.colab.kernel.invokeFunction('convertToInteractive',\n",
              "                                                     [key], {});\n",
              "          if (!dataTable) return;\n",
              "\n",
              "          const docLinkHtml = 'Like what you see? Visit the ' +\n",
              "            '<a target=\"_blank\" href=https://colab.research.google.com/notebooks/data_table.ipynb>data table notebook</a>'\n",
              "            + ' to learn more about interactive tables.';\n",
              "          element.innerHTML = '';\n",
              "          dataTable['output_type'] = 'display_data';\n",
              "          await google.colab.output.renderOutput(dataTable, element);\n",
              "          const docLink = document.createElement('div');\n",
              "          docLink.innerHTML = docLinkHtml;\n",
              "          element.appendChild(docLink);\n",
              "        }\n",
              "      </script>\n",
              "    </div>\n",
              "  </div>\n",
              "  "
            ]
          },
          "metadata": {},
          "execution_count": 67
        }
      ]
    },
    {
      "cell_type": "code",
      "source": [
        "Sort = ['January','February','March','April','May','June','July','August','September','October','November','December']\n",
        "df5 = df5.reindex(Sort)\n",
        "df5"
      ],
      "metadata": {
        "colab": {
          "base_uri": "https://localhost:8080/",
          "height": 457
        },
        "id": "2_DKd2n-dPnn",
        "outputId": "640d8c26-9109-4937-df51-63d0d1fef4d3"
      },
      "execution_count": 68,
      "outputs": [
        {
          "output_type": "execute_result",
          "data": {
            "text/plain": [
              "Year       2013   2014   2015   2016   2017\n",
              "Month                                      \n",
              "January    4230   4103   4318   4640   5155\n",
              "February   5615   5696   6294   7582   7955\n",
              "March      7536   8052   8886  10260  11959\n",
              "April      9537   9660  11254  12016  11470\n",
              "May        9945  11013  11640  12789  10068\n",
              "June       8821  10132  11905  12725   7896\n",
              "July       8367   9152   9813   9929   5871\n",
              "August     7390   7568   7943   9748   6310\n",
              "September  7256   8001   8147   9828   6340\n",
              "October    7940   8512   8759   9715   7087\n",
              "November   6354   6475   7337   8503   7353\n",
              "December   4058   4418   4917   5305   4930"
            ],
            "text/html": [
              "\n",
              "  <div id=\"df-da4b297e-8b52-48ba-9825-aa390285098b\">\n",
              "    <div class=\"colab-df-container\">\n",
              "      <div>\n",
              "<style scoped>\n",
              "    .dataframe tbody tr th:only-of-type {\n",
              "        vertical-align: middle;\n",
              "    }\n",
              "\n",
              "    .dataframe tbody tr th {\n",
              "        vertical-align: top;\n",
              "    }\n",
              "\n",
              "    .dataframe thead th {\n",
              "        text-align: right;\n",
              "    }\n",
              "</style>\n",
              "<table border=\"1\" class=\"dataframe\">\n",
              "  <thead>\n",
              "    <tr style=\"text-align: right;\">\n",
              "      <th>Year</th>\n",
              "      <th>2013</th>\n",
              "      <th>2014</th>\n",
              "      <th>2015</th>\n",
              "      <th>2016</th>\n",
              "      <th>2017</th>\n",
              "    </tr>\n",
              "    <tr>\n",
              "      <th>Month</th>\n",
              "      <th></th>\n",
              "      <th></th>\n",
              "      <th></th>\n",
              "      <th></th>\n",
              "      <th></th>\n",
              "    </tr>\n",
              "  </thead>\n",
              "  <tbody>\n",
              "    <tr>\n",
              "      <th>January</th>\n",
              "      <td>4230</td>\n",
              "      <td>4103</td>\n",
              "      <td>4318</td>\n",
              "      <td>4640</td>\n",
              "      <td>5155</td>\n",
              "    </tr>\n",
              "    <tr>\n",
              "      <th>February</th>\n",
              "      <td>5615</td>\n",
              "      <td>5696</td>\n",
              "      <td>6294</td>\n",
              "      <td>7582</td>\n",
              "      <td>7955</td>\n",
              "    </tr>\n",
              "    <tr>\n",
              "      <th>March</th>\n",
              "      <td>7536</td>\n",
              "      <td>8052</td>\n",
              "      <td>8886</td>\n",
              "      <td>10260</td>\n",
              "      <td>11959</td>\n",
              "    </tr>\n",
              "    <tr>\n",
              "      <th>April</th>\n",
              "      <td>9537</td>\n",
              "      <td>9660</td>\n",
              "      <td>11254</td>\n",
              "      <td>12016</td>\n",
              "      <td>11470</td>\n",
              "    </tr>\n",
              "    <tr>\n",
              "      <th>May</th>\n",
              "      <td>9945</td>\n",
              "      <td>11013</td>\n",
              "      <td>11640</td>\n",
              "      <td>12789</td>\n",
              "      <td>10068</td>\n",
              "    </tr>\n",
              "    <tr>\n",
              "      <th>June</th>\n",
              "      <td>8821</td>\n",
              "      <td>10132</td>\n",
              "      <td>11905</td>\n",
              "      <td>12725</td>\n",
              "      <td>7896</td>\n",
              "    </tr>\n",
              "    <tr>\n",
              "      <th>July</th>\n",
              "      <td>8367</td>\n",
              "      <td>9152</td>\n",
              "      <td>9813</td>\n",
              "      <td>9929</td>\n",
              "      <td>5871</td>\n",
              "    </tr>\n",
              "    <tr>\n",
              "      <th>August</th>\n",
              "      <td>7390</td>\n",
              "      <td>7568</td>\n",
              "      <td>7943</td>\n",
              "      <td>9748</td>\n",
              "      <td>6310</td>\n",
              "    </tr>\n",
              "    <tr>\n",
              "      <th>September</th>\n",
              "      <td>7256</td>\n",
              "      <td>8001</td>\n",
              "      <td>8147</td>\n",
              "      <td>9828</td>\n",
              "      <td>6340</td>\n",
              "    </tr>\n",
              "    <tr>\n",
              "      <th>October</th>\n",
              "      <td>7940</td>\n",
              "      <td>8512</td>\n",
              "      <td>8759</td>\n",
              "      <td>9715</td>\n",
              "      <td>7087</td>\n",
              "    </tr>\n",
              "    <tr>\n",
              "      <th>November</th>\n",
              "      <td>6354</td>\n",
              "      <td>6475</td>\n",
              "      <td>7337</td>\n",
              "      <td>8503</td>\n",
              "      <td>7353</td>\n",
              "    </tr>\n",
              "    <tr>\n",
              "      <th>December</th>\n",
              "      <td>4058</td>\n",
              "      <td>4418</td>\n",
              "      <td>4917</td>\n",
              "      <td>5305</td>\n",
              "      <td>4930</td>\n",
              "    </tr>\n",
              "  </tbody>\n",
              "</table>\n",
              "</div>\n",
              "      <button class=\"colab-df-convert\" onclick=\"convertToInteractive('df-da4b297e-8b52-48ba-9825-aa390285098b')\"\n",
              "              title=\"Convert this dataframe to an interactive table.\"\n",
              "              style=\"display:none;\">\n",
              "        \n",
              "  <svg xmlns=\"http://www.w3.org/2000/svg\" height=\"24px\"viewBox=\"0 0 24 24\"\n",
              "       width=\"24px\">\n",
              "    <path d=\"M0 0h24v24H0V0z\" fill=\"none\"/>\n",
              "    <path d=\"M18.56 5.44l.94 2.06.94-2.06 2.06-.94-2.06-.94-.94-2.06-.94 2.06-2.06.94zm-11 1L8.5 8.5l.94-2.06 2.06-.94-2.06-.94L8.5 2.5l-.94 2.06-2.06.94zm10 10l.94 2.06.94-2.06 2.06-.94-2.06-.94-.94-2.06-.94 2.06-2.06.94z\"/><path d=\"M17.41 7.96l-1.37-1.37c-.4-.4-.92-.59-1.43-.59-.52 0-1.04.2-1.43.59L10.3 9.45l-7.72 7.72c-.78.78-.78 2.05 0 2.83L4 21.41c.39.39.9.59 1.41.59.51 0 1.02-.2 1.41-.59l7.78-7.78 2.81-2.81c.8-.78.8-2.07 0-2.86zM5.41 20L4 18.59l7.72-7.72 1.47 1.35L5.41 20z\"/>\n",
              "  </svg>\n",
              "      </button>\n",
              "      \n",
              "  <style>\n",
              "    .colab-df-container {\n",
              "      display:flex;\n",
              "      flex-wrap:wrap;\n",
              "      gap: 12px;\n",
              "    }\n",
              "\n",
              "    .colab-df-convert {\n",
              "      background-color: #E8F0FE;\n",
              "      border: none;\n",
              "      border-radius: 50%;\n",
              "      cursor: pointer;\n",
              "      display: none;\n",
              "      fill: #1967D2;\n",
              "      height: 32px;\n",
              "      padding: 0 0 0 0;\n",
              "      width: 32px;\n",
              "    }\n",
              "\n",
              "    .colab-df-convert:hover {\n",
              "      background-color: #E2EBFA;\n",
              "      box-shadow: 0px 1px 2px rgba(60, 64, 67, 0.3), 0px 1px 3px 1px rgba(60, 64, 67, 0.15);\n",
              "      fill: #174EA6;\n",
              "    }\n",
              "\n",
              "    [theme=dark] .colab-df-convert {\n",
              "      background-color: #3B4455;\n",
              "      fill: #D2E3FC;\n",
              "    }\n",
              "\n",
              "    [theme=dark] .colab-df-convert:hover {\n",
              "      background-color: #434B5C;\n",
              "      box-shadow: 0px 1px 3px 1px rgba(0, 0, 0, 0.15);\n",
              "      filter: drop-shadow(0px 1px 2px rgba(0, 0, 0, 0.3));\n",
              "      fill: #FFFFFF;\n",
              "    }\n",
              "  </style>\n",
              "\n",
              "      <script>\n",
              "        const buttonEl =\n",
              "          document.querySelector('#df-da4b297e-8b52-48ba-9825-aa390285098b button.colab-df-convert');\n",
              "        buttonEl.style.display =\n",
              "          google.colab.kernel.accessAllowed ? 'block' : 'none';\n",
              "\n",
              "        async function convertToInteractive(key) {\n",
              "          const element = document.querySelector('#df-da4b297e-8b52-48ba-9825-aa390285098b');\n",
              "          const dataTable =\n",
              "            await google.colab.kernel.invokeFunction('convertToInteractive',\n",
              "                                                     [key], {});\n",
              "          if (!dataTable) return;\n",
              "\n",
              "          const docLinkHtml = 'Like what you see? Visit the ' +\n",
              "            '<a target=\"_blank\" href=https://colab.research.google.com/notebooks/data_table.ipynb>data table notebook</a>'\n",
              "            + ' to learn more about interactive tables.';\n",
              "          element.innerHTML = '';\n",
              "          dataTable['output_type'] = 'display_data';\n",
              "          await google.colab.output.renderOutput(dataTable, element);\n",
              "          const docLink = document.createElement('div');\n",
              "          docLink.innerHTML = docLinkHtml;\n",
              "          element.appendChild(docLink);\n",
              "        }\n",
              "      </script>\n",
              "    </div>\n",
              "  </div>\n",
              "  "
            ]
          },
          "metadata": {},
          "execution_count": 68
        }
      ]
    },
    {
      "cell_type": "markdown",
      "source": [
        "2. In one figure, plot 5 lines (one line per year) with the monthly sales versus the month\n",
        "of the year."
      ],
      "metadata": {
        "id": "EffCE6RZdsbw"
      }
    },
    {
      "cell_type": "code",
      "source": [
        "df5.plot(title = 'monthly sales versus the month of the year',figsize = (10,5))\n",
        "plt.show()"
      ],
      "metadata": {
        "colab": {
          "base_uri": "https://localhost:8080/",
          "height": 350
        },
        "id": "RBHWlNXKdn9m",
        "outputId": "f789d8cb-d451-46b6-ac1f-9ad6626ad3f9"
      },
      "execution_count": 69,
      "outputs": [
        {
          "output_type": "display_data",
          "data": {
            "text/plain": [
              "<Figure size 720x360 with 1 Axes>"
            ],
            "image/png": "[encoded data removed]"
          },
          "metadata": {
            "needs_background": "light"
          }
        }
      ]
    },
    {
      "cell_type": "markdown",
      "source": [
        " Calculate the total Sales per year and create a bar chart. Do this in two different ways:\n",
        "a) group by year the table pre-pivoting, b) summing up the five columns post-pivoting"
      ],
      "metadata": {
        "id": "nPrx933peDqf"
      }
    },
    {
      "cell_type": "code",
      "source": [
        "df4.groupby('Year')['Sales'].sum().plot.bar()\n",
        "plt.title('Method A')\n",
        "plt.show()"
      ],
      "metadata": {
        "colab": {
          "base_uri": "https://localhost:8080/",
          "height": 311
        },
        "id": "PJxPenpUd9hA",
        "outputId": "9c376ed9-0580-4fc4-e349-ca42d8511578"
      },
      "execution_count": 73,
      "outputs": [
        {
          "output_type": "display_data",
          "data": {
            "text/plain": [
              "<Figure size 432x288 with 1 Axes>"
            ],
            "image/png": "[encoded data removed]"
          },
          "metadata": {
            "needs_background": "light"
          }
        }
      ]
    },
    {
      "cell_type": "code",
      "source": [
        "df5.sum().plot.bar()\n",
        "plt.title('Method B')\n",
        "plt.show()"
      ],
      "metadata": {
        "colab": {
          "base_uri": "https://localhost:8080/",
          "height": 311
        },
        "id": "EHxgsw6LhC4a",
        "outputId": "d4eb25df-5e0c-4d2f-ed10-3ffb03088a80"
      },
      "execution_count": 74,
      "outputs": [
        {
          "output_type": "display_data",
          "data": {
            "text/plain": [
              "<Figure size 432x288 with 1 Axes>"
            ],
            "image/png": "[encoded data removed]"
          },
          "metadata": {
            "needs_background": "light"
          }
        }
      ]
    }
  ]
}