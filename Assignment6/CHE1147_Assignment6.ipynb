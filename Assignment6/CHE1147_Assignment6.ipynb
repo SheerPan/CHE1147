{
  "nbformat": 4,
  "nbformat_minor": 0,
  "metadata": {
    "colab": {
      "provenance": []
    },
    "kernelspec": {
      "name": "python3",
      "display_name": "Python 3"
    },
    "language_info": {
      "name": "python"
    }
  },
  "cells": [
    {
      "cell_type": "code",
      "execution_count": 1,
      "metadata": {
        "id": "H8zrgATbQWdr"
      },
      "outputs": [],
      "source": [
        "import pandas as pd\n",
        "import numpy as np\n",
        "import matplotlib.pyplot as plt\n",
        "import seaborn as sns"
      ]
    },
    {
      "cell_type": "markdown",
      "source": [
        "# **1 Model performance**"
      ],
      "metadata": {
        "id": "eZZy6t63QXT3"
      }
    },
    {
      "cell_type": "markdown",
      "source": [
        "**1.1 Dataset size vs model performance**"
      ],
      "metadata": {
        "id": "1IJli6D7QwVM"
      }
    },
    {
      "cell_type": "markdown",
      "source": [
        "1. Split the train/test sets with 9:1 ratio This split should give you approximately 291k/32k\n",
        "samples in train/test set, respectively."
      ],
      "metadata": {
        "id": "9ryTvPV3Q0zK"
      }
    },
    {
      "cell_type": "code",
      "source": [
        "from google.colab import drive\n",
        "drive.mount('/content/drive')"
      ],
      "metadata": {
        "colab": {
          "base_uri": "https://localhost:8080/"
        },
        "id": "X0nI0k5AjGJi",
        "outputId": "9f5551e7-17d0-4827-a99d-7d503066eaeb"
      },
      "execution_count": 2,
      "outputs": [
        {
          "output_type": "stream",
          "name": "stdout",
          "text": [
            "Mounted at /content/drive\n"
          ]
        }
      ]
    },
    {
      "cell_type": "code",
      "source": [
        "Data_Response = pd.read_csv('drive/MyDrive/CHE1147/A3/Retail_Data_Response.csv')"
      ],
      "metadata": {
        "id": "BqGqzlgNltMV"
      },
      "execution_count": 6,
      "outputs": []
    },
    {
      "cell_type": "code",
      "source": [
        "mth_rolling_features = pd.read_excel('drive/MyDrive/CHE1147/A3/mth_rolling_features.xlsx')\n",
        "mth_rolling_features = mth_rolling_features.drop('Unnamed: 0', axis = 1)\n",
        "mth_rolling_features = mth_rolling_features.fillna(0)"
      ],
      "metadata": {
        "id": "V73VOncOn3NB"
      },
      "execution_count": 7,
      "outputs": []
    },
    {
      "cell_type": "code",
      "source": [
        "mth_day_counts = pd.read_excel('drive/MyDrive/CHE1147/A3/mth_day_counts.xlsx')\n",
        "mth_day_counts = mth_day_counts.drop('Unnamed: 0', axis = 1)"
      ],
      "metadata": {
        "id": "D9WGFQvSxxbZ"
      },
      "execution_count": 3,
      "outputs": []
    },
    {
      "cell_type": "code",
      "source": [
        "day_since_last_txn = pd.read_excel('drive/MyDrive/CHE1147/A3/days_since_last_txn.xlsx')\n",
        "day_since_last_txn = day_since_last_txn.drop('Unnamed: 0', axis = 1)"
      ],
      "metadata": {
        "id": "Fw6Nt-s1xzPB"
      },
      "execution_count": 4,
      "outputs": []
    },
    {
      "cell_type": "code",
      "source": [
        "mth_features_merge = pd.merge(mth_rolling_features, mth_day_counts, on = ['CLNT_NO', 'ME_DT']).merge(day_since_last_txn, on = ['CLNT_NO', 'ME_DT']).merge(Data_Response.rename(columns={'customer_id': 'CLNT_NO'}), on = 'CLNT_NO')\n",
        "mth_features_merge.head() "
      ],
      "metadata": {
        "colab": {
          "base_uri": "https://localhost:8080/",
          "height": 386
        },
        "id": "R6q_FZE2x1Fb",
        "outputId": "19c904e0-6997-41cd-996a-377ae6d161c1"
      },
      "execution_count": 8,
      "outputs": [
        {
          "output_type": "execute_result",
          "data": {
            "text/plain": [
              "  CLNT_NO      ME_DT  mth_txn_amt_sum  mth_txn_cnt  amt_sum_3M  amt_mean_3M  \\\n",
              "0  CS1112 2011-05-31                0            0         0.0     0.000000   \n",
              "1  CS1112 2011-06-30               56            1         0.0     0.000000   \n",
              "2  CS1112 2011-07-31                0            0        56.0    18.666667   \n",
              "3  CS1112 2011-08-31               96            1       152.0    50.666667   \n",
              "4  CS1112 2011-09-30                0            0        96.0    32.000000   \n",
              "\n",
              "   amt_max_3M  txn_cnt_sum_3M  txn_cnt_mean_3M  txn_cnt_max_3M  ...  \\\n",
              "0         0.0             0.0         0.000000             0.0  ...   \n",
              "1         0.0             0.0         0.000000             0.0  ...   \n",
              "2        56.0             1.0         0.333333             1.0  ...   \n",
              "3        96.0             2.0         0.666667             1.0  ...   \n",
              "4        96.0             1.0         0.333333             1.0  ...   \n",
              "\n",
              "   txn_cnt_max_12M  cnt_Friday  cnt_Monday  cnt_Saturday  cnt_Sunday  \\\n",
              "0              0.0           0           0             0           0   \n",
              "1              0.0           0           0             0           0   \n",
              "2              0.0           0           0             0           0   \n",
              "3              0.0           1           0             0           0   \n",
              "4              0.0           0           0             0           0   \n",
              "\n",
              "   cnt_Thursday  cnt_Tuesday  cnt_Wednesday  days_since_last_txn  response  \n",
              "0             0            0              0                   -1         0  \n",
              "1             0            0              1                   15         0  \n",
              "2             0            0              0                   46         0  \n",
              "3             0            0              0                   12         0  \n",
              "4             0            0              0                   42         0  \n",
              "\n",
              "[5 rows x 31 columns]"
            ],
            "text/html": [
              "\n",
              "  <div id=\"df-b454b67a-1f61-4cca-909b-b912f3fb2ded\">\n",
              "    <div class=\"colab-df-container\">\n",
              "      <div>\n",
              "<style scoped>\n",
              "    .dataframe tbody tr th:only-of-type {\n",
              "        vertical-align: middle;\n",
              "    }\n",
              "\n",
              "    .dataframe tbody tr th {\n",
              "        vertical-align: top;\n",
              "    }\n",
              "\n",
              "    .dataframe thead th {\n",
              "        text-align: right;\n",
              "    }\n",
              "</style>\n",
              "<table border=\"1\" class=\"dataframe\">\n",
              "  <thead>\n",
              "    <tr style=\"text-align: right;\">\n",
              "      <th></th>\n",
              "      <th>CLNT_NO</th>\n",
              "      <th>ME_DT</th>\n",
              "      <th>mth_txn_amt_sum</th>\n",
              "      <th>mth_txn_cnt</th>\n",
              "      <th>amt_sum_3M</th>\n",
              "      <th>amt_mean_3M</th>\n",
              "      <th>amt_max_3M</th>\n",
              "      <th>txn_cnt_sum_3M</th>\n",
              "      <th>txn_cnt_mean_3M</th>\n",
              "      <th>txn_cnt_max_3M</th>\n",
              "      <th>...</th>\n",
              "      <th>txn_cnt_max_12M</th>\n",
              "      <th>cnt_Friday</th>\n",
              "      <th>cnt_Monday</th>\n",
              "      <th>cnt_Saturday</th>\n",
              "      <th>cnt_Sunday</th>\n",
              "      <th>cnt_Thursday</th>\n",
              "      <th>cnt_Tuesday</th>\n",
              "      <th>cnt_Wednesday</th>\n",
              "      <th>days_since_last_txn</th>\n",
              "      <th>response</th>\n",
              "    </tr>\n",
              "  </thead>\n",
              "  <tbody>\n",
              "    <tr>\n",
              "      <th>0</th>\n",
              "      <td>CS1112</td>\n",
              "      <td>2011-05-31</td>\n",
              "      <td>0</td>\n",
              "      <td>0</td>\n",
              "      <td>0.0</td>\n",
              "      <td>0.000000</td>\n",
              "      <td>0.0</td>\n",
              "      <td>0.0</td>\n",
              "      <td>0.000000</td>\n",
              "      <td>0.0</td>\n",
              "      <td>...</td>\n",
              "      <td>0.0</td>\n",
              "      <td>0</td>\n",
              "      <td>0</td>\n",
              "      <td>0</td>\n",
              "      <td>0</td>\n",
              "      <td>0</td>\n",
              "      <td>0</td>\n",
              "      <td>0</td>\n",
              "      <td>-1</td>\n",
              "      <td>0</td>\n",
              "    </tr>\n",
              "    <tr>\n",
              "      <th>1</th>\n",
              "      <td>CS1112</td>\n",
              "      <td>2011-06-30</td>\n",
              "      <td>56</td>\n",
              "      <td>1</td>\n",
              "      <td>0.0</td>\n",
              "      <td>0.000000</td>\n",
              "      <td>0.0</td>\n",
              "      <td>0.0</td>\n",
              "      <td>0.000000</td>\n",
              "      <td>0.0</td>\n",
              "      <td>...</td>\n",
              "      <td>0.0</td>\n",
              "      <td>0</td>\n",
              "      <td>0</td>\n",
              "      <td>0</td>\n",
              "      <td>0</td>\n",
              "      <td>0</td>\n",
              "      <td>0</td>\n",
              "      <td>1</td>\n",
              "      <td>15</td>\n",
              "      <td>0</td>\n",
              "    </tr>\n",
              "    <tr>\n",
              "      <th>2</th>\n",
              "      <td>CS1112</td>\n",
              "      <td>2011-07-31</td>\n",
              "      <td>0</td>\n",
              "      <td>0</td>\n",
              "      <td>56.0</td>\n",
              "      <td>18.666667</td>\n",
              "      <td>56.0</td>\n",
              "      <td>1.0</td>\n",
              "      <td>0.333333</td>\n",
              "      <td>1.0</td>\n",
              "      <td>...</td>\n",
              "      <td>0.0</td>\n",
              "      <td>0</td>\n",
              "      <td>0</td>\n",
              "      <td>0</td>\n",
              "      <td>0</td>\n",
              "      <td>0</td>\n",
              "      <td>0</td>\n",
              "      <td>0</td>\n",
              "      <td>46</td>\n",
              "      <td>0</td>\n",
              "    </tr>\n",
              "    <tr>\n",
              "      <th>3</th>\n",
              "      <td>CS1112</td>\n",
              "      <td>2011-08-31</td>\n",
              "      <td>96</td>\n",
              "      <td>1</td>\n",
              "      <td>152.0</td>\n",
              "      <td>50.666667</td>\n",
              "      <td>96.0</td>\n",
              "      <td>2.0</td>\n",
              "      <td>0.666667</td>\n",
              "      <td>1.0</td>\n",
              "      <td>...</td>\n",
              "      <td>0.0</td>\n",
              "      <td>1</td>\n",
              "      <td>0</td>\n",
              "      <td>0</td>\n",
              "      <td>0</td>\n",
              "      <td>0</td>\n",
              "      <td>0</td>\n",
              "      <td>0</td>\n",
              "      <td>12</td>\n",
              "      <td>0</td>\n",
              "    </tr>\n",
              "    <tr>\n",
              "      <th>4</th>\n",
              "      <td>CS1112</td>\n",
              "      <td>2011-09-30</td>\n",
              "      <td>0</td>\n",
              "      <td>0</td>\n",
              "      <td>96.0</td>\n",
              "      <td>32.000000</td>\n",
              "      <td>96.0</td>\n",
              "      <td>1.0</td>\n",
              "      <td>0.333333</td>\n",
              "      <td>1.0</td>\n",
              "      <td>...</td>\n",
              "      <td>0.0</td>\n",
              "      <td>0</td>\n",
              "      <td>0</td>\n",
              "      <td>0</td>\n",
              "      <td>0</td>\n",
              "      <td>0</td>\n",
              "      <td>0</td>\n",
              "      <td>0</td>\n",
              "      <td>42</td>\n",
              "      <td>0</td>\n",
              "    </tr>\n",
              "  </tbody>\n",
              "</table>\n",
              "<p>5 rows × 31 columns</p>\n",
              "</div>\n",
              "      <button class=\"colab-df-convert\" onclick=\"convertToInteractive('df-b454b67a-1f61-4cca-909b-b912f3fb2ded')\"\n",
              "              title=\"Convert this dataframe to an interactive table.\"\n",
              "              style=\"display:none;\">\n",
              "        \n",
              "  <svg xmlns=\"http://www.w3.org/2000/svg\" height=\"24px\"viewBox=\"0 0 24 24\"\n",
              "       width=\"24px\">\n",
              "    <path d=\"M0 0h24v24H0V0z\" fill=\"none\"/>\n",
              "    <path d=\"M18.56 5.44l.94 2.06.94-2.06 2.06-.94-2.06-.94-.94-2.06-.94 2.06-2.06.94zm-11 1L8.5 8.5l.94-2.06 2.06-.94-2.06-.94L8.5 2.5l-.94 2.06-2.06.94zm10 10l.94 2.06.94-2.06 2.06-.94-2.06-.94-.94-2.06-.94 2.06-2.06.94z\"/><path d=\"M17.41 7.96l-1.37-1.37c-.4-.4-.92-.59-1.43-.59-.52 0-1.04.2-1.43.59L10.3 9.45l-7.72 7.72c-.78.78-.78 2.05 0 2.83L4 21.41c.39.39.9.59 1.41.59.51 0 1.02-.2 1.41-.59l7.78-7.78 2.81-2.81c.8-.78.8-2.07 0-2.86zM5.41 20L4 18.59l7.72-7.72 1.47 1.35L5.41 20z\"/>\n",
              "  </svg>\n",
              "      </button>\n",
              "      \n",
              "  <style>\n",
              "    .colab-df-container {\n",
              "      display:flex;\n",
              "      flex-wrap:wrap;\n",
              "      gap: 12px;\n",
              "    }\n",
              "\n",
              "    .colab-df-convert {\n",
              "      background-color: #E8F0FE;\n",
              "      border: none;\n",
              "      border-radius: 50%;\n",
              "      cursor: pointer;\n",
              "      display: none;\n",
              "      fill: #1967D2;\n",
              "      height: 32px;\n",
              "      padding: 0 0 0 0;\n",
              "      width: 32px;\n",
              "    }\n",
              "\n",
              "    .colab-df-convert:hover {\n",
              "      background-color: #E2EBFA;\n",
              "      box-shadow: 0px 1px 2px rgba(60, 64, 67, 0.3), 0px 1px 3px 1px rgba(60, 64, 67, 0.15);\n",
              "      fill: #174EA6;\n",
              "    }\n",
              "\n",
              "    [theme=dark] .colab-df-convert {\n",
              "      background-color: #3B4455;\n",
              "      fill: #D2E3FC;\n",
              "    }\n",
              "\n",
              "    [theme=dark] .colab-df-convert:hover {\n",
              "      background-color: #434B5C;\n",
              "      box-shadow: 0px 1px 3px 1px rgba(0, 0, 0, 0.15);\n",
              "      filter: drop-shadow(0px 1px 2px rgba(0, 0, 0, 0.3));\n",
              "      fill: #FFFFFF;\n",
              "    }\n",
              "  </style>\n",
              "\n",
              "      <script>\n",
              "        const buttonEl =\n",
              "          document.querySelector('#df-b454b67a-1f61-4cca-909b-b912f3fb2ded button.colab-df-convert');\n",
              "        buttonEl.style.display =\n",
              "          google.colab.kernel.accessAllowed ? 'block' : 'none';\n",
              "\n",
              "        async function convertToInteractive(key) {\n",
              "          const element = document.querySelector('#df-b454b67a-1f61-4cca-909b-b912f3fb2ded');\n",
              "          const dataTable =\n",
              "            await google.colab.kernel.invokeFunction('convertToInteractive',\n",
              "                                                     [key], {});\n",
              "          if (!dataTable) return;\n",
              "\n",
              "          const docLinkHtml = 'Like what you see? Visit the ' +\n",
              "            '<a target=\"_blank\" href=https://colab.research.google.com/notebooks/data_table.ipynb>data table notebook</a>'\n",
              "            + ' to learn more about interactive tables.';\n",
              "          element.innerHTML = '';\n",
              "          dataTable['output_type'] = 'display_data';\n",
              "          await google.colab.output.renderOutput(dataTable, element);\n",
              "          const docLink = document.createElement('div');\n",
              "          docLink.innerHTML = docLinkHtml;\n",
              "          element.appendChild(docLink);\n",
              "        }\n",
              "      </script>\n",
              "    </div>\n",
              "  </div>\n",
              "  "
            ]
          },
          "metadata": {},
          "execution_count": 8
        }
      ]
    },
    {
      "cell_type": "code",
      "source": [
        "y = mth_features_merge['response']\n",
        "X = mth_features_merge.drop(['CLNT_NO', 'response', 'ME_DT'], axis = 1)"
      ],
      "metadata": {
        "id": "3vf6AoMKwVAV"
      },
      "execution_count": 9,
      "outputs": []
    },
    {
      "cell_type": "code",
      "source": [
        "from sklearn.model_selection import train_test_split, GridSearchCV"
      ],
      "metadata": {
        "id": "MFsxPH9TTUkz"
      },
      "execution_count": 10,
      "outputs": []
    },
    {
      "cell_type": "code",
      "source": [
        "X_train, X_test, y_train, y_test = train_test_split(X, y, test_size=0.1)"
      ],
      "metadata": {
        "id": "-GbvvztkTVZ8"
      },
      "execution_count": 12,
      "outputs": []
    },
    {
      "cell_type": "markdown",
      "source": [
        "2. Initialize and create a for loop in which you take N samples (e.g. 50), build a tree\n",
        "model with the N samples and evaluate the test set AUC. Repeat the sampling process\n",
        "10 times and append the test set AUC. The following table shows the desired output:(table on PDF)\n",
        "\n",
        "From this table, you can calculate the mean and standard deviation of the test AUC\n",
        "for N samples."
      ],
      "metadata": {
        "id": "A4X2AhmITklx"
      }
    },
    {
      "cell_type": "code",
      "source": [
        "from sklearn.metrics import confusion_matrix, classification_report, accuracy_score, roc_curve, auc, roc_auc_score\n",
        "from sklearn.preprocessing import StandardScaler\n",
        "from sklearn.tree import DecisionTreeClassifier, plot_tree"
      ],
      "metadata": {
        "id": "6MBcT9dPTzXA"
      },
      "execution_count": 13,
      "outputs": []
    },
    {
      "cell_type": "code",
      "source": [
        "def tree_model(N):\n",
        "  test_auc = []\n",
        "  for num in range(10):\n",
        "      X_train_new = X_train.sample(n = N)\n",
        "      x_index = X_train_new.index\n",
        "      y_train_new = y_train[x_index]\n",
        "      best_model = DecisionTreeClassifier(max_depth=10, random_state=0, class_weight='balanced') \n",
        "      best_model.fit(X_train_new, y_train_new)\n",
        "      y_test_prob = best_model.predict_proba(X_test)[:,1]\n",
        "      fpr_test, tpr_test, _ = roc_curve(y_test, y_test_prob)\n",
        "      test_auc.append(auc(fpr_test, tpr_test))\n",
        "      test_auc_mean = np.mean(test_auc)\n",
        "      test_auc_std = np.std(test_auc)\n",
        "  return test_auc, test_auc_mean, test_auc_std"
      ],
      "metadata": {
        "id": "yks_SWkHT0Ia"
      },
      "execution_count": 14,
      "outputs": []
    },
    {
      "cell_type": "code",
      "source": [
        "test_auc, test_auc_mean, test_auc_std = tree_model(50)\n",
        "test_auc_table = {'sample': np.arange(1,11),'Test AUC': test_auc}\n",
        "pd.DataFrame(test_auc_table).style.hide_index()"
      ],
      "metadata": {
        "colab": {
          "base_uri": "https://localhost:8080/",
          "height": 363
        },
        "id": "Nxa-6Kt7euhZ",
        "outputId": "d02aab3c-2aef-4e34-d61e-e0fd6d5e9657"
      },
      "execution_count": 15,
      "outputs": [
        {
          "output_type": "execute_result",
          "data": {
            "text/plain": [
              "<pandas.io.formats.style.Styler at 0x7f6f12bd41c0>"
            ],
            "text/html": [
              "<style type=\"text/css\">\n",
              "</style>\n",
              "<table id=\"T_0dcca_\" class=\"dataframe\">\n",
              "  <thead>\n",
              "    <tr>\n",
              "      <th class=\"col_heading level0 col0\" >sample</th>\n",
              "      <th class=\"col_heading level0 col1\" >Test AUC</th>\n",
              "    </tr>\n",
              "  </thead>\n",
              "  <tbody>\n",
              "    <tr>\n",
              "      <td id=\"T_0dcca_row0_col0\" class=\"data row0 col0\" >1</td>\n",
              "      <td id=\"T_0dcca_row0_col1\" class=\"data row0 col1\" >0.513587</td>\n",
              "    </tr>\n",
              "    <tr>\n",
              "      <td id=\"T_0dcca_row1_col0\" class=\"data row1 col0\" >2</td>\n",
              "      <td id=\"T_0dcca_row1_col1\" class=\"data row1 col1\" >0.522975</td>\n",
              "    </tr>\n",
              "    <tr>\n",
              "      <td id=\"T_0dcca_row2_col0\" class=\"data row2 col0\" >3</td>\n",
              "      <td id=\"T_0dcca_row2_col1\" class=\"data row2 col1\" >0.504095</td>\n",
              "    </tr>\n",
              "    <tr>\n",
              "      <td id=\"T_0dcca_row3_col0\" class=\"data row3 col0\" >4</td>\n",
              "      <td id=\"T_0dcca_row3_col1\" class=\"data row3 col1\" >0.530986</td>\n",
              "    </tr>\n",
              "    <tr>\n",
              "      <td id=\"T_0dcca_row4_col0\" class=\"data row4 col0\" >5</td>\n",
              "      <td id=\"T_0dcca_row4_col1\" class=\"data row4 col1\" >0.513013</td>\n",
              "    </tr>\n",
              "    <tr>\n",
              "      <td id=\"T_0dcca_row5_col0\" class=\"data row5 col0\" >6</td>\n",
              "      <td id=\"T_0dcca_row5_col1\" class=\"data row5 col1\" >0.500944</td>\n",
              "    </tr>\n",
              "    <tr>\n",
              "      <td id=\"T_0dcca_row6_col0\" class=\"data row6 col0\" >7</td>\n",
              "      <td id=\"T_0dcca_row6_col1\" class=\"data row6 col1\" >0.501090</td>\n",
              "    </tr>\n",
              "    <tr>\n",
              "      <td id=\"T_0dcca_row7_col0\" class=\"data row7 col0\" >8</td>\n",
              "      <td id=\"T_0dcca_row7_col1\" class=\"data row7 col1\" >0.505036</td>\n",
              "    </tr>\n",
              "    <tr>\n",
              "      <td id=\"T_0dcca_row8_col0\" class=\"data row8 col0\" >9</td>\n",
              "      <td id=\"T_0dcca_row8_col1\" class=\"data row8 col1\" >0.499944</td>\n",
              "    </tr>\n",
              "    <tr>\n",
              "      <td id=\"T_0dcca_row9_col0\" class=\"data row9 col0\" >10</td>\n",
              "      <td id=\"T_0dcca_row9_col1\" class=\"data row9 col1\" >0.520264</td>\n",
              "    </tr>\n",
              "  </tbody>\n",
              "</table>\n"
            ]
          },
          "metadata": {},
          "execution_count": 15
        }
      ]
    },
    {
      "cell_type": "code",
      "source": [
        "test_auc_mean"
      ],
      "metadata": {
        "colab": {
          "base_uri": "https://localhost:8080/"
        },
        "id": "mczoc36Le5Qx",
        "outputId": "f3fffbff-cfab-491e-c7f1-e2995df4f887"
      },
      "execution_count": 16,
      "outputs": [
        {
          "output_type": "execute_result",
          "data": {
            "text/plain": [
              "0.5111934736824203"
            ]
          },
          "metadata": {},
          "execution_count": 16
        }
      ]
    },
    {
      "cell_type": "code",
      "source": [
        "test_auc_std"
      ],
      "metadata": {
        "colab": {
          "base_uri": "https://localhost:8080/"
        },
        "id": "YPQBygwSgH9f",
        "outputId": "438af0df-fcef-4083-c2f1-d1ea18774e87"
      },
      "execution_count": 17,
      "outputs": [
        {
          "output_type": "execute_result",
          "data": {
            "text/plain": [
              "0.010216752096612375"
            ]
          },
          "metadata": {},
          "execution_count": 17
        }
      ]
    },
    {
      "cell_type": "markdown",
      "source": [
        "3. Repeat the procedure you performed in the previous step for different sample size N\n",
        "(e.g. 100, 500, 1000, 2000, 5000, 10000) ."
      ],
      "metadata": {
        "id": "0PbhS4FvgLxm"
      }
    },
    {
      "cell_type": "code",
      "source": [
        "N = [100, 500, 1000, 2000, 5000, 7000, 10000, 15000, 20000, 50000, 70000, 100000]"
      ],
      "metadata": {
        "id": "ayf5HVRhgODg"
      },
      "execution_count": 30,
      "outputs": []
    },
    {
      "cell_type": "code",
      "source": [
        "data = {}\n",
        "data['Mean'] = []\n",
        "data['std'] = []\n",
        "for i in N:\n",
        "  test_auc, test_auc_mean, test_auc_std = tree_model(i)\n",
        "  data['Mean'].append(test_auc_mean)\n",
        "  data['std'].append(test_auc_std)"
      ],
      "metadata": {
        "id": "tHsiAXDOgrtA"
      },
      "execution_count": 31,
      "outputs": []
    },
    {
      "cell_type": "code",
      "source": [
        "df3 = pd.DataFrame(data)"
      ],
      "metadata": {
        "id": "yRhrdPNTg6av"
      },
      "execution_count": 32,
      "outputs": []
    },
    {
      "cell_type": "code",
      "source": [
        "df3.index = N"
      ],
      "metadata": {
        "id": "MaXRRneKh1bU"
      },
      "execution_count": 33,
      "outputs": []
    },
    {
      "cell_type": "markdown",
      "source": [
        "4. Build a table that contains the values of:\n",
        "❼ Sample size N\n",
        "❼ Test AUC mean\n",
        "❼ Test AUC standard deviation"
      ],
      "metadata": {
        "id": "xpRc3Vy2iDoa"
      }
    },
    {
      "cell_type": "code",
      "source": [
        "df3"
      ],
      "metadata": {
        "colab": {
          "base_uri": "https://localhost:8080/",
          "height": 426
        },
        "id": "dkk4mORth_8s",
        "outputId": "83adcd8f-4321-49a7-cd8c-ea08c216b300"
      },
      "execution_count": 34,
      "outputs": [
        {
          "output_type": "execute_result",
          "data": {
            "text/plain": [
              "            Mean       std\n",
              "100     0.507794  0.014838\n",
              "500     0.508793  0.009094\n",
              "1000    0.517779  0.020194\n",
              "2000    0.526969  0.016815\n",
              "5000    0.552797  0.013928\n",
              "7000    0.552867  0.007594\n",
              "10000   0.567288  0.011055\n",
              "15000   0.579016  0.008768\n",
              "20000   0.587558  0.004488\n",
              "50000   0.612730  0.004986\n",
              "70000   0.616325  0.005132\n",
              "100000  0.627575  0.003592"
            ],
            "text/html": [
              "\n",
              "  <div id=\"df-f7412041-8d5d-4f47-81ed-34261e6e2fd4\">\n",
              "    <div class=\"colab-df-container\">\n",
              "      <div>\n",
              "<style scoped>\n",
              "    .dataframe tbody tr th:only-of-type {\n",
              "        vertical-align: middle;\n",
              "    }\n",
              "\n",
              "    .dataframe tbody tr th {\n",
              "        vertical-align: top;\n",
              "    }\n",
              "\n",
              "    .dataframe thead th {\n",
              "        text-align: right;\n",
              "    }\n",
              "</style>\n",
              "<table border=\"1\" class=\"dataframe\">\n",
              "  <thead>\n",
              "    <tr style=\"text-align: right;\">\n",
              "      <th></th>\n",
              "      <th>Mean</th>\n",
              "      <th>std</th>\n",
              "    </tr>\n",
              "  </thead>\n",
              "  <tbody>\n",
              "    <tr>\n",
              "      <th>100</th>\n",
              "      <td>0.507794</td>\n",
              "      <td>0.014838</td>\n",
              "    </tr>\n",
              "    <tr>\n",
              "      <th>500</th>\n",
              "      <td>0.508793</td>\n",
              "      <td>0.009094</td>\n",
              "    </tr>\n",
              "    <tr>\n",
              "      <th>1000</th>\n",
              "      <td>0.517779</td>\n",
              "      <td>0.020194</td>\n",
              "    </tr>\n",
              "    <tr>\n",
              "      <th>2000</th>\n",
              "      <td>0.526969</td>\n",
              "      <td>0.016815</td>\n",
              "    </tr>\n",
              "    <tr>\n",
              "      <th>5000</th>\n",
              "      <td>0.552797</td>\n",
              "      <td>0.013928</td>\n",
              "    </tr>\n",
              "    <tr>\n",
              "      <th>7000</th>\n",
              "      <td>0.552867</td>\n",
              "      <td>0.007594</td>\n",
              "    </tr>\n",
              "    <tr>\n",
              "      <th>10000</th>\n",
              "      <td>0.567288</td>\n",
              "      <td>0.011055</td>\n",
              "    </tr>\n",
              "    <tr>\n",
              "      <th>15000</th>\n",
              "      <td>0.579016</td>\n",
              "      <td>0.008768</td>\n",
              "    </tr>\n",
              "    <tr>\n",
              "      <th>20000</th>\n",
              "      <td>0.587558</td>\n",
              "      <td>0.004488</td>\n",
              "    </tr>\n",
              "    <tr>\n",
              "      <th>50000</th>\n",
              "      <td>0.612730</td>\n",
              "      <td>0.004986</td>\n",
              "    </tr>\n",
              "    <tr>\n",
              "      <th>70000</th>\n",
              "      <td>0.616325</td>\n",
              "      <td>0.005132</td>\n",
              "    </tr>\n",
              "    <tr>\n",
              "      <th>100000</th>\n",
              "      <td>0.627575</td>\n",
              "      <td>0.003592</td>\n",
              "    </tr>\n",
              "  </tbody>\n",
              "</table>\n",
              "</div>\n",
              "      <button class=\"colab-df-convert\" onclick=\"convertToInteractive('df-f7412041-8d5d-4f47-81ed-34261e6e2fd4')\"\n",
              "              title=\"Convert this dataframe to an interactive table.\"\n",
              "              style=\"display:none;\">\n",
              "        \n",
              "  <svg xmlns=\"http://www.w3.org/2000/svg\" height=\"24px\"viewBox=\"0 0 24 24\"\n",
              "       width=\"24px\">\n",
              "    <path d=\"M0 0h24v24H0V0z\" fill=\"none\"/>\n",
              "    <path d=\"M18.56 5.44l.94 2.06.94-2.06 2.06-.94-2.06-.94-.94-2.06-.94 2.06-2.06.94zm-11 1L8.5 8.5l.94-2.06 2.06-.94-2.06-.94L8.5 2.5l-.94 2.06-2.06.94zm10 10l.94 2.06.94-2.06 2.06-.94-2.06-.94-.94-2.06-.94 2.06-2.06.94z\"/><path d=\"M17.41 7.96l-1.37-1.37c-.4-.4-.92-.59-1.43-.59-.52 0-1.04.2-1.43.59L10.3 9.45l-7.72 7.72c-.78.78-.78 2.05 0 2.83L4 21.41c.39.39.9.59 1.41.59.51 0 1.02-.2 1.41-.59l7.78-7.78 2.81-2.81c.8-.78.8-2.07 0-2.86zM5.41 20L4 18.59l7.72-7.72 1.47 1.35L5.41 20z\"/>\n",
              "  </svg>\n",
              "      </button>\n",
              "      \n",
              "  <style>\n",
              "    .colab-df-container {\n",
              "      display:flex;\n",
              "      flex-wrap:wrap;\n",
              "      gap: 12px;\n",
              "    }\n",
              "\n",
              "    .colab-df-convert {\n",
              "      background-color: #E8F0FE;\n",
              "      border: none;\n",
              "      border-radius: 50%;\n",
              "      cursor: pointer;\n",
              "      display: none;\n",
              "      fill: #1967D2;\n",
              "      height: 32px;\n",
              "      padding: 0 0 0 0;\n",
              "      width: 32px;\n",
              "    }\n",
              "\n",
              "    .colab-df-convert:hover {\n",
              "      background-color: #E2EBFA;\n",
              "      box-shadow: 0px 1px 2px rgba(60, 64, 67, 0.3), 0px 1px 3px 1px rgba(60, 64, 67, 0.15);\n",
              "      fill: #174EA6;\n",
              "    }\n",
              "\n",
              "    [theme=dark] .colab-df-convert {\n",
              "      background-color: #3B4455;\n",
              "      fill: #D2E3FC;\n",
              "    }\n",
              "\n",
              "    [theme=dark] .colab-df-convert:hover {\n",
              "      background-color: #434B5C;\n",
              "      box-shadow: 0px 1px 3px 1px rgba(0, 0, 0, 0.15);\n",
              "      filter: drop-shadow(0px 1px 2px rgba(0, 0, 0, 0.3));\n",
              "      fill: #FFFFFF;\n",
              "    }\n",
              "  </style>\n",
              "\n",
              "      <script>\n",
              "        const buttonEl =\n",
              "          document.querySelector('#df-f7412041-8d5d-4f47-81ed-34261e6e2fd4 button.colab-df-convert');\n",
              "        buttonEl.style.display =\n",
              "          google.colab.kernel.accessAllowed ? 'block' : 'none';\n",
              "\n",
              "        async function convertToInteractive(key) {\n",
              "          const element = document.querySelector('#df-f7412041-8d5d-4f47-81ed-34261e6e2fd4');\n",
              "          const dataTable =\n",
              "            await google.colab.kernel.invokeFunction('convertToInteractive',\n",
              "                                                     [key], {});\n",
              "          if (!dataTable) return;\n",
              "\n",
              "          const docLinkHtml = 'Like what you see? Visit the ' +\n",
              "            '<a target=\"_blank\" href=https://colab.research.google.com/notebooks/data_table.ipynb>data table notebook</a>'\n",
              "            + ' to learn more about interactive tables.';\n",
              "          element.innerHTML = '';\n",
              "          dataTable['output_type'] = 'display_data';\n",
              "          await google.colab.output.renderOutput(dataTable, element);\n",
              "          const docLink = document.createElement('div');\n",
              "          docLink.innerHTML = docLinkHtml;\n",
              "          element.appendChild(docLink);\n",
              "        }\n",
              "      </script>\n",
              "    </div>\n",
              "  </div>\n",
              "  "
            ]
          },
          "metadata": {},
          "execution_count": 34
        }
      ]
    },
    {
      "cell_type": "markdown",
      "source": [
        "5. Using the matplotlib function errorbar, plot the model performance captured in the\n",
        "test AUC mean and standard deviation as a function of the sample size. From this\n",
        "plot, can you estimate what is the minimum number of samples needed to model the\n",
        "behaviour adequately?"
      ],
      "metadata": {
        "id": "d6VEAADYiVWB"
      }
    },
    {
      "cell_type": "code",
      "source": [
        "plt.figure(figsize=(15,8))\n",
        "plt.errorbar(N, data['Mean'], yerr=data['std'],marker = '+', ecolor = 'purple') \n",
        "plt.title('Model Performance of different sample size')\n",
        "plt.ylabel('Mean Test AUC')\n",
        "plt.xlabel('Train Sample Size')\n",
        "plt.show()"
      ],
      "metadata": {
        "colab": {
          "base_uri": "https://localhost:8080/",
          "height": 513
        },
        "id": "QwU9PmfoiZD2",
        "outputId": "fc5965b1-5303-4437-bea4-d3c82355575a"
      },
      "execution_count": 35,
      "outputs": [
        {
          "output_type": "display_data",
          "data": {
            "text/plain": [
              "<Figure size 1080x576 with 1 Axes>"
            ],
            "image/png": "[encoded data removed]"
          },
          "metadata": {
            "needs_background": "light"
          }
        }
      ]
    },
    {
      "cell_type": "markdown",
      "source": [
        "From the graph shown above, I can see the gradient before N = 20000 is large and become flat after that. And also the standard devision become smaller after N = 20000. Therefore if we want model behave adequately we need at least 20000 sample points."
      ],
      "metadata": {
        "id": "wi2Fq_xqjX07"
      }
    }
  ]
}